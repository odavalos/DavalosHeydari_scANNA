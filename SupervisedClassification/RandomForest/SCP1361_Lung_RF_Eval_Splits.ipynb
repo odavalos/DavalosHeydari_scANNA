{
 "cells": [
  {
   "cell_type": "markdown",
   "id": "01c0b159-f7bc-4922-afda-a08be57382fb",
   "metadata": {},
   "source": [
    "# scRNAseq Random Forest Model Evaluation - SCP1361"
   ]
  },
  {
   "cell_type": "code",
   "execution_count": 1,
   "id": "ada4d337-72aa-4377-80a2-f4006a5863f3",
   "metadata": {},
   "outputs": [],
   "source": [
    "import joblib\n",
    "import matplotlib.pyplot as plt\n",
    "import numpy as np\n",
    "import os\n",
    "import pandas as pd\n",
    "import pickle\n",
    "import scanpy as sc\n",
    "import seaborn as sns\n",
    "from sklearn.ensemble import RandomForestClassifier\n",
    "from sklearn.metrics import accuracy_score\n",
    "from sklearn.metrics import f1_score\n",
    "from sklearn.metrics import classification_report as class_rep\n",
    "import time"
   ]
  },
  {
   "cell_type": "code",
   "execution_count": 2,
   "id": "c57cad96-4926-417b-a5a7-ebad9d30d108",
   "metadata": {},
   "outputs": [],
   "source": [
    "# Prep\n",
    "dataset_name = 'SCP1361' # label for the dataset\n",
    "dictionary_dir = 'RFSplitDicts' # dir where we save the split dictionaries\n",
    "model_dir = 'Model_Splits' # dir where we save the models"
   ]
  },
  {
   "cell_type": "code",
   "execution_count": 3,
   "id": "94231274-ea72-46da-b60e-d86acb11384b",
   "metadata": {},
   "outputs": [
    {
     "name": "stdout",
     "output_type": "stream",
     "text": [
      "Directory already exists!\n",
      "Directory already exists!\n"
     ]
    }
   ],
   "source": [
    "# Make sure necessary directories are avalible\n",
    "\n",
    "# dictionary dir\n",
    "if not os.path.exists(dictionary_dir):\n",
    "    os.makedirs(dictionary_dir)\n",
    "    print(f\"Directory {dictionary_dir} created for saving split dictionaries\")\n",
    "    \n",
    "else:\n",
    "    print('Directory already exists!')\n",
    "\n",
    "\n",
    "# model dir\n",
    "if not os.path.exists(model_dir):\n",
    "    os.makedirs(model_dir)\n",
    "    print(f\"Directory {model_dir} created for saving the trained models for the splits\")\n",
    "    \n",
    "else:\n",
    "    print('Directory already exists!')"
   ]
  },
  {
   "cell_type": "markdown",
   "id": "63e11f8d-0f77-4295-9b2c-a39204341e7f",
   "metadata": {},
   "source": [
    "Load the dataset and add split columns"
   ]
  },
  {
   "cell_type": "code",
   "execution_count": 4,
   "id": "fe2aad10-c784-47f3-ad6c-3e6e492cf89b",
   "metadata": {},
   "outputs": [],
   "source": [
    "adata = sc.read_h5ad('scp1361_int_minproc_5k_split.h5ad')"
   ]
  },
  {
   "cell_type": "code",
   "execution_count": 5,
   "id": "8e2de475-c5a7-42fb-9416-88d0a3cd523f",
   "metadata": {},
   "outputs": [],
   "source": [
    "metadata = pd.read_csv('../DatasetSplits/Metadata_Splits/SCP1361_metadata_splits.csv')"
   ]
  },
  {
   "cell_type": "code",
   "execution_count": 6,
   "id": "2e3c57ac-d11f-42aa-ac91-588932205ad1",
   "metadata": {},
   "outputs": [
    {
     "name": "stderr",
     "output_type": "stream",
     "text": [
      "/Users/odmini/miniforge3/envs/scrnaseq_torch/lib/python3.10/site-packages/anndata/_core/anndata.py:798: UserWarning: \n",
      "AnnData expects .obs.index to contain strings, but got values like:\n",
      "    [0, 1, 2, 3, 4]\n",
      "\n",
      "    Inferred to be: integer\n",
      "\n",
      "  value_idx = self._prep_dim_index(value.index, attr)\n"
     ]
    }
   ],
   "source": [
    "adata.obs = adata.obs.merge(metadata, left_on='barcodes', right_on='barcodes', copy=False, suffixes=('', '_drop'))\n",
    "adata.obs = adata.obs[adata.obs.columns[~adata.obs.columns.str.endswith('_drop')]]\n",
    "adata.obs.index = adata.obs['index']"
   ]
  },
  {
   "cell_type": "markdown",
   "id": "05417fe7-22c2-457f-8084-f0755581fe35",
   "metadata": {},
   "source": [
    "### Run RandomForest on each split"
   ]
  },
  {
   "cell_type": "code",
   "execution_count": 7,
   "id": "e0689b28-8c8c-4279-9c33-a188715e29c2",
   "metadata": {},
   "outputs": [],
   "source": [
    "splits = [f'Split_{i}' for i in range(1,6)]"
   ]
  },
  {
   "cell_type": "code",
   "execution_count": 8,
   "id": "29e7715a-01ad-4180-b883-d5bef73b74c2",
   "metadata": {},
   "outputs": [],
   "source": [
    "def runSplitRF(adata, split, cluster_col='celltypes'):\n",
    "    \"\"\"\n",
    "    Running RandomForest on multiple splits of the dataset\n",
    "    \"\"\"\n",
    "    \n",
    "    print(f\"Running a Random Forest Classifier on split: {split}\")\n",
    "    \n",
    "    # separating the data based on the split column\n",
    "    adata_train = adata[adata.obs[split] == 'train']\n",
    "    adata_test = adata[adata.obs[split] == 'test']\n",
    "    \n",
    "    # converting data from sparse to dense\n",
    "    X_train = adata_train.raw.X.todense()\n",
    "    X_test = adata_test.raw.X.todense()\n",
    "    \n",
    "    y_train = adata_train.obs[cluster_col].tolist()\n",
    "    y_test = adata_test.obs[cluster_col].tolist()\n",
    "    \n",
    "    # Running the model and calculating runtime\n",
    "    start_time = time.time()\n",
    "    clf = RandomForestClassifier(random_state=2022, n_jobs=4)\n",
    "    clf.fit(X_train, y_train)\n",
    "    end_time = time.time()\n",
    "    total_runtime = (end_time - start_time)\n",
    "    print(f\"RF Runtime: {total_runtime:2.2f}\")\n",
    "    \n",
    "    # generating the predictions\n",
    "    y_pred = clf.predict(X_test)\n",
    "    \n",
    "    # model evaluation\n",
    "    acc = accuracy_score(y_test, y_pred)\n",
    "    print(f'Accuracy: {acc:4.4f}')\n",
    "    \n",
    "    # calculating the precision/recall based multi-label F1 score\n",
    "    macro_score = f1_score(y_test, y_pred, average = 'macro' )\n",
    "    w_score = f1_score(y_test, y_pred,average = 'weighted' )\n",
    "    print(f'    -> Non-Weighted F1 Score on validation set: {macro_score:4.4f} ' )\n",
    "    print(f'    -> Weighted F1 Score on validation set: {w_score:4.4f} ' )\n",
    "    print(class_rep(y_test,y_pred))\n",
    "    \n",
    "    \n",
    "    return clf, total_runtime, acc, macro_score, w_score"
   ]
  },
  {
   "cell_type": "markdown",
   "id": "56a7b7fd-1c53-4cb8-8a5f-02a0a4dad838",
   "metadata": {},
   "source": [
    "### Running"
   ]
  },
  {
   "cell_type": "code",
   "execution_count": 9,
   "id": "05352128-2cf9-455e-90f3-1b2f453bdc68",
   "metadata": {},
   "outputs": [],
   "source": [
    "model_eval = {}"
   ]
  },
  {
   "cell_type": "code",
   "execution_count": 10,
   "id": "60d514ff-c01e-4b53-aec6-a9d4496ab4d5",
   "metadata": {},
   "outputs": [
    {
     "name": "stdout",
     "output_type": "stream",
     "text": [
      "Working on Split: Split_1\n",
      "Running a Random Forest Classifier on split: Split_1\n"
     ]
    },
    {
     "name": "stderr",
     "output_type": "stream",
     "text": [
      "/Users/odmini/miniforge3/envs/scrnaseq_torch/lib/python3.10/site-packages/sklearn/utils/validation.py:727: FutureWarning: np.matrix usage is deprecated in 1.0 and will raise a TypeError in 1.2. Please convert to a numpy array with np.asarray. For more information see: https://numpy.org/doc/stable/reference/generated/numpy.matrix.html\n",
      "  warnings.warn(\n"
     ]
    },
    {
     "name": "stdout",
     "output_type": "stream",
     "text": [
      "RF Runtime: 4.40\n",
      "Accuracy: 0.9333\n",
      "    -> Non-Weighted F1 Score on validation set: 0.9280 \n",
      "    -> Weighted F1 Score on validation set: 0.9316 \n",
      "                    precision    recall  f1-score   support\n",
      "\n",
      "            B cell       0.98      0.98      0.98       572\n",
      "            T cell       0.96      0.96      0.96       254\n",
      "    dendritic cell       0.92      0.96      0.94       195\n",
      "  endothelial cell       0.98      0.94      0.96       181\n",
      "        fibroblast       0.87      0.98      0.92      1486\n",
      "        macrophage       0.98      0.91      0.94       552\n",
      "  mesothelial cell       0.92      0.70      0.80       487\n",
      "       neural cell       0.98      0.94      0.96        52\n",
      "     pericyte cell       0.99      0.72      0.83       140\n",
      "smooth muscle cell       0.99      0.98      0.98       882\n",
      "\n",
      "          accuracy                           0.93      4801\n",
      "         macro avg       0.96      0.91      0.93      4801\n",
      "      weighted avg       0.94      0.93      0.93      4801\n",
      "\n",
      "Working on Split: Split_2\n",
      "Running a Random Forest Classifier on split: Split_2\n"
     ]
    },
    {
     "name": "stderr",
     "output_type": "stream",
     "text": [
      "/Users/odmini/miniforge3/envs/scrnaseq_torch/lib/python3.10/site-packages/sklearn/utils/validation.py:727: FutureWarning: np.matrix usage is deprecated in 1.0 and will raise a TypeError in 1.2. Please convert to a numpy array with np.asarray. For more information see: https://numpy.org/doc/stable/reference/generated/numpy.matrix.html\n",
      "  warnings.warn(\n",
      "/Users/odmini/miniforge3/envs/scrnaseq_torch/lib/python3.10/site-packages/sklearn/utils/validation.py:727: FutureWarning: np.matrix usage is deprecated in 1.0 and will raise a TypeError in 1.2. Please convert to a numpy array with np.asarray. For more information see: https://numpy.org/doc/stable/reference/generated/numpy.matrix.html\n",
      "  warnings.warn(\n"
     ]
    },
    {
     "name": "stdout",
     "output_type": "stream",
     "text": [
      "RF Runtime: 4.31\n",
      "Accuracy: 0.9402\n",
      "    -> Non-Weighted F1 Score on validation set: 0.9299 \n",
      "    -> Weighted F1 Score on validation set: 0.9389 \n",
      "                    precision    recall  f1-score   support\n",
      "\n",
      "            B cell       0.98      0.97      0.97       593\n",
      "            T cell       0.96      0.96      0.96       262\n",
      "    dendritic cell       0.94      0.96      0.95       214\n",
      "  endothelial cell       0.99      0.95      0.97       167\n",
      "        fibroblast       0.88      0.99      0.93      1505\n",
      "        macrophage       0.98      0.94      0.96       563\n",
      "  mesothelial cell       0.94      0.73      0.82       466\n",
      "       neural cell       0.97      0.84      0.90        43\n",
      "     pericyte cell       1.00      0.75      0.86       134\n",
      "smooth muscle cell       0.99      0.98      0.98       854\n",
      "\n",
      "          accuracy                           0.94      4801\n",
      "         macro avg       0.96      0.91      0.93      4801\n",
      "      weighted avg       0.94      0.94      0.94      4801\n",
      "\n",
      "Working on Split: Split_3\n",
      "Running a Random Forest Classifier on split: Split_3\n"
     ]
    },
    {
     "name": "stderr",
     "output_type": "stream",
     "text": [
      "/Users/odmini/miniforge3/envs/scrnaseq_torch/lib/python3.10/site-packages/sklearn/utils/validation.py:727: FutureWarning: np.matrix usage is deprecated in 1.0 and will raise a TypeError in 1.2. Please convert to a numpy array with np.asarray. For more information see: https://numpy.org/doc/stable/reference/generated/numpy.matrix.html\n",
      "  warnings.warn(\n",
      "/Users/odmini/miniforge3/envs/scrnaseq_torch/lib/python3.10/site-packages/sklearn/utils/validation.py:727: FutureWarning: np.matrix usage is deprecated in 1.0 and will raise a TypeError in 1.2. Please convert to a numpy array with np.asarray. For more information see: https://numpy.org/doc/stable/reference/generated/numpy.matrix.html\n",
      "  warnings.warn(\n"
     ]
    },
    {
     "name": "stdout",
     "output_type": "stream",
     "text": [
      "RF Runtime: 4.33\n",
      "Accuracy: 0.9333\n",
      "    -> Non-Weighted F1 Score on validation set: 0.9229 \n",
      "    -> Weighted F1 Score on validation set: 0.9315 \n",
      "                    precision    recall  f1-score   support\n",
      "\n",
      "            B cell       0.97      0.98      0.97       597\n",
      "            T cell       0.95      0.96      0.96       258\n",
      "    dendritic cell       0.92      0.92      0.92       193\n",
      "  endothelial cell       0.99      0.96      0.97       162\n",
      "        fibroblast       0.87      0.98      0.92      1465\n",
      "        macrophage       0.98      0.92      0.95       562\n",
      "  mesothelial cell       0.94      0.70      0.80       464\n",
      "       neural cell       1.00      0.91      0.95        43\n",
      "     pericyte cell       0.99      0.68      0.80       130\n",
      "smooth muscle cell       0.98      0.98      0.98       927\n",
      "\n",
      "          accuracy                           0.93      4801\n",
      "         macro avg       0.96      0.90      0.92      4801\n",
      "      weighted avg       0.94      0.93      0.93      4801\n",
      "\n",
      "Working on Split: Split_4\n",
      "Running a Random Forest Classifier on split: Split_4\n"
     ]
    },
    {
     "name": "stderr",
     "output_type": "stream",
     "text": [
      "/Users/odmini/miniforge3/envs/scrnaseq_torch/lib/python3.10/site-packages/sklearn/utils/validation.py:727: FutureWarning: np.matrix usage is deprecated in 1.0 and will raise a TypeError in 1.2. Please convert to a numpy array with np.asarray. For more information see: https://numpy.org/doc/stable/reference/generated/numpy.matrix.html\n",
      "  warnings.warn(\n",
      "/Users/odmini/miniforge3/envs/scrnaseq_torch/lib/python3.10/site-packages/sklearn/utils/validation.py:727: FutureWarning: np.matrix usage is deprecated in 1.0 and will raise a TypeError in 1.2. Please convert to a numpy array with np.asarray. For more information see: https://numpy.org/doc/stable/reference/generated/numpy.matrix.html\n",
      "  warnings.warn(\n"
     ]
    },
    {
     "name": "stdout",
     "output_type": "stream",
     "text": [
      "RF Runtime: 4.29\n",
      "Accuracy: 0.9311\n",
      "    -> Non-Weighted F1 Score on validation set: 0.9137 \n",
      "    -> Weighted F1 Score on validation set: 0.9290 \n",
      "                    precision    recall  f1-score   support\n",
      "\n",
      "            B cell       0.98      0.98      0.98       584\n",
      "            T cell       0.99      0.98      0.98       262\n",
      "    dendritic cell       0.94      0.95      0.95       171\n",
      "  endothelial cell       0.97      0.91      0.94       148\n",
      "        fibroblast       0.86      0.98      0.92      1537\n",
      "        macrophage       0.97      0.93      0.95       544\n",
      "  mesothelial cell       0.92      0.71      0.80       479\n",
      "       neural cell       1.00      0.76      0.86        41\n",
      "     pericyte cell       1.00      0.64      0.78       148\n",
      "smooth muscle cell       0.98      0.97      0.98       887\n",
      "\n",
      "          accuracy                           0.93      4801\n",
      "         macro avg       0.96      0.88      0.91      4801\n",
      "      weighted avg       0.94      0.93      0.93      4801\n",
      "\n",
      "Working on Split: Split_5\n",
      "Running a Random Forest Classifier on split: Split_5\n"
     ]
    },
    {
     "name": "stderr",
     "output_type": "stream",
     "text": [
      "/Users/odmini/miniforge3/envs/scrnaseq_torch/lib/python3.10/site-packages/sklearn/utils/validation.py:727: FutureWarning: np.matrix usage is deprecated in 1.0 and will raise a TypeError in 1.2. Please convert to a numpy array with np.asarray. For more information see: https://numpy.org/doc/stable/reference/generated/numpy.matrix.html\n",
      "  warnings.warn(\n",
      "/Users/odmini/miniforge3/envs/scrnaseq_torch/lib/python3.10/site-packages/sklearn/utils/validation.py:727: FutureWarning: np.matrix usage is deprecated in 1.0 and will raise a TypeError in 1.2. Please convert to a numpy array with np.asarray. For more information see: https://numpy.org/doc/stable/reference/generated/numpy.matrix.html\n",
      "  warnings.warn(\n"
     ]
    },
    {
     "name": "stdout",
     "output_type": "stream",
     "text": [
      "RF Runtime: 4.29\n",
      "Accuracy: 0.9361\n",
      "    -> Non-Weighted F1 Score on validation set: 0.9259 \n",
      "    -> Weighted F1 Score on validation set: 0.9342 \n",
      "                    precision    recall  f1-score   support\n",
      "\n",
      "            B cell       0.98      0.99      0.98       611\n",
      "            T cell       0.97      0.98      0.97       273\n",
      "    dendritic cell       0.93      0.92      0.93       195\n",
      "  endothelial cell       0.98      0.94      0.96       190\n",
      "        fibroblast       0.87      0.99      0.92      1479\n",
      "        macrophage       0.98      0.95      0.96       519\n",
      "  mesothelial cell       0.95      0.69      0.80       460\n",
      "       neural cell       1.00      0.84      0.91        43\n",
      "     pericyte cell       1.00      0.73      0.85       153\n",
      "smooth muscle cell       0.98      0.97      0.97       878\n",
      "\n",
      "          accuracy                           0.94      4801\n",
      "         macro avg       0.96      0.90      0.93      4801\n",
      "      weighted avg       0.94      0.94      0.93      4801\n",
      "\n"
     ]
    },
    {
     "name": "stderr",
     "output_type": "stream",
     "text": [
      "/Users/odmini/miniforge3/envs/scrnaseq_torch/lib/python3.10/site-packages/sklearn/utils/validation.py:727: FutureWarning: np.matrix usage is deprecated in 1.0 and will raise a TypeError in 1.2. Please convert to a numpy array with np.asarray. For more information see: https://numpy.org/doc/stable/reference/generated/numpy.matrix.html\n",
      "  warnings.warn(\n"
     ]
    }
   ],
   "source": [
    "for i in splits:\n",
    "    \n",
    "    print(f\"Working on Split: {i}\")\n",
    "    \n",
    "    # create a dict for storing current split information\n",
    "    split_dict = {'Runtime':[], \n",
    "                  'Accuracy':[], \n",
    "                  'Macro_Score':[], \n",
    "                  'Weighted_Score':[]}\n",
    "    clf, total_runtime, acc, macro_score, w_score = runSplitRF(adata, \n",
    "                                                               i, \n",
    "                                                               cluster_col='celltypes')\n",
    "    \n",
    "    joblib.dump(clf, f\"./{model_dir}/{dataset_name}_{i}_RF.pkl\")\n",
    "    \n",
    "    split_dict['Runtime'].append(total_runtime)\n",
    "    split_dict['Accuracy'].append(acc)\n",
    "    split_dict['Macro_Score'].append(macro_score)\n",
    "    split_dict['Weighted_Score'].append(w_score)\n",
    "    \n",
    "    model_eval[i]=split_dict\n",
    "    \n",
    "    "
   ]
  },
  {
   "cell_type": "code",
   "execution_count": 11,
   "id": "cb9668a3-25ba-424a-b4b2-8959fcab1d43",
   "metadata": {},
   "outputs": [
    {
     "data": {
      "text/plain": [
       "{'Split_1': {'Runtime': [4.403515815734863],\n",
       "  'Accuracy': [0.9333472193293064],\n",
       "  'Macro_Score': [0.9279795658573183],\n",
       "  'Weighted_Score': [0.9316438646692144]},\n",
       " 'Split_2': {'Runtime': [4.313845872879028],\n",
       "  'Accuracy': [0.9402207873359717],\n",
       "  'Macro_Score': [0.9298528937637307],\n",
       "  'Weighted_Score': [0.9389291290143946]},\n",
       " 'Split_3': {'Runtime': [4.331141710281372],\n",
       "  'Accuracy': [0.9333472193293064],\n",
       "  'Macro_Score': [0.9228658332699078],\n",
       "  'Weighted_Score': [0.9314665347510847]},\n",
       " 'Split_4': {'Runtime': [4.2901411056518555],\n",
       "  'Accuracy': [0.9310560299937513],\n",
       "  'Macro_Score': [0.9137441195313946],\n",
       "  'Weighted_Score': [0.9289988777511095]},\n",
       " 'Split_5': {'Runtime': [4.288583040237427],\n",
       "  'Accuracy': [0.9360549885440533],\n",
       "  'Macro_Score': [0.925885286338105],\n",
       "  'Weighted_Score': [0.9342291782960912]}}"
      ]
     },
     "execution_count": 11,
     "metadata": {},
     "output_type": "execute_result"
    }
   ],
   "source": [
    "model_eval"
   ]
  },
  {
   "cell_type": "markdown",
   "id": "39a94459-786a-49bf-9eec-a69586e6056c",
   "metadata": {},
   "source": [
    "### Save the dictionary with metrics"
   ]
  },
  {
   "cell_type": "code",
   "execution_count": 12,
   "id": "7f998052-64d7-402c-a5aa-614e845091a1",
   "metadata": {},
   "outputs": [],
   "source": [
    "# save the dictionary\n",
    "def Pickler(data, filename):\n",
    "    \n",
    "    outfile = open(filename, 'wb+')\n",
    "    \n",
    "    #source destination\n",
    "    \n",
    "    pickle.dump(data, outfile)\n",
    "    \n",
    "    outfile.close()\n",
    "\n",
    "Pickler(model_eval, filename=f\"{dictionary_dir}/{dataset_name}_RF_EvalDict.pickle\")"
   ]
  },
  {
   "cell_type": "code",
   "execution_count": 13,
   "id": "04340ec5-c828-4a7b-8ea3-73c1aa4be7c0",
   "metadata": {},
   "outputs": [],
   "source": [
    "# to load\n",
    "\n",
    "def Unpickler(filename):\n",
    "    \n",
    "    infile = open(filename, 'rb+')\n",
    "    \n",
    "    return_file = pickle.load(infile);\n",
    "    \n",
    "    infile.close()\n",
    "\n",
    "    return return_file\n",
    "\n",
    "test_loaddict = Unpickler(filename=f\"{dictionary_dir}/{dataset_name}_RF_EvalDict.pickle\")"
   ]
  },
  {
   "cell_type": "code",
   "execution_count": 14,
   "id": "12ea6788-3e6e-4007-91cc-641b565eb2a0",
   "metadata": {},
   "outputs": [
    {
     "data": {
      "text/plain": [
       "{'Split_1': {'Runtime': [4.403515815734863],\n",
       "  'Accuracy': [0.9333472193293064],\n",
       "  'Macro_Score': [0.9279795658573183],\n",
       "  'Weighted_Score': [0.9316438646692144]},\n",
       " 'Split_2': {'Runtime': [4.313845872879028],\n",
       "  'Accuracy': [0.9402207873359717],\n",
       "  'Macro_Score': [0.9298528937637307],\n",
       "  'Weighted_Score': [0.9389291290143946]},\n",
       " 'Split_3': {'Runtime': [4.331141710281372],\n",
       "  'Accuracy': [0.9333472193293064],\n",
       "  'Macro_Score': [0.9228658332699078],\n",
       "  'Weighted_Score': [0.9314665347510847]},\n",
       " 'Split_4': {'Runtime': [4.2901411056518555],\n",
       "  'Accuracy': [0.9310560299937513],\n",
       "  'Macro_Score': [0.9137441195313946],\n",
       "  'Weighted_Score': [0.9289988777511095]},\n",
       " 'Split_5': {'Runtime': [4.288583040237427],\n",
       "  'Accuracy': [0.9360549885440533],\n",
       "  'Macro_Score': [0.925885286338105],\n",
       "  'Weighted_Score': [0.9342291782960912]}}"
      ]
     },
     "execution_count": 14,
     "metadata": {},
     "output_type": "execute_result"
    }
   ],
   "source": [
    "test_loaddict"
   ]
  },
  {
   "cell_type": "code",
   "execution_count": null,
   "id": "ebb691e9-73eb-43fd-b183-c36e78b2d2f1",
   "metadata": {},
   "outputs": [],
   "source": []
  }
 ],
 "metadata": {
  "kernelspec": {
   "display_name": "scrnaseq",
   "language": "python",
   "name": "scrnaseq"
  },
  "language_info": {
   "codemirror_mode": {
    "name": "ipython",
    "version": 3
   },
   "file_extension": ".py",
   "mimetype": "text/x-python",
   "name": "python",
   "nbconvert_exporter": "python",
   "pygments_lexer": "ipython3",
   "version": "3.10.8"
  }
 },
 "nbformat": 4,
 "nbformat_minor": 5
}

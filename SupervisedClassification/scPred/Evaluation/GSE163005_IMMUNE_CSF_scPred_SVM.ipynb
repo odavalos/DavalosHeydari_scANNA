{
 "cells": [
  {
   "cell_type": "markdown",
   "id": "54959847-cd76-4593-b93f-c3602bec63c3",
   "metadata": {},
   "source": [
    "# scRNAseq scPred SVMRadial Model Evaluation - GSE163005_IMMUNE_CSF"
   ]
  },
  {
   "cell_type": "code",
   "execution_count": 1,
   "id": "5998c094-37f3-4041-a30f-ee7df526771d",
   "metadata": {},
   "outputs": [],
   "source": [
    "import joblib\n",
    "import matplotlib.pyplot as plt\n",
    "import numpy as np\n",
    "import os\n",
    "import pandas as pd\n",
    "import pickle\n",
    "import scanpy as sc\n",
    "import seaborn as sns\n",
    "from sklearn.ensemble import RandomForestClassifier\n",
    "from sklearn.metrics import accuracy_score\n",
    "from sklearn.metrics import f1_score\n",
    "from sklearn.metrics import classification_report as class_rep\n",
    "import time"
   ]
  },
  {
   "cell_type": "code",
   "execution_count": 2,
   "id": "f38cd49a-549f-4b96-9f1b-3d6edcc978ec",
   "metadata": {},
   "outputs": [],
   "source": [
    "# Prep\n",
    "dataset_name = 'GSE163005_IMMUNE_CSF' # label for the dataset\n",
    "dictionary_dir = 'scPred_SVM_SplitDicts' # dir where we save the split dictionaries"
   ]
  },
  {
   "cell_type": "code",
   "execution_count": 3,
   "id": "6e3981b7-a4db-4088-b8df-a52aa111d74b",
   "metadata": {},
   "outputs": [
    {
     "name": "stdout",
     "output_type": "stream",
     "text": [
      "Directory already exists!\n"
     ]
    }
   ],
   "source": [
    "# Make sure necessary directories are avalible\n",
    "\n",
    "# dictionary dir\n",
    "if not os.path.exists(dictionary_dir):\n",
    "    os.makedirs(dictionary_dir)\n",
    "    print(f\"Directory {dictionary_dir} created for saving split dictionaries\")\n",
    "    \n",
    "else:\n",
    "    print('Directory already exists!')"
   ]
  },
  {
   "cell_type": "code",
   "execution_count": 4,
   "id": "a4b55036-7559-4fc0-af80-b9e5b127414f",
   "metadata": {},
   "outputs": [],
   "source": [
    "metadata = pd.read_csv('~/NACT_scPred/GSE163005_IMMUNE_CSF/results/GSE163005_IMMUNE_CSF_metadata_model_svmRadial.csv')"
   ]
  },
  {
   "cell_type": "code",
   "execution_count": 5,
   "id": "2753eb2b-d8f6-4e68-9f4a-68a037fdc34d",
   "metadata": {},
   "outputs": [],
   "source": [
    "splits = [f'Split_{i}' for i in range(1,6)]"
   ]
  },
  {
   "cell_type": "code",
   "execution_count": 6,
   "id": "45cb59a1-31ff-4d2e-aaee-0cdc0171c348",
   "metadata": {},
   "outputs": [],
   "source": [
    "def runSplitEval(metadata, split, cluster_col='celltypes'):\n",
    "    \"\"\"\n",
    "    Running Model Evaluation on multiple splits of the dataset\n",
    "    \"\"\"\n",
    "    \n",
    "    print(f\"Running a Model Evaluation on split: {split}\\n\")\n",
    "\n",
    "    \n",
    "    metadata = metadata[metadata.data_split == split]\n",
    "    \n",
    "    y_test = metadata[cluster_col].tolist()\n",
    "    y_pred = metadata['scpred_prediction'].tolist()\n",
    "    \n",
    "    \n",
    "    # model evaluation\n",
    "    acc = accuracy_score(y_test, y_pred)\n",
    "    print(f'Accuracy: {acc:4.4f}')\n",
    "    \n",
    "    # calculating the precision/recall based multi-label F1 score\n",
    "    macro_score = f1_score(y_test, y_pred, average = 'macro' )\n",
    "    w_score = f1_score(y_test, y_pred,average = 'weighted' )\n",
    "    print(f'    -> Non-Weighted F1 Score on validation set: {macro_score:4.4f} ' )\n",
    "    print(f'    -> Weighted F1 Score on validation set: {w_score:4.4f} ' )\n",
    "    print(class_rep(y_test,y_pred))\n",
    "    \n",
    "    return acc, macro_score, w_score"
   ]
  },
  {
   "cell_type": "code",
   "execution_count": 7,
   "id": "8a453891-0398-4f3d-bb23-2f4f0187795a",
   "metadata": {},
   "outputs": [],
   "source": [
    "model_eval = {}"
   ]
  },
  {
   "cell_type": "code",
   "execution_count": 8,
   "id": "2d4736c2-1a8b-4967-a8a8-255a2427e784",
   "metadata": {},
   "outputs": [
    {
     "name": "stdout",
     "output_type": "stream",
     "text": [
      "Working on Split: Split_1\n",
      "Running a Model Evaluation on split: Split_1\n",
      "\n",
      "Accuracy: 0.5798\n",
      "    -> Non-Weighted F1 Score on validation set: 0.2368 \n",
      "    -> Weighted F1 Score on validation set: 0.6712 \n"
     ]
    },
    {
     "name": "stderr",
     "output_type": "stream",
     "text": [
      "/Users/oscardavalos/miniforge3/envs/scrnaseq_pytorch/lib/python3.9/site-packages/sklearn/metrics/_classification.py:1334: UndefinedMetricWarning: Precision and F-score are ill-defined and being set to 0.0 in labels with no predicted samples. Use `zero_division` parameter to control this behavior.\n",
      "  _warn_prf(average, modifier, msg_start, len(result))\n",
      "/Users/oscardavalos/miniforge3/envs/scrnaseq_pytorch/lib/python3.9/site-packages/sklearn/metrics/_classification.py:1334: UndefinedMetricWarning: Recall and F-score are ill-defined and being set to 0.0 in labels with no true samples. Use `zero_division` parameter to control this behavior.\n",
      "  _warn_prf(average, modifier, msg_start, len(result))\n",
      "/Users/oscardavalos/miniforge3/envs/scrnaseq_pytorch/lib/python3.9/site-packages/sklearn/metrics/_classification.py:1334: UndefinedMetricWarning: Precision and F-score are ill-defined and being set to 0.0 in labels with no predicted samples. Use `zero_division` parameter to control this behavior.\n",
      "  _warn_prf(average, modifier, msg_start, len(result))\n",
      "/Users/oscardavalos/miniforge3/envs/scrnaseq_pytorch/lib/python3.9/site-packages/sklearn/metrics/_classification.py:1334: UndefinedMetricWarning: Recall and F-score are ill-defined and being set to 0.0 in labels with no true samples. Use `zero_division` parameter to control this behavior.\n",
      "  _warn_prf(average, modifier, msg_start, len(result))\n",
      "/Users/oscardavalos/miniforge3/envs/scrnaseq_pytorch/lib/python3.9/site-packages/sklearn/metrics/_classification.py:1334: UndefinedMetricWarning: Precision and F-score are ill-defined and being set to 0.0 in labels with no predicted samples. Use `zero_division` parameter to control this behavior.\n",
      "  _warn_prf(average, modifier, msg_start, len(result))\n",
      "/Users/oscardavalos/miniforge3/envs/scrnaseq_pytorch/lib/python3.9/site-packages/sklearn/metrics/_classification.py:1334: UndefinedMetricWarning: Recall and F-score are ill-defined and being set to 0.0 in labels with no true samples. Use `zero_division` parameter to control this behavior.\n",
      "  _warn_prf(average, modifier, msg_start, len(result))\n",
      "/Users/oscardavalos/miniforge3/envs/scrnaseq_pytorch/lib/python3.9/site-packages/sklearn/metrics/_classification.py:1334: UndefinedMetricWarning: Precision and F-score are ill-defined and being set to 0.0 in labels with no predicted samples. Use `zero_division` parameter to control this behavior.\n",
      "  _warn_prf(average, modifier, msg_start, len(result))\n",
      "/Users/oscardavalos/miniforge3/envs/scrnaseq_pytorch/lib/python3.9/site-packages/sklearn/metrics/_classification.py:1334: UndefinedMetricWarning: Recall and F-score are ill-defined and being set to 0.0 in labels with no true samples. Use `zero_division` parameter to control this behavior.\n",
      "  _warn_prf(average, modifier, msg_start, len(result))\n"
     ]
    },
    {
     "name": "stdout",
     "output_type": "stream",
     "text": [
      "              precision    recall  f1-score   support\n",
      "\n",
      "     B cells       0.00      0.00      0.00         0\n",
      "         CD4       0.98      0.73      0.84      8092\n",
      "         CD8       0.93      0.67      0.78      2933\n",
      "          NK       0.97      0.60      0.74       809\n",
      "        Treg       0.75      0.45      0.56       428\n",
      "     cycling       0.73      0.15      0.24       131\n",
      "    granulo1       0.00      0.00      0.00       219\n",
      "    granulo2       0.00      0.00      0.00        46\n",
      "granulocytes       0.00      0.00      0.00         0\n",
      "         mDC       0.00      0.00      0.00         0\n",
      "        mDC1       0.00      0.00      0.00        44\n",
      "        mDC2       0.00      0.00      0.00       422\n",
      "       mono1       0.00      0.00      0.00      1232\n",
      "       mono2       0.00      0.00      0.00       241\n",
      "       mono3       0.00      0.00      0.00        64\n",
      "   monocytes       0.00      0.00      0.00         0\n",
      "     naiveBc       0.00      0.00      0.00       200\n",
      "         pDC       1.00      0.52      0.69       140\n",
      "      plasma       0.99      0.79      0.88       107\n",
      "  unassigned       0.00      0.00      0.00         0\n",
      "\n",
      "    accuracy                           0.58     15108\n",
      "   macro avg       0.32      0.20      0.24     15108\n",
      "weighted avg       0.80      0.58      0.67     15108\n",
      "\n",
      "Working on Split: Split_2\n",
      "Running a Model Evaluation on split: Split_2\n",
      "\n",
      "Accuracy: 0.5929\n",
      "    -> Non-Weighted F1 Score on validation set: 0.2383 \n",
      "    -> Weighted F1 Score on validation set: 0.6824 \n",
      "              precision    recall  f1-score   support\n",
      "\n",
      "     B cells       0.00      0.00      0.00         0\n",
      "         CD4       0.98      0.75      0.85      8038\n",
      "         CD8       0.93      0.68      0.78      3016\n",
      "          NK       0.96      0.65      0.77       810\n",
      "        Treg       0.79      0.47      0.59       448\n",
      "     cycling       0.76      0.17      0.27       132\n",
      "    granulo1       0.00      0.00      0.00       233\n",
      "    granulo2       0.00      0.00      0.00        33\n",
      "granulocytes       0.00      0.00      0.00         0\n",
      "         mDC       0.00      0.00      0.00         0\n",
      "        mDC1       0.00      0.00      0.00        57\n",
      "        mDC2       0.00      0.00      0.00       367\n",
      "       mono1       0.00      0.00      0.00      1181\n",
      "       mono2       0.00      0.00      0.00       256\n",
      "       mono3       0.00      0.00      0.00        68\n",
      "   monocytes       0.00      0.00      0.00         0\n",
      "     naiveBc       0.00      0.00      0.00       203\n",
      "         pDC       1.00      0.48      0.65       142\n",
      "      plasma       0.99      0.74      0.85       124\n",
      "  unassigned       0.00      0.00      0.00         0\n",
      "\n",
      "    accuracy                           0.59     15108\n",
      "   macro avg       0.32      0.20      0.24     15108\n",
      "weighted avg       0.81      0.59      0.68     15108\n",
      "\n",
      "Working on Split: Split_3\n",
      "Running a Model Evaluation on split: Split_3\n",
      "\n"
     ]
    },
    {
     "name": "stderr",
     "output_type": "stream",
     "text": [
      "/Users/oscardavalos/miniforge3/envs/scrnaseq_pytorch/lib/python3.9/site-packages/sklearn/metrics/_classification.py:1334: UndefinedMetricWarning: Precision and F-score are ill-defined and being set to 0.0 in labels with no predicted samples. Use `zero_division` parameter to control this behavior.\n",
      "  _warn_prf(average, modifier, msg_start, len(result))\n",
      "/Users/oscardavalos/miniforge3/envs/scrnaseq_pytorch/lib/python3.9/site-packages/sklearn/metrics/_classification.py:1334: UndefinedMetricWarning: Recall and F-score are ill-defined and being set to 0.0 in labels with no true samples. Use `zero_division` parameter to control this behavior.\n",
      "  _warn_prf(average, modifier, msg_start, len(result))\n",
      "/Users/oscardavalos/miniforge3/envs/scrnaseq_pytorch/lib/python3.9/site-packages/sklearn/metrics/_classification.py:1334: UndefinedMetricWarning: Precision and F-score are ill-defined and being set to 0.0 in labels with no predicted samples. Use `zero_division` parameter to control this behavior.\n",
      "  _warn_prf(average, modifier, msg_start, len(result))\n",
      "/Users/oscardavalos/miniforge3/envs/scrnaseq_pytorch/lib/python3.9/site-packages/sklearn/metrics/_classification.py:1334: UndefinedMetricWarning: Recall and F-score are ill-defined and being set to 0.0 in labels with no true samples. Use `zero_division` parameter to control this behavior.\n",
      "  _warn_prf(average, modifier, msg_start, len(result))\n",
      "/Users/oscardavalos/miniforge3/envs/scrnaseq_pytorch/lib/python3.9/site-packages/sklearn/metrics/_classification.py:1334: UndefinedMetricWarning: Precision and F-score are ill-defined and being set to 0.0 in labels with no predicted samples. Use `zero_division` parameter to control this behavior.\n",
      "  _warn_prf(average, modifier, msg_start, len(result))\n",
      "/Users/oscardavalos/miniforge3/envs/scrnaseq_pytorch/lib/python3.9/site-packages/sklearn/metrics/_classification.py:1334: UndefinedMetricWarning: Recall and F-score are ill-defined and being set to 0.0 in labels with no true samples. Use `zero_division` parameter to control this behavior.\n",
      "  _warn_prf(average, modifier, msg_start, len(result))\n",
      "/Users/oscardavalos/miniforge3/envs/scrnaseq_pytorch/lib/python3.9/site-packages/sklearn/metrics/_classification.py:1334: UndefinedMetricWarning: Precision and F-score are ill-defined and being set to 0.0 in labels with no predicted samples. Use `zero_division` parameter to control this behavior.\n",
      "  _warn_prf(average, modifier, msg_start, len(result))\n",
      "/Users/oscardavalos/miniforge3/envs/scrnaseq_pytorch/lib/python3.9/site-packages/sklearn/metrics/_classification.py:1334: UndefinedMetricWarning: Recall and F-score are ill-defined and being set to 0.0 in labels with no true samples. Use `zero_division` parameter to control this behavior.\n",
      "  _warn_prf(average, modifier, msg_start, len(result))\n"
     ]
    },
    {
     "name": "stdout",
     "output_type": "stream",
     "text": [
      "Accuracy: 0.5853\n",
      "    -> Non-Weighted F1 Score on validation set: 0.2424 \n",
      "    -> Weighted F1 Score on validation set: 0.6759 \n",
      "              precision    recall  f1-score   support\n",
      "\n",
      "     B cells       0.00      0.00      0.00         0\n",
      "         CD4       0.98      0.74      0.84      8045\n",
      "         CD8       0.93      0.67      0.78      2996\n",
      "          NK       0.96      0.63      0.76       782\n",
      "        Treg       0.76      0.48      0.59       448\n",
      "     cycling       0.88      0.21      0.34       144\n",
      "    granulo1       0.00      0.00      0.00       243\n",
      "    granulo2       0.00      0.00      0.00        27\n",
      "granulocytes       0.00      0.00      0.00         0\n",
      "         mDC       0.00      0.00      0.00         0\n",
      "        mDC1       0.00      0.00      0.00        55\n",
      "        mDC2       0.00      0.00      0.00       383\n",
      "       mono1       0.00      0.00      0.00      1187\n",
      "       mono2       0.00      0.00      0.00       300\n",
      "       mono3       0.00      0.00      0.00        71\n",
      "   monocytes       0.00      0.00      0.00         0\n",
      "     naiveBc       0.00      0.00      0.00       199\n",
      "         pDC       1.00      0.53      0.69       133\n",
      "      plasma       0.99      0.74      0.84        95\n",
      "  unassigned       0.00      0.00      0.00         0\n",
      "\n",
      "    accuracy                           0.59     15108\n",
      "   macro avg       0.33      0.20      0.24     15108\n",
      "weighted avg       0.80      0.59      0.68     15108\n",
      "\n",
      "Working on Split: Split_4\n",
      "Running a Model Evaluation on split: Split_4\n",
      "\n",
      "Accuracy: 0.5829\n"
     ]
    },
    {
     "name": "stderr",
     "output_type": "stream",
     "text": [
      "/Users/oscardavalos/miniforge3/envs/scrnaseq_pytorch/lib/python3.9/site-packages/sklearn/metrics/_classification.py:1334: UndefinedMetricWarning: Precision and F-score are ill-defined and being set to 0.0 in labels with no predicted samples. Use `zero_division` parameter to control this behavior.\n",
      "  _warn_prf(average, modifier, msg_start, len(result))\n",
      "/Users/oscardavalos/miniforge3/envs/scrnaseq_pytorch/lib/python3.9/site-packages/sklearn/metrics/_classification.py:1334: UndefinedMetricWarning: Recall and F-score are ill-defined and being set to 0.0 in labels with no true samples. Use `zero_division` parameter to control this behavior.\n",
      "  _warn_prf(average, modifier, msg_start, len(result))\n",
      "/Users/oscardavalos/miniforge3/envs/scrnaseq_pytorch/lib/python3.9/site-packages/sklearn/metrics/_classification.py:1334: UndefinedMetricWarning: Precision and F-score are ill-defined and being set to 0.0 in labels with no predicted samples. Use `zero_division` parameter to control this behavior.\n",
      "  _warn_prf(average, modifier, msg_start, len(result))\n",
      "/Users/oscardavalos/miniforge3/envs/scrnaseq_pytorch/lib/python3.9/site-packages/sklearn/metrics/_classification.py:1334: UndefinedMetricWarning: Recall and F-score are ill-defined and being set to 0.0 in labels with no true samples. Use `zero_division` parameter to control this behavior.\n",
      "  _warn_prf(average, modifier, msg_start, len(result))\n",
      "/Users/oscardavalos/miniforge3/envs/scrnaseq_pytorch/lib/python3.9/site-packages/sklearn/metrics/_classification.py:1334: UndefinedMetricWarning: Precision and F-score are ill-defined and being set to 0.0 in labels with no predicted samples. Use `zero_division` parameter to control this behavior.\n",
      "  _warn_prf(average, modifier, msg_start, len(result))\n",
      "/Users/oscardavalos/miniforge3/envs/scrnaseq_pytorch/lib/python3.9/site-packages/sklearn/metrics/_classification.py:1334: UndefinedMetricWarning: Recall and F-score are ill-defined and being set to 0.0 in labels with no true samples. Use `zero_division` parameter to control this behavior.\n",
      "  _warn_prf(average, modifier, msg_start, len(result))\n",
      "/Users/oscardavalos/miniforge3/envs/scrnaseq_pytorch/lib/python3.9/site-packages/sklearn/metrics/_classification.py:1334: UndefinedMetricWarning: Precision and F-score are ill-defined and being set to 0.0 in labels with no predicted samples. Use `zero_division` parameter to control this behavior.\n",
      "  _warn_prf(average, modifier, msg_start, len(result))\n",
      "/Users/oscardavalos/miniforge3/envs/scrnaseq_pytorch/lib/python3.9/site-packages/sklearn/metrics/_classification.py:1334: UndefinedMetricWarning: Recall and F-score are ill-defined and being set to 0.0 in labels with no true samples. Use `zero_division` parameter to control this behavior.\n",
      "  _warn_prf(average, modifier, msg_start, len(result))\n"
     ]
    },
    {
     "name": "stdout",
     "output_type": "stream",
     "text": [
      "    -> Non-Weighted F1 Score on validation set: 0.2384 \n",
      "    -> Weighted F1 Score on validation set: 0.6755 \n",
      "              precision    recall  f1-score   support\n",
      "\n",
      "     B cells       0.00      0.00      0.00         0\n",
      "         CD4       0.98      0.73      0.84      7956\n",
      "         CD8       0.93      0.67      0.78      3118\n",
      "          NK       0.98      0.59      0.74       805\n",
      "        Treg       0.79      0.46      0.58       472\n",
      "     cycling       0.77      0.15      0.25       112\n",
      "    granulo1       0.00      0.00      0.00       240\n",
      "    granulo2       0.00      0.00      0.00        36\n",
      "granulocytes       0.00      0.00      0.00         0\n",
      "         mDC       0.00      0.00      0.00         0\n",
      "        mDC1       0.00      0.00      0.00        53\n",
      "        mDC2       0.00      0.00      0.00       383\n",
      "       mono1       0.00      0.00      0.00      1155\n",
      "       mono2       0.00      0.00      0.00       246\n",
      "       mono3       0.00      0.00      0.00        60\n",
      "   monocytes       0.00      0.00      0.00         0\n",
      "     naiveBc       0.00      0.00      0.00       213\n",
      "         pDC       0.99      0.55      0.71       147\n",
      "      plasma       1.00      0.78      0.87       112\n",
      "  unassigned       0.00      0.00      0.00         0\n",
      "\n",
      "    accuracy                           0.58     15108\n",
      "   macro avg       0.32      0.20      0.24     15108\n",
      "weighted avg       0.81      0.58      0.68     15108\n",
      "\n",
      "Working on Split: Split_5\n",
      "Running a Model Evaluation on split: Split_5\n",
      "\n",
      "Accuracy: 0.5837\n",
      "    -> Non-Weighted F1 Score on validation set: 0.2458 \n",
      "    -> Weighted F1 Score on validation set: 0.6760 \n",
      "              precision    recall  f1-score   support\n",
      "\n",
      "     B cells       0.00      0.00      0.00         0\n",
      "         CD4       0.98      0.72      0.83      8006\n",
      "         CD8       0.94      0.68      0.79      3095\n",
      "          NK       0.96      0.64      0.77       779\n",
      "        Treg       0.73      0.49      0.59       437\n",
      "     cycling       0.88      0.25      0.39       113\n",
      "    granulo1       0.00      0.00      0.00       258\n",
      "    granulo2       0.00      0.00      0.00        37\n",
      "granulocytes       0.00      0.00      0.00         0\n",
      "         mDC       0.00      0.00      0.00         0\n",
      "        mDC1       0.00      0.00      0.00        60\n",
      "        mDC2       0.00      0.00      0.00       388\n",
      "       mono1       0.00      0.00      0.00      1165\n",
      "       mono2       0.00      0.00      0.00       250\n",
      "       mono3       0.00      0.00      0.00        60\n",
      "   monocytes       0.00      0.00      0.00         0\n",
      "     naiveBc       0.00      0.00      0.00       201\n",
      "         pDC       1.00      0.53      0.69       135\n",
      "      plasma       0.99      0.77      0.86       124\n",
      "  unassigned       0.00      0.00      0.00         0\n",
      "\n",
      "    accuracy                           0.58     15108\n",
      "   macro avg       0.32      0.20      0.25     15108\n",
      "weighted avg       0.81      0.58      0.68     15108\n",
      "\n"
     ]
    },
    {
     "name": "stderr",
     "output_type": "stream",
     "text": [
      "/Users/oscardavalos/miniforge3/envs/scrnaseq_pytorch/lib/python3.9/site-packages/sklearn/metrics/_classification.py:1334: UndefinedMetricWarning: Precision and F-score are ill-defined and being set to 0.0 in labels with no predicted samples. Use `zero_division` parameter to control this behavior.\n",
      "  _warn_prf(average, modifier, msg_start, len(result))\n",
      "/Users/oscardavalos/miniforge3/envs/scrnaseq_pytorch/lib/python3.9/site-packages/sklearn/metrics/_classification.py:1334: UndefinedMetricWarning: Recall and F-score are ill-defined and being set to 0.0 in labels with no true samples. Use `zero_division` parameter to control this behavior.\n",
      "  _warn_prf(average, modifier, msg_start, len(result))\n",
      "/Users/oscardavalos/miniforge3/envs/scrnaseq_pytorch/lib/python3.9/site-packages/sklearn/metrics/_classification.py:1334: UndefinedMetricWarning: Precision and F-score are ill-defined and being set to 0.0 in labels with no predicted samples. Use `zero_division` parameter to control this behavior.\n",
      "  _warn_prf(average, modifier, msg_start, len(result))\n",
      "/Users/oscardavalos/miniforge3/envs/scrnaseq_pytorch/lib/python3.9/site-packages/sklearn/metrics/_classification.py:1334: UndefinedMetricWarning: Recall and F-score are ill-defined and being set to 0.0 in labels with no true samples. Use `zero_division` parameter to control this behavior.\n",
      "  _warn_prf(average, modifier, msg_start, len(result))\n",
      "/Users/oscardavalos/miniforge3/envs/scrnaseq_pytorch/lib/python3.9/site-packages/sklearn/metrics/_classification.py:1334: UndefinedMetricWarning: Precision and F-score are ill-defined and being set to 0.0 in labels with no predicted samples. Use `zero_division` parameter to control this behavior.\n",
      "  _warn_prf(average, modifier, msg_start, len(result))\n",
      "/Users/oscardavalos/miniforge3/envs/scrnaseq_pytorch/lib/python3.9/site-packages/sklearn/metrics/_classification.py:1334: UndefinedMetricWarning: Recall and F-score are ill-defined and being set to 0.0 in labels with no true samples. Use `zero_division` parameter to control this behavior.\n",
      "  _warn_prf(average, modifier, msg_start, len(result))\n"
     ]
    }
   ],
   "source": [
    "for i in splits:\n",
    "    \n",
    "    print(f\"Working on Split: {i}\")\n",
    "    \n",
    "    # create a dict for storing current split information\n",
    "    split_dict = {'Accuracy':[], \n",
    "                  'Macro_Score':[], \n",
    "                  'Weighted_Score':[]}\n",
    "    acc, macro_score, w_score = runSplitEval(metadata, i, cluster_col='celltypes')\n",
    "    \n",
    "    # joblib.dump(clf, f\"./{model_dir}/{dataset_name}_{i}_RF.pkl\")\n",
    "    \n",
    "    # split_dict['Runtime'].append(total_runtime)\n",
    "    split_dict['Accuracy'].append(acc)\n",
    "    split_dict['Macro_Score'].append(macro_score)\n",
    "    split_dict['Weighted_Score'].append(w_score)\n",
    "    \n",
    "    model_eval[i]=split_dict"
   ]
  },
  {
   "cell_type": "code",
   "execution_count": 9,
   "id": "fc69ac0b-4a20-4225-9ecd-d4663eb0a6e8",
   "metadata": {},
   "outputs": [
    {
     "data": {
      "text/plain": [
       "{'Split_1': {'Accuracy': [0.5797590680434207],\n",
       "  'Macro_Score': [0.23676597459832002],\n",
       "  'Weighted_Score': [0.671162259229957]},\n",
       " 'Split_2': {'Accuracy': [0.5929308975377283],\n",
       "  'Macro_Score': [0.23834930226083523],\n",
       "  'Weighted_Score': [0.6823788872041464]},\n",
       " 'Split_3': {'Accuracy': [0.5853190362721736],\n",
       "  'Macro_Score': [0.2423701755947773],\n",
       "  'Weighted_Score': [0.6758780371887863]},\n",
       " 'Split_4': {'Accuracy': [0.5828700026476039],\n",
       "  'Macro_Score': [0.2384480641370982],\n",
       "  'Weighted_Score': [0.6755086595308321]},\n",
       " 'Split_5': {'Accuracy': [0.5837304739211014],\n",
       "  'Macro_Score': [0.2458384768553698],\n",
       "  'Weighted_Score': [0.6760223766297085]}}"
      ]
     },
     "execution_count": 9,
     "metadata": {},
     "output_type": "execute_result"
    }
   ],
   "source": [
    "model_eval"
   ]
  },
  {
   "cell_type": "code",
   "execution_count": 10,
   "id": "e2a20b22-64cf-4925-b873-9829f9533d38",
   "metadata": {},
   "outputs": [],
   "source": [
    "# save the dictionary\n",
    "def Pickler(data, filename):\n",
    "    \n",
    "    outfile = open(filename, 'wb+')\n",
    "    \n",
    "    #source destination\n",
    "    \n",
    "    pickle.dump(data, outfile)\n",
    "    \n",
    "    outfile.close()\n",
    "\n",
    "Pickler(model_eval, filename=f\"{dictionary_dir}/{dataset_name}_svmRadial_EvalDict.pickle\")"
   ]
  },
  {
   "cell_type": "code",
   "execution_count": null,
   "id": "b762f2ae-1434-4c51-9254-aa81f4bcf93f",
   "metadata": {},
   "outputs": [],
   "source": []
  }
 ],
 "metadata": {
  "kernelspec": {
   "display_name": "scrnaseq_torch",
   "language": "python",
   "name": "scrnaseq_torch"
  },
  "language_info": {
   "codemirror_mode": {
    "name": "ipython",
    "version": 3
   },
   "file_extension": ".py",
   "mimetype": "text/x-python",
   "name": "python",
   "nbconvert_exporter": "python",
   "pygments_lexer": "ipython3",
   "version": "3.9.12"
  }
 },
 "nbformat": 4,
 "nbformat_minor": 5
}

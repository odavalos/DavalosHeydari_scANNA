{
 "cells": [
  {
   "cell_type": "markdown",
   "id": "54959847-cd76-4593-b93f-c3602bec63c3",
   "metadata": {},
   "source": [
    "# scRNAseq scPred NNet Model Evaluation - GSE144236"
   ]
  },
  {
   "cell_type": "code",
   "execution_count": 1,
   "id": "5998c094-37f3-4041-a30f-ee7df526771d",
   "metadata": {},
   "outputs": [],
   "source": [
    "import joblib\n",
    "import matplotlib.pyplot as plt\n",
    "import numpy as np\n",
    "import os\n",
    "import pandas as pd\n",
    "import pickle\n",
    "import scanpy as sc\n",
    "import seaborn as sns\n",
    "from sklearn.ensemble import RandomForestClassifier\n",
    "from sklearn.metrics import accuracy_score\n",
    "from sklearn.metrics import f1_score\n",
    "from sklearn.metrics import classification_report as class_rep\n",
    "import time"
   ]
  },
  {
   "cell_type": "code",
   "execution_count": 2,
   "id": "f38cd49a-549f-4b96-9f1b-3d6edcc978ec",
   "metadata": {},
   "outputs": [],
   "source": [
    "# Prep\n",
    "dataset_name = 'GSE144236' # label for the dataset\n",
    "dictionary_dir = 'scPred_NN_SplitDicts' # dir where we save the split dictionaries"
   ]
  },
  {
   "cell_type": "code",
   "execution_count": 3,
   "id": "6e3981b7-a4db-4088-b8df-a52aa111d74b",
   "metadata": {},
   "outputs": [
    {
     "name": "stdout",
     "output_type": "stream",
     "text": [
      "Directory already exists!\n"
     ]
    }
   ],
   "source": [
    "# Make sure necessary directories are avalible\n",
    "\n",
    "# dictionary dir\n",
    "if not os.path.exists(dictionary_dir):\n",
    "    os.makedirs(dictionary_dir)\n",
    "    print(f\"Directory {dictionary_dir} created for saving split dictionaries\")\n",
    "    \n",
    "else:\n",
    "    print('Directory already exists!')"
   ]
  },
  {
   "cell_type": "code",
   "execution_count": 4,
   "id": "a4b55036-7559-4fc0-af80-b9e5b127414f",
   "metadata": {},
   "outputs": [],
   "source": [
    "metadata = pd.read_csv('~/NACT_scPred/GSE144236/results/GSE144236_metadata_model_NN.csv')"
   ]
  },
  {
   "cell_type": "code",
   "execution_count": 5,
   "id": "2753eb2b-d8f6-4e68-9f4a-68a037fdc34d",
   "metadata": {},
   "outputs": [],
   "source": [
    "splits = [f'Split_{i}' for i in range(1,6)]"
   ]
  },
  {
   "cell_type": "code",
   "execution_count": 6,
   "id": "45cb59a1-31ff-4d2e-aaee-0cdc0171c348",
   "metadata": {},
   "outputs": [],
   "source": [
    "def runSplitEval(metadata, split, cluster_col='celltypes'):\n",
    "    \"\"\"\n",
    "    Running Model Evaluation on multiple splits of the dataset\n",
    "    \"\"\"\n",
    "    \n",
    "    print(f\"Running a Model Evaluation on split: {split}\\n\")\n",
    "    \n",
    "    metadata = metadata[metadata.data_split == split]\n",
    "    \n",
    "    y_test = metadata[cluster_col].tolist()\n",
    "    y_pred = metadata['scpred_prediction'].tolist()\n",
    "    \n",
    "    # model evaluation\n",
    "    acc = accuracy_score(y_test, y_pred)\n",
    "    print(f'Accuracy: {acc:4.4f}')\n",
    "    \n",
    "    # calculating the precision/recall based multi-label F1 score\n",
    "    macro_score = f1_score(y_test, y_pred, average = 'macro' )\n",
    "    w_score = f1_score(y_test, y_pred,average = 'weighted' )\n",
    "    print(f'    -> Non-Weighted F1 Score on validation set: {macro_score:4.4f} ' )\n",
    "    print(f'    -> Weighted F1 Score on validation set: {w_score:4.4f} ' )\n",
    "    print(class_rep(y_test,y_pred))\n",
    "    \n",
    "    return acc, macro_score, w_score"
   ]
  },
  {
   "cell_type": "code",
   "execution_count": 7,
   "id": "8a453891-0398-4f3d-bb23-2f4f0187795a",
   "metadata": {},
   "outputs": [],
   "source": [
    "model_eval = {}"
   ]
  },
  {
   "cell_type": "code",
   "execution_count": 8,
   "id": "2d4736c2-1a8b-4967-a8a8-255a2427e784",
   "metadata": {},
   "outputs": [
    {
     "name": "stdout",
     "output_type": "stream",
     "text": [
      "Working on Split: Split_1\n",
      "Running a Model Evaluation on split: Split_1\n",
      "\n",
      "Accuracy: 0.9070\n",
      "    -> Non-Weighted F1 Score on validation set: 0.6622 \n",
      "    -> Weighted F1 Score on validation set: 0.9104 \n",
      "                  precision    recall  f1-score   support\n",
      "\n",
      "          B Cell       0.38      0.77      0.51        48\n",
      "            CD1C       0.82      0.75      0.78       988\n",
      "          CLEC9A       0.82      0.94      0.88       178\n",
      "Endothelial Cell       0.47      0.75      0.58        81\n",
      "      Epithelial       0.99      0.99      0.99      5780\n",
      "      Fibroblast       0.77      0.99      0.87       159\n",
      "              LC       0.89      0.80      0.85       743\n",
      "            MDSC       0.73      0.75      0.74       148\n",
      "             Mac       0.85      0.66      0.74       661\n",
      "      Melanocyte       0.77      0.94      0.85       164\n",
      "             PDC       0.46      0.74      0.57        47\n",
      "           Tcell       0.94      0.92      0.93       316\n",
      "             nan       0.00      0.00      0.00        92\n",
      "      unassigned       0.00      0.00      0.00         0\n",
      "\n",
      "        accuracy                           0.91      9405\n",
      "       macro avg       0.64      0.71      0.66      9405\n",
      "    weighted avg       0.92      0.91      0.91      9405\n",
      "\n",
      "Working on Split: Split_2\n",
      "Running a Model Evaluation on split: Split_2\n",
      "\n",
      "Accuracy: 0.9043\n"
     ]
    },
    {
     "name": "stderr",
     "output_type": "stream",
     "text": [
      "/Users/oscardavalos/miniforge3/envs/scrnaseq_pytorch/lib/python3.9/site-packages/sklearn/metrics/_classification.py:1334: UndefinedMetricWarning: Precision and F-score are ill-defined and being set to 0.0 in labels with no predicted samples. Use `zero_division` parameter to control this behavior.\n",
      "  _warn_prf(average, modifier, msg_start, len(result))\n",
      "/Users/oscardavalos/miniforge3/envs/scrnaseq_pytorch/lib/python3.9/site-packages/sklearn/metrics/_classification.py:1334: UndefinedMetricWarning: Recall and F-score are ill-defined and being set to 0.0 in labels with no true samples. Use `zero_division` parameter to control this behavior.\n",
      "  _warn_prf(average, modifier, msg_start, len(result))\n",
      "/Users/oscardavalos/miniforge3/envs/scrnaseq_pytorch/lib/python3.9/site-packages/sklearn/metrics/_classification.py:1334: UndefinedMetricWarning: Precision and F-score are ill-defined and being set to 0.0 in labels with no predicted samples. Use `zero_division` parameter to control this behavior.\n",
      "  _warn_prf(average, modifier, msg_start, len(result))\n",
      "/Users/oscardavalos/miniforge3/envs/scrnaseq_pytorch/lib/python3.9/site-packages/sklearn/metrics/_classification.py:1334: UndefinedMetricWarning: Recall and F-score are ill-defined and being set to 0.0 in labels with no true samples. Use `zero_division` parameter to control this behavior.\n",
      "  _warn_prf(average, modifier, msg_start, len(result))\n",
      "/Users/oscardavalos/miniforge3/envs/scrnaseq_pytorch/lib/python3.9/site-packages/sklearn/metrics/_classification.py:1334: UndefinedMetricWarning: Precision and F-score are ill-defined and being set to 0.0 in labels with no predicted samples. Use `zero_division` parameter to control this behavior.\n",
      "  _warn_prf(average, modifier, msg_start, len(result))\n",
      "/Users/oscardavalos/miniforge3/envs/scrnaseq_pytorch/lib/python3.9/site-packages/sklearn/metrics/_classification.py:1334: UndefinedMetricWarning: Recall and F-score are ill-defined and being set to 0.0 in labels with no true samples. Use `zero_division` parameter to control this behavior.\n",
      "  _warn_prf(average, modifier, msg_start, len(result))\n",
      "/Users/oscardavalos/miniforge3/envs/scrnaseq_pytorch/lib/python3.9/site-packages/sklearn/metrics/_classification.py:1334: UndefinedMetricWarning: Recall and F-score are ill-defined and being set to 0.0 in labels with no true samples. Use `zero_division` parameter to control this behavior.\n",
      "  _warn_prf(average, modifier, msg_start, len(result))\n",
      "/Users/oscardavalos/miniforge3/envs/scrnaseq_pytorch/lib/python3.9/site-packages/sklearn/metrics/_classification.py:1334: UndefinedMetricWarning: Recall and F-score are ill-defined and being set to 0.0 in labels with no true samples. Use `zero_division` parameter to control this behavior.\n",
      "  _warn_prf(average, modifier, msg_start, len(result))\n",
      "/Users/oscardavalos/miniforge3/envs/scrnaseq_pytorch/lib/python3.9/site-packages/sklearn/metrics/_classification.py:1334: UndefinedMetricWarning: Recall and F-score are ill-defined and being set to 0.0 in labels with no true samples. Use `zero_division` parameter to control this behavior.\n",
      "  _warn_prf(average, modifier, msg_start, len(result))\n"
     ]
    },
    {
     "name": "stdout",
     "output_type": "stream",
     "text": [
      "    -> Non-Weighted F1 Score on validation set: 0.7036 \n",
      "    -> Weighted F1 Score on validation set: 0.9111 \n",
      "                  precision    recall  f1-score   support\n",
      "\n",
      "            ASDC       0.46      0.36      0.41        69\n",
      "          B Cell       0.48      0.85      0.61        46\n",
      "            CD1C       0.80      0.72      0.76       992\n",
      "          CLEC9A       0.86      0.85      0.85       175\n",
      "Endothelial Cell       0.78      0.96      0.86       101\n",
      "      Epithelial       0.98      0.98      0.98      5753\n",
      "      Fibroblast       0.85      0.93      0.89       186\n",
      "              LC       0.92      0.79      0.85       790\n",
      "            MDSC       0.72      0.60      0.65       142\n",
      "             Mac       0.80      0.76      0.78       614\n",
      "      Melanocyte       0.82      0.86      0.84       147\n",
      "              NK       0.30      0.80      0.44        20\n",
      "             PDC       0.60      0.94      0.73        49\n",
      "           Tcell       0.93      0.88      0.90       321\n",
      "      unassigned       0.00      0.00      0.00         0\n",
      "\n",
      "        accuracy                           0.90      9405\n",
      "       macro avg       0.69      0.75      0.70      9405\n",
      "    weighted avg       0.92      0.90      0.91      9405\n",
      "\n",
      "Working on Split: Split_3\n",
      "Running a Model Evaluation on split: Split_3\n",
      "\n",
      "Accuracy: 0.8632\n",
      "    -> Non-Weighted F1 Score on validation set: 0.6396 \n",
      "    -> Weighted F1 Score on validation set: 0.8516 \n"
     ]
    },
    {
     "name": "stderr",
     "output_type": "stream",
     "text": [
      "/Users/oscardavalos/miniforge3/envs/scrnaseq_pytorch/lib/python3.9/site-packages/sklearn/metrics/_classification.py:1334: UndefinedMetricWarning: Precision and F-score are ill-defined and being set to 0.0 in labels with no predicted samples. Use `zero_division` parameter to control this behavior.\n",
      "  _warn_prf(average, modifier, msg_start, len(result))\n",
      "/Users/oscardavalos/miniforge3/envs/scrnaseq_pytorch/lib/python3.9/site-packages/sklearn/metrics/_classification.py:1334: UndefinedMetricWarning: Recall and F-score are ill-defined and being set to 0.0 in labels with no true samples. Use `zero_division` parameter to control this behavior.\n",
      "  _warn_prf(average, modifier, msg_start, len(result))\n",
      "/Users/oscardavalos/miniforge3/envs/scrnaseq_pytorch/lib/python3.9/site-packages/sklearn/metrics/_classification.py:1334: UndefinedMetricWarning: Precision and F-score are ill-defined and being set to 0.0 in labels with no predicted samples. Use `zero_division` parameter to control this behavior.\n",
      "  _warn_prf(average, modifier, msg_start, len(result))\n",
      "/Users/oscardavalos/miniforge3/envs/scrnaseq_pytorch/lib/python3.9/site-packages/sklearn/metrics/_classification.py:1334: UndefinedMetricWarning: Recall and F-score are ill-defined and being set to 0.0 in labels with no true samples. Use `zero_division` parameter to control this behavior.\n",
      "  _warn_prf(average, modifier, msg_start, len(result))\n",
      "/Users/oscardavalos/miniforge3/envs/scrnaseq_pytorch/lib/python3.9/site-packages/sklearn/metrics/_classification.py:1334: UndefinedMetricWarning: Precision and F-score are ill-defined and being set to 0.0 in labels with no predicted samples. Use `zero_division` parameter to control this behavior.\n",
      "  _warn_prf(average, modifier, msg_start, len(result))\n",
      "/Users/oscardavalos/miniforge3/envs/scrnaseq_pytorch/lib/python3.9/site-packages/sklearn/metrics/_classification.py:1334: UndefinedMetricWarning: Recall and F-score are ill-defined and being set to 0.0 in labels with no true samples. Use `zero_division` parameter to control this behavior.\n",
      "  _warn_prf(average, modifier, msg_start, len(result))\n",
      "/Users/oscardavalos/miniforge3/envs/scrnaseq_pytorch/lib/python3.9/site-packages/sklearn/metrics/_classification.py:1334: UndefinedMetricWarning: Precision and F-score are ill-defined and being set to 0.0 in labels with no predicted samples. Use `zero_division` parameter to control this behavior.\n",
      "  _warn_prf(average, modifier, msg_start, len(result))\n",
      "/Users/oscardavalos/miniforge3/envs/scrnaseq_pytorch/lib/python3.9/site-packages/sklearn/metrics/_classification.py:1334: UndefinedMetricWarning: Recall and F-score are ill-defined and being set to 0.0 in labels with no true samples. Use `zero_division` parameter to control this behavior.\n",
      "  _warn_prf(average, modifier, msg_start, len(result))\n",
      "/Users/oscardavalos/miniforge3/envs/scrnaseq_pytorch/lib/python3.9/site-packages/sklearn/metrics/_classification.py:1334: UndefinedMetricWarning: Precision and F-score are ill-defined and being set to 0.0 in labels with no predicted samples. Use `zero_division` parameter to control this behavior.\n",
      "  _warn_prf(average, modifier, msg_start, len(result))\n",
      "/Users/oscardavalos/miniforge3/envs/scrnaseq_pytorch/lib/python3.9/site-packages/sklearn/metrics/_classification.py:1334: UndefinedMetricWarning: Recall and F-score are ill-defined and being set to 0.0 in labels with no true samples. Use `zero_division` parameter to control this behavior.\n",
      "  _warn_prf(average, modifier, msg_start, len(result))\n"
     ]
    },
    {
     "name": "stdout",
     "output_type": "stream",
     "text": [
      "                  precision    recall  f1-score   support\n",
      "\n",
      "            ASDC       0.33      0.29      0.31        68\n",
      "            CD1C       0.67      0.90      0.77       963\n",
      "          CLEC9A       0.81      0.94      0.87       149\n",
      "Endothelial Cell       0.79      0.76      0.77        92\n",
      "      Epithelial       1.00      0.99      0.99      5791\n",
      "      Fibroblast       0.90      0.94      0.92       157\n",
      "              LC       0.89      0.69      0.78       788\n",
      "            MDSC       0.58      0.87      0.70       142\n",
      "      Melanocyte       0.68      0.85      0.75       158\n",
      "             PDC       0.37      0.96      0.54        53\n",
      "           Tcell       0.89      0.93      0.91       326\n",
      "             nan       0.00      0.00      0.00       718\n",
      "      unassigned       0.00      0.00      0.00         0\n",
      "\n",
      "        accuracy                           0.86      9405\n",
      "       macro avg       0.61      0.70      0.64      9405\n",
      "    weighted avg       0.85      0.86      0.85      9405\n",
      "\n",
      "Working on Split: Split_4\n",
      "Running a Model Evaluation on split: Split_4\n",
      "\n",
      "Accuracy: 0.9124\n",
      "    -> Non-Weighted F1 Score on validation set: 0.6803 \n",
      "    -> Weighted F1 Score on validation set: 0.9176 \n",
      "                  precision    recall  f1-score   support\n",
      "\n",
      "          B Cell       0.63      0.73      0.68        52\n",
      "            CD1C       0.83      0.78      0.80       991\n",
      "          CLEC9A       0.83      0.89      0.86       169\n",
      "Endothelial Cell       0.75      0.78      0.76        98\n",
      "      Epithelial       0.99      0.99      0.99      5750\n",
      "      Fibroblast       0.81      0.84      0.82       166\n",
      "              LC       0.91      0.79      0.85       775\n",
      "            MDSC       0.58      0.69      0.63       112\n",
      "             Mac       0.84      0.74      0.78       630\n",
      "      Melanocyte       0.87      0.97      0.92       180\n",
      "              NK       0.50      0.40      0.44        25\n",
      "             PDC       0.62      0.96      0.76        47\n",
      "           Tcell       0.87      0.95      0.91       344\n",
      "             nan       0.00      0.00      0.00        66\n",
      "      unassigned       0.00      0.00      0.00         0\n",
      "\n",
      "        accuracy                           0.91      9405\n",
      "       macro avg       0.67      0.70      0.68      9405\n",
      "    weighted avg       0.92      0.91      0.92      9405\n",
      "\n",
      "Working on Split: Split_5\n",
      "Running a Model Evaluation on split: Split_5\n",
      "\n",
      "Accuracy: 0.7846\n",
      "    -> Non-Weighted F1 Score on validation set: 0.6831 \n",
      "    -> Weighted F1 Score on validation set: 0.7653 \n",
      "                  precision    recall  f1-score   support\n",
      "\n",
      "            ASDC       0.41      0.96      0.58        70\n",
      "          CLEC9A       0.86      0.94      0.90       173\n",
      "Endothelial Cell       0.95      0.95      0.95       103\n",
      "      Epithelial       0.98      0.99      0.98      5749\n",
      "      Fibroblast       0.88      0.89      0.89       202\n",
      "            MDSC       0.64      0.93      0.76       146\n",
      "             Mac       0.64      0.83      0.72       650\n",
      "      Melanocyte       0.82      0.96      0.88       148\n",
      "             PDC       0.44      0.86      0.58        57\n",
      "           Tcell       0.93      0.97      0.95       336\n",
      "             nan       0.00      0.00      0.00      1771\n",
      "      unassigned       0.00      0.00      0.00         0\n",
      "\n",
      "        accuracy                           0.78      9405\n",
      "       macro avg       0.63      0.77      0.68      9405\n",
      "    weighted avg       0.75      0.78      0.77      9405\n",
      "\n"
     ]
    },
    {
     "name": "stderr",
     "output_type": "stream",
     "text": [
      "/Users/oscardavalos/miniforge3/envs/scrnaseq_pytorch/lib/python3.9/site-packages/sklearn/metrics/_classification.py:1334: UndefinedMetricWarning: Precision and F-score are ill-defined and being set to 0.0 in labels with no predicted samples. Use `zero_division` parameter to control this behavior.\n",
      "  _warn_prf(average, modifier, msg_start, len(result))\n",
      "/Users/oscardavalos/miniforge3/envs/scrnaseq_pytorch/lib/python3.9/site-packages/sklearn/metrics/_classification.py:1334: UndefinedMetricWarning: Recall and F-score are ill-defined and being set to 0.0 in labels with no true samples. Use `zero_division` parameter to control this behavior.\n",
      "  _warn_prf(average, modifier, msg_start, len(result))\n",
      "/Users/oscardavalos/miniforge3/envs/scrnaseq_pytorch/lib/python3.9/site-packages/sklearn/metrics/_classification.py:1334: UndefinedMetricWarning: Precision and F-score are ill-defined and being set to 0.0 in labels with no predicted samples. Use `zero_division` parameter to control this behavior.\n",
      "  _warn_prf(average, modifier, msg_start, len(result))\n",
      "/Users/oscardavalos/miniforge3/envs/scrnaseq_pytorch/lib/python3.9/site-packages/sklearn/metrics/_classification.py:1334: UndefinedMetricWarning: Recall and F-score are ill-defined and being set to 0.0 in labels with no true samples. Use `zero_division` parameter to control this behavior.\n",
      "  _warn_prf(average, modifier, msg_start, len(result))\n",
      "/Users/oscardavalos/miniforge3/envs/scrnaseq_pytorch/lib/python3.9/site-packages/sklearn/metrics/_classification.py:1334: UndefinedMetricWarning: Precision and F-score are ill-defined and being set to 0.0 in labels with no predicted samples. Use `zero_division` parameter to control this behavior.\n",
      "  _warn_prf(average, modifier, msg_start, len(result))\n",
      "/Users/oscardavalos/miniforge3/envs/scrnaseq_pytorch/lib/python3.9/site-packages/sklearn/metrics/_classification.py:1334: UndefinedMetricWarning: Recall and F-score are ill-defined and being set to 0.0 in labels with no true samples. Use `zero_division` parameter to control this behavior.\n",
      "  _warn_prf(average, modifier, msg_start, len(result))\n",
      "/Users/oscardavalos/miniforge3/envs/scrnaseq_pytorch/lib/python3.9/site-packages/sklearn/metrics/_classification.py:1334: UndefinedMetricWarning: Precision and F-score are ill-defined and being set to 0.0 in labels with no predicted samples. Use `zero_division` parameter to control this behavior.\n",
      "  _warn_prf(average, modifier, msg_start, len(result))\n",
      "/Users/oscardavalos/miniforge3/envs/scrnaseq_pytorch/lib/python3.9/site-packages/sklearn/metrics/_classification.py:1334: UndefinedMetricWarning: Recall and F-score are ill-defined and being set to 0.0 in labels with no true samples. Use `zero_division` parameter to control this behavior.\n",
      "  _warn_prf(average, modifier, msg_start, len(result))\n"
     ]
    }
   ],
   "source": [
    "for i in splits:\n",
    "    \n",
    "    print(f\"Working on Split: {i}\")\n",
    "    \n",
    "    # create a dict for storing current split information\n",
    "    split_dict = {'Accuracy':[], \n",
    "                  'Macro_Score':[], \n",
    "                  'Weighted_Score':[]}\n",
    "    acc, macro_score, w_score = runSplitEval(metadata, i, cluster_col='celltypes')\n",
    "    \n",
    "    # joblib.dump(clf, f\"./{model_dir}/{dataset_name}_{i}_RF.pkl\")\n",
    "    \n",
    "    # split_dict['Runtime'].append(total_runtime)\n",
    "    split_dict['Accuracy'].append(acc)\n",
    "    split_dict['Macro_Score'].append(macro_score)\n",
    "    split_dict['Weighted_Score'].append(w_score)\n",
    "    \n",
    "    model_eval[i]=split_dict"
   ]
  },
  {
   "cell_type": "code",
   "execution_count": 9,
   "id": "fc69ac0b-4a20-4225-9ecd-d4663eb0a6e8",
   "metadata": {},
   "outputs": [
    {
     "data": {
      "text/plain": [
       "{'Split_1': {'Accuracy': [0.9069643806485912],\n",
       "  'Macro_Score': [0.6622177033677552],\n",
       "  'Weighted_Score': [0.9103908679602825]},\n",
       " 'Split_2': {'Accuracy': [0.9043062200956937],\n",
       "  'Macro_Score': [0.703593238805367],\n",
       "  'Weighted_Score': [0.9111395117060678]},\n",
       " 'Split_3': {'Accuracy': [0.8631578947368421],\n",
       "  'Macro_Score': [0.6395602477567751],\n",
       "  'Weighted_Score': [0.8516195925560169]},\n",
       " 'Split_4': {'Accuracy': [0.9123870281765019],\n",
       "  'Macro_Score': [0.6802532436940272],\n",
       "  'Weighted_Score': [0.9175520559240813]},\n",
       " 'Split_5': {'Accuracy': [0.7845826687931952],\n",
       "  'Macro_Score': [0.6830591171808615],\n",
       "  'Weighted_Score': [0.7652722610911105]}}"
      ]
     },
     "execution_count": 9,
     "metadata": {},
     "output_type": "execute_result"
    }
   ],
   "source": [
    "model_eval"
   ]
  },
  {
   "cell_type": "code",
   "execution_count": 10,
   "id": "e2a20b22-64cf-4925-b873-9829f9533d38",
   "metadata": {},
   "outputs": [],
   "source": [
    "# save the dictionary\n",
    "def Pickler(data, filename):\n",
    "    \n",
    "    outfile = open(filename, 'wb+')\n",
    "    \n",
    "    #source destination\n",
    "    \n",
    "    pickle.dump(data, outfile)\n",
    "    \n",
    "    outfile.close()\n",
    "\n",
    "Pickler(model_eval, filename=f\"{dictionary_dir}/{dataset_name}_NN_EvalDict.pickle\")"
   ]
  },
  {
   "cell_type": "code",
   "execution_count": null,
   "id": "efc09f98-d87d-4b8a-8a0a-dbba9f2529a3",
   "metadata": {},
   "outputs": [],
   "source": []
  }
 ],
 "metadata": {
  "kernelspec": {
   "display_name": "scrnaseq_torch",
   "language": "python",
   "name": "scrnaseq_torch"
  },
  "language_info": {
   "codemirror_mode": {
    "name": "ipython",
    "version": 3
   },
   "file_extension": ".py",
   "mimetype": "text/x-python",
   "name": "python",
   "nbconvert_exporter": "python",
   "pygments_lexer": "ipython3",
   "version": "3.9.12"
  }
 },
 "nbformat": 4,
 "nbformat_minor": 5
}

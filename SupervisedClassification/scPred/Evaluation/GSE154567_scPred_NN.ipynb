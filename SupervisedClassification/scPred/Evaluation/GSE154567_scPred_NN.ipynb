{
 "cells": [
  {
   "cell_type": "markdown",
   "id": "54959847-cd76-4593-b93f-c3602bec63c3",
   "metadata": {},
   "source": [
    "# scRNAseq scPred NNet Model Evaluation - GSE154567"
   ]
  },
  {
   "cell_type": "code",
   "execution_count": 1,
   "id": "5998c094-37f3-4041-a30f-ee7df526771d",
   "metadata": {},
   "outputs": [],
   "source": [
    "import joblib\n",
    "import matplotlib.pyplot as plt\n",
    "import numpy as np\n",
    "import os\n",
    "import pandas as pd\n",
    "import pickle\n",
    "import scanpy as sc\n",
    "import seaborn as sns\n",
    "from sklearn.ensemble import RandomForestClassifier\n",
    "from sklearn.metrics import accuracy_score\n",
    "from sklearn.metrics import f1_score\n",
    "from sklearn.metrics import classification_report as class_rep\n",
    "import time"
   ]
  },
  {
   "cell_type": "code",
   "execution_count": 2,
   "id": "f38cd49a-549f-4b96-9f1b-3d6edcc978ec",
   "metadata": {},
   "outputs": [],
   "source": [
    "# Prep\n",
    "dataset_name = 'GSE154567' # label for the dataset\n",
    "dictionary_dir = 'scPred_NN_SplitDicts' # dir where we save the split dictionaries"
   ]
  },
  {
   "cell_type": "code",
   "execution_count": 3,
   "id": "6e3981b7-a4db-4088-b8df-a52aa111d74b",
   "metadata": {},
   "outputs": [
    {
     "name": "stdout",
     "output_type": "stream",
     "text": [
      "Directory already exists!\n"
     ]
    }
   ],
   "source": [
    "# Make sure necessary directories are avalible\n",
    "\n",
    "# dictionary dir\n",
    "if not os.path.exists(dictionary_dir):\n",
    "    os.makedirs(dictionary_dir)\n",
    "    print(f\"Directory {dictionary_dir} created for saving split dictionaries\")\n",
    "    \n",
    "else:\n",
    "    print('Directory already exists!')"
   ]
  },
  {
   "cell_type": "code",
   "execution_count": 4,
   "id": "a4b55036-7559-4fc0-af80-b9e5b127414f",
   "metadata": {},
   "outputs": [],
   "source": [
    "metadata = pd.read_csv('/Users/oscardavalos/Documents/RStudio/NACT_scPred/GSE154567/results/GSE154567_metadata_model_NN.csv')"
   ]
  },
  {
   "cell_type": "code",
   "execution_count": 5,
   "id": "2753eb2b-d8f6-4e68-9f4a-68a037fdc34d",
   "metadata": {},
   "outputs": [],
   "source": [
    "splits = [f'Split_{i}' for i in range(1,6)]"
   ]
  },
  {
   "cell_type": "code",
   "execution_count": 6,
   "id": "45cb59a1-31ff-4d2e-aaee-0cdc0171c348",
   "metadata": {},
   "outputs": [],
   "source": [
    "def runSplitEval(metadata, split, cluster_col='celltypes'):\n",
    "    \"\"\"\n",
    "    Running Model Evaluation on multiple splits of the dataset\n",
    "    \"\"\"\n",
    "    \n",
    "    print(f\"Running a Model Evaluation on split: {split}\\n\")\n",
    "    \n",
    "    metadata = metadata[metadata.data_split == split]\n",
    "    \n",
    "    y_test = metadata[cluster_col].tolist()\n",
    "    y_pred = metadata['scpred_prediction'].tolist()\n",
    "    \n",
    "    # model evaluation\n",
    "    acc = accuracy_score(y_test, y_pred)\n",
    "    print(f'Accuracy: {acc:4.4f}')\n",
    "    \n",
    "    # calculating the precision/recall based multi-label F1 score\n",
    "    macro_score = f1_score(y_test, y_pred, average = 'macro' )\n",
    "    w_score = f1_score(y_test, y_pred,average = 'weighted' )\n",
    "    print(f'    -> Non-Weighted F1 Score on validation set: {macro_score:4.4f} ' )\n",
    "    print(f'    -> Weighted F1 Score on validation set: {w_score:4.4f} ' )\n",
    "    print(class_rep(y_test,y_pred))\n",
    "    \n",
    "    return acc, macro_score, w_score"
   ]
  },
  {
   "cell_type": "code",
   "execution_count": 7,
   "id": "8a453891-0398-4f3d-bb23-2f4f0187795a",
   "metadata": {},
   "outputs": [],
   "source": [
    "model_eval = {}"
   ]
  },
  {
   "cell_type": "code",
   "execution_count": 8,
   "id": "2d4736c2-1a8b-4967-a8a8-255a2427e784",
   "metadata": {},
   "outputs": [
    {
     "name": "stdout",
     "output_type": "stream",
     "text": [
      "Working on Split: Split_1\n",
      "Running a Model Evaluation on split: Split_1\n",
      "\n",
      "Accuracy: 0.8003\n",
      "    -> Non-Weighted F1 Score on validation set: 0.5907 \n",
      "    -> Weighted F1 Score on validation set: 0.7958 \n"
     ]
    },
    {
     "name": "stderr",
     "output_type": "stream",
     "text": [
      "/Users/oscardavalos/miniforge3/envs/scrnaseq_pytorch/lib/python3.9/site-packages/sklearn/metrics/_classification.py:1334: UndefinedMetricWarning: Precision and F-score are ill-defined and being set to 0.0 in labels with no predicted samples. Use `zero_division` parameter to control this behavior.\n",
      "  _warn_prf(average, modifier, msg_start, len(result))\n",
      "/Users/oscardavalos/miniforge3/envs/scrnaseq_pytorch/lib/python3.9/site-packages/sklearn/metrics/_classification.py:1334: UndefinedMetricWarning: Recall and F-score are ill-defined and being set to 0.0 in labels with no true samples. Use `zero_division` parameter to control this behavior.\n",
      "  _warn_prf(average, modifier, msg_start, len(result))\n",
      "/Users/oscardavalos/miniforge3/envs/scrnaseq_pytorch/lib/python3.9/site-packages/sklearn/metrics/_classification.py:1334: UndefinedMetricWarning: Precision and F-score are ill-defined and being set to 0.0 in labels with no predicted samples. Use `zero_division` parameter to control this behavior.\n",
      "  _warn_prf(average, modifier, msg_start, len(result))\n",
      "/Users/oscardavalos/miniforge3/envs/scrnaseq_pytorch/lib/python3.9/site-packages/sklearn/metrics/_classification.py:1334: UndefinedMetricWarning: Recall and F-score are ill-defined and being set to 0.0 in labels with no true samples. Use `zero_division` parameter to control this behavior.\n",
      "  _warn_prf(average, modifier, msg_start, len(result))\n",
      "/Users/oscardavalos/miniforge3/envs/scrnaseq_pytorch/lib/python3.9/site-packages/sklearn/metrics/_classification.py:1334: UndefinedMetricWarning: Precision and F-score are ill-defined and being set to 0.0 in labels with no predicted samples. Use `zero_division` parameter to control this behavior.\n",
      "  _warn_prf(average, modifier, msg_start, len(result))\n",
      "/Users/oscardavalos/miniforge3/envs/scrnaseq_pytorch/lib/python3.9/site-packages/sklearn/metrics/_classification.py:1334: UndefinedMetricWarning: Recall and F-score are ill-defined and being set to 0.0 in labels with no true samples. Use `zero_division` parameter to control this behavior.\n",
      "  _warn_prf(average, modifier, msg_start, len(result))\n"
     ]
    },
    {
     "name": "stdout",
     "output_type": "stream",
     "text": [
      "                           precision    recall  f1-score   support\n",
      "\n",
      "                  B cells       0.96      0.94      0.95      1937\n",
      "              CD4 T cells       0.93      0.86      0.89      5064\n",
      "              CD8 T cells       0.80      0.82      0.81      1852\n",
      "                 NK cells       0.75      0.69      0.72       836\n",
      "             erythrocytes       0.66      0.93      0.77      1044\n",
      "         monocytes + cDCs       0.77      0.88      0.82      1212\n",
      "                      nan       0.00      0.00      0.00       888\n",
      "             plasma cells       0.35      0.61      0.45        61\n",
      "proliferating lymphocytes       0.39      0.70      0.50        80\n",
      "               unassigned       0.00      0.00      0.00         0\n",
      "\n",
      "                 accuracy                           0.80     12974\n",
      "                macro avg       0.56      0.64      0.59     12974\n",
      "             weighted avg       0.80      0.80      0.80     12974\n",
      "\n",
      "Working on Split: Split_2\n",
      "Running a Model Evaluation on split: Split_2\n",
      "\n",
      "Accuracy: 0.8689\n",
      "    -> Non-Weighted F1 Score on validation set: 0.7146 \n",
      "    -> Weighted F1 Score on validation set: 0.8807 \n"
     ]
    },
    {
     "name": "stderr",
     "output_type": "stream",
     "text": [
      "/Users/oscardavalos/miniforge3/envs/scrnaseq_pytorch/lib/python3.9/site-packages/sklearn/metrics/_classification.py:1334: UndefinedMetricWarning: Recall and F-score are ill-defined and being set to 0.0 in labels with no true samples. Use `zero_division` parameter to control this behavior.\n",
      "  _warn_prf(average, modifier, msg_start, len(result))\n",
      "/Users/oscardavalos/miniforge3/envs/scrnaseq_pytorch/lib/python3.9/site-packages/sklearn/metrics/_classification.py:1334: UndefinedMetricWarning: Recall and F-score are ill-defined and being set to 0.0 in labels with no true samples. Use `zero_division` parameter to control this behavior.\n",
      "  _warn_prf(average, modifier, msg_start, len(result))\n",
      "/Users/oscardavalos/miniforge3/envs/scrnaseq_pytorch/lib/python3.9/site-packages/sklearn/metrics/_classification.py:1334: UndefinedMetricWarning: Recall and F-score are ill-defined and being set to 0.0 in labels with no true samples. Use `zero_division` parameter to control this behavior.\n",
      "  _warn_prf(average, modifier, msg_start, len(result))\n"
     ]
    },
    {
     "name": "stdout",
     "output_type": "stream",
     "text": [
      "                           precision    recall  f1-score   support\n",
      "\n",
      "                  B cells       0.96      0.94      0.95      1909\n",
      "              CD4 T cells       0.94      0.88      0.91      5012\n",
      "              CD8 T cells       0.84      0.79      0.82      1908\n",
      "                 NK cells       0.86      0.83      0.84       827\n",
      "             erythrocytes       0.91      0.90      0.90      1045\n",
      "         monocytes + cDCs       0.88      0.96      0.92      1217\n",
      "             plasma cells       0.33      0.81      0.47        68\n",
      "proliferating lymphocytes       0.59      0.62      0.60        86\n",
      "               unassigned       0.00      0.00      0.00         0\n",
      " unidentified lymphocytes       0.73      0.73      0.73       902\n",
      "\n",
      "                 accuracy                           0.87     12974\n",
      "                macro avg       0.70      0.75      0.71     12974\n",
      "             weighted avg       0.90      0.87      0.88     12974\n",
      "\n",
      "Working on Split: Split_3\n",
      "Running a Model Evaluation on split: Split_3\n",
      "\n",
      "Accuracy: 0.8247\n",
      "    -> Non-Weighted F1 Score on validation set: 0.6697 \n",
      "    -> Weighted F1 Score on validation set: 0.8270 \n"
     ]
    },
    {
     "name": "stderr",
     "output_type": "stream",
     "text": [
      "/Users/oscardavalos/miniforge3/envs/scrnaseq_pytorch/lib/python3.9/site-packages/sklearn/metrics/_classification.py:1334: UndefinedMetricWarning: Precision and F-score are ill-defined and being set to 0.0 in labels with no predicted samples. Use `zero_division` parameter to control this behavior.\n",
      "  _warn_prf(average, modifier, msg_start, len(result))\n",
      "/Users/oscardavalos/miniforge3/envs/scrnaseq_pytorch/lib/python3.9/site-packages/sklearn/metrics/_classification.py:1334: UndefinedMetricWarning: Recall and F-score are ill-defined and being set to 0.0 in labels with no true samples. Use `zero_division` parameter to control this behavior.\n",
      "  _warn_prf(average, modifier, msg_start, len(result))\n",
      "/Users/oscardavalos/miniforge3/envs/scrnaseq_pytorch/lib/python3.9/site-packages/sklearn/metrics/_classification.py:1334: UndefinedMetricWarning: Precision and F-score are ill-defined and being set to 0.0 in labels with no predicted samples. Use `zero_division` parameter to control this behavior.\n",
      "  _warn_prf(average, modifier, msg_start, len(result))\n",
      "/Users/oscardavalos/miniforge3/envs/scrnaseq_pytorch/lib/python3.9/site-packages/sklearn/metrics/_classification.py:1334: UndefinedMetricWarning: Recall and F-score are ill-defined and being set to 0.0 in labels with no true samples. Use `zero_division` parameter to control this behavior.\n",
      "  _warn_prf(average, modifier, msg_start, len(result))\n",
      "/Users/oscardavalos/miniforge3/envs/scrnaseq_pytorch/lib/python3.9/site-packages/sklearn/metrics/_classification.py:1334: UndefinedMetricWarning: Precision and F-score are ill-defined and being set to 0.0 in labels with no predicted samples. Use `zero_division` parameter to control this behavior.\n",
      "  _warn_prf(average, modifier, msg_start, len(result))\n",
      "/Users/oscardavalos/miniforge3/envs/scrnaseq_pytorch/lib/python3.9/site-packages/sklearn/metrics/_classification.py:1334: UndefinedMetricWarning: Recall and F-score are ill-defined and being set to 0.0 in labels with no true samples. Use `zero_division` parameter to control this behavior.\n",
      "  _warn_prf(average, modifier, msg_start, len(result))\n"
     ]
    },
    {
     "name": "stdout",
     "output_type": "stream",
     "text": [
      "                  precision    recall  f1-score   support\n",
      "\n",
      "         B cells       0.93      0.96      0.95      1959\n",
      "     CD4 T cells       0.92      0.89      0.91      4937\n",
      "     CD8 T cells       0.84      0.81      0.82      1956\n",
      "        NK cells       0.84      0.89      0.86       775\n",
      "    erythrocytes       0.85      0.91      0.88      1053\n",
      "monocytes + cDCs       0.94      0.94      0.94      1266\n",
      "             nan       0.00      0.00      0.00      1028\n",
      "      unassigned       0.00      0.00      0.00         0\n",
      "\n",
      "        accuracy                           0.82     12974\n",
      "       macro avg       0.67      0.67      0.67     12974\n",
      "    weighted avg       0.83      0.82      0.83     12974\n",
      "\n",
      "Working on Split: Split_4\n",
      "Running a Model Evaluation on split: Split_4\n",
      "\n",
      "Accuracy: 0.8431\n",
      "    -> Non-Weighted F1 Score on validation set: 0.6730 \n",
      "    -> Weighted F1 Score on validation set: 0.8584 \n"
     ]
    },
    {
     "name": "stderr",
     "output_type": "stream",
     "text": [
      "/Users/oscardavalos/miniforge3/envs/scrnaseq_pytorch/lib/python3.9/site-packages/sklearn/metrics/_classification.py:1334: UndefinedMetricWarning: Recall and F-score are ill-defined and being set to 0.0 in labels with no true samples. Use `zero_division` parameter to control this behavior.\n",
      "  _warn_prf(average, modifier, msg_start, len(result))\n",
      "/Users/oscardavalos/miniforge3/envs/scrnaseq_pytorch/lib/python3.9/site-packages/sklearn/metrics/_classification.py:1334: UndefinedMetricWarning: Recall and F-score are ill-defined and being set to 0.0 in labels with no true samples. Use `zero_division` parameter to control this behavior.\n",
      "  _warn_prf(average, modifier, msg_start, len(result))\n",
      "/Users/oscardavalos/miniforge3/envs/scrnaseq_pytorch/lib/python3.9/site-packages/sklearn/metrics/_classification.py:1334: UndefinedMetricWarning: Recall and F-score are ill-defined and being set to 0.0 in labels with no true samples. Use `zero_division` parameter to control this behavior.\n",
      "  _warn_prf(average, modifier, msg_start, len(result))\n"
     ]
    },
    {
     "name": "stdout",
     "output_type": "stream",
     "text": [
      "                           precision    recall  f1-score   support\n",
      "\n",
      "                  B cells       0.94      0.90      0.92      1885\n",
      "              CD4 T cells       0.93      0.85      0.89      5065\n",
      "              CD8 T cells       0.82      0.80      0.81      1882\n",
      "                 NK cells       0.87      0.86      0.86       881\n",
      "             erythrocytes       0.86      0.91      0.88      1085\n",
      "         monocytes + cDCs       0.85      0.95      0.90      1213\n",
      "             plasma cells       0.24      0.95      0.39        58\n",
      "proliferating lymphocytes       0.45      0.47      0.46        76\n",
      "               unassigned       0.00      0.00      0.00         0\n",
      " unidentified lymphocytes       0.70      0.56      0.62       829\n",
      "\n",
      "                 accuracy                           0.84     12974\n",
      "                macro avg       0.67      0.72      0.67     12974\n",
      "             weighted avg       0.88      0.84      0.86     12974\n",
      "\n",
      "Working on Split: Split_5\n",
      "Running a Model Evaluation on split: Split_5\n",
      "\n",
      "Accuracy: 0.7916\n",
      "    -> Non-Weighted F1 Score on validation set: 0.5781 \n",
      "    -> Weighted F1 Score on validation set: 0.7785 \n",
      "                           precision    recall  f1-score   support\n",
      "\n",
      "                  B cells       0.95      0.88      0.91      1882\n",
      "              CD4 T cells       0.83      0.92      0.87      5073\n",
      "              CD8 T cells       0.81      0.74      0.77      1834\n",
      "                 NK cells       0.74      0.56      0.63       818\n",
      "             erythrocytes       0.90      0.83      0.86      1092\n",
      "         monocytes + cDCs       0.73      0.96      0.83      1237\n",
      "                      nan       0.00      0.00      0.00       911\n",
      "             plasma cells       0.42      0.65      0.51        63\n",
      "proliferating lymphocytes       0.31      0.52      0.39        64\n",
      "               unassigned       0.00      0.00      0.00         0\n",
      "\n",
      "                 accuracy                           0.79     12974\n",
      "                macro avg       0.57      0.60      0.58     12974\n",
      "             weighted avg       0.77      0.79      0.78     12974\n",
      "\n"
     ]
    },
    {
     "name": "stderr",
     "output_type": "stream",
     "text": [
      "/Users/oscardavalos/miniforge3/envs/scrnaseq_pytorch/lib/python3.9/site-packages/sklearn/metrics/_classification.py:1334: UndefinedMetricWarning: Precision and F-score are ill-defined and being set to 0.0 in labels with no predicted samples. Use `zero_division` parameter to control this behavior.\n",
      "  _warn_prf(average, modifier, msg_start, len(result))\n",
      "/Users/oscardavalos/miniforge3/envs/scrnaseq_pytorch/lib/python3.9/site-packages/sklearn/metrics/_classification.py:1334: UndefinedMetricWarning: Recall and F-score are ill-defined and being set to 0.0 in labels with no true samples. Use `zero_division` parameter to control this behavior.\n",
      "  _warn_prf(average, modifier, msg_start, len(result))\n",
      "/Users/oscardavalos/miniforge3/envs/scrnaseq_pytorch/lib/python3.9/site-packages/sklearn/metrics/_classification.py:1334: UndefinedMetricWarning: Precision and F-score are ill-defined and being set to 0.0 in labels with no predicted samples. Use `zero_division` parameter to control this behavior.\n",
      "  _warn_prf(average, modifier, msg_start, len(result))\n",
      "/Users/oscardavalos/miniforge3/envs/scrnaseq_pytorch/lib/python3.9/site-packages/sklearn/metrics/_classification.py:1334: UndefinedMetricWarning: Recall and F-score are ill-defined and being set to 0.0 in labels with no true samples. Use `zero_division` parameter to control this behavior.\n",
      "  _warn_prf(average, modifier, msg_start, len(result))\n",
      "/Users/oscardavalos/miniforge3/envs/scrnaseq_pytorch/lib/python3.9/site-packages/sklearn/metrics/_classification.py:1334: UndefinedMetricWarning: Precision and F-score are ill-defined and being set to 0.0 in labels with no predicted samples. Use `zero_division` parameter to control this behavior.\n",
      "  _warn_prf(average, modifier, msg_start, len(result))\n",
      "/Users/oscardavalos/miniforge3/envs/scrnaseq_pytorch/lib/python3.9/site-packages/sklearn/metrics/_classification.py:1334: UndefinedMetricWarning: Recall and F-score are ill-defined and being set to 0.0 in labels with no true samples. Use `zero_division` parameter to control this behavior.\n",
      "  _warn_prf(average, modifier, msg_start, len(result))\n"
     ]
    }
   ],
   "source": [
    "for i in splits:\n",
    "    \n",
    "    print(f\"Working on Split: {i}\")\n",
    "    \n",
    "    # create a dict for storing current split information\n",
    "    split_dict = {'Accuracy':[], \n",
    "                  'Macro_Score':[], \n",
    "                  'Weighted_Score':[]}\n",
    "    acc, macro_score, w_score = runSplitEval(metadata, i, cluster_col='celltypes')\n",
    "    \n",
    "    # joblib.dump(clf, f\"./{model_dir}/{dataset_name}_{i}_RF.pkl\")\n",
    "    \n",
    "    # split_dict['Runtime'].append(total_runtime)\n",
    "    split_dict['Accuracy'].append(acc)\n",
    "    split_dict['Macro_Score'].append(macro_score)\n",
    "    split_dict['Weighted_Score'].append(w_score)\n",
    "    \n",
    "    model_eval[i]=split_dict"
   ]
  },
  {
   "cell_type": "code",
   "execution_count": 9,
   "id": "fc69ac0b-4a20-4225-9ecd-d4663eb0a6e8",
   "metadata": {},
   "outputs": [
    {
     "data": {
      "text/plain": [
       "{'Split_1': {'Accuracy': [0.8002928934792662],\n",
       "  'Macro_Score': [0.5907013545619674],\n",
       "  'Weighted_Score': [0.7957834628100325]},\n",
       " 'Split_2': {'Accuracy': [0.8688916294126715],\n",
       "  'Macro_Score': [0.7145650252953362],\n",
       "  'Weighted_Score': [0.8807215493210933]},\n",
       " 'Split_3': {'Accuracy': [0.8247263758285802],\n",
       "  'Macro_Score': [0.6697126413299548],\n",
       "  'Weighted_Score': [0.8269776856109066]},\n",
       " 'Split_4': {'Accuracy': [0.8431478341297981],\n",
       "  'Macro_Score': [0.6730470349269504],\n",
       "  'Weighted_Score': [0.8584295748051292]},\n",
       " 'Split_5': {'Accuracy': [0.7915831663326653],\n",
       "  'Macro_Score': [0.578117134920969],\n",
       "  'Weighted_Score': [0.7784971409527456]}}"
      ]
     },
     "execution_count": 9,
     "metadata": {},
     "output_type": "execute_result"
    }
   ],
   "source": [
    "model_eval"
   ]
  },
  {
   "cell_type": "code",
   "execution_count": 10,
   "id": "e2a20b22-64cf-4925-b873-9829f9533d38",
   "metadata": {},
   "outputs": [],
   "source": [
    "# save the dictionary\n",
    "def Pickler(data, filename):\n",
    "    \n",
    "    outfile = open(filename, 'wb+')\n",
    "    \n",
    "    #source destination\n",
    "    \n",
    "    pickle.dump(data, outfile)\n",
    "    \n",
    "    outfile.close()\n",
    "\n",
    "Pickler(model_eval, filename=f\"{dictionary_dir}/{dataset_name}_NN_EvalDict.pickle\")"
   ]
  },
  {
   "cell_type": "code",
   "execution_count": null,
   "id": "e7f52f61-48c0-477c-8697-9d7e3321758e",
   "metadata": {},
   "outputs": [],
   "source": []
  }
 ],
 "metadata": {
  "kernelspec": {
   "display_name": "scrnaseq_torch",
   "language": "python",
   "name": "scrnaseq_torch"
  },
  "language_info": {
   "codemirror_mode": {
    "name": "ipython",
    "version": 3
   },
   "file_extension": ".py",
   "mimetype": "text/x-python",
   "name": "python",
   "nbconvert_exporter": "python",
   "pygments_lexer": "ipython3",
   "version": "3.9.12"
  }
 },
 "nbformat": 4,
 "nbformat_minor": 5
}

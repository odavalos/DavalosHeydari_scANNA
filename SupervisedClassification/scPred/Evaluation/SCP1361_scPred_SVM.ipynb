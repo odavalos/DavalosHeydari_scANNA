{
 "cells": [
  {
   "cell_type": "markdown",
   "id": "54959847-cd76-4593-b93f-c3602bec63c3",
   "metadata": {},
   "source": [
    "# scRNAseq scPred SVMRadial Model Evaluation - SCP1361"
   ]
  },
  {
   "cell_type": "code",
   "execution_count": 1,
   "id": "5998c094-37f3-4041-a30f-ee7df526771d",
   "metadata": {},
   "outputs": [],
   "source": [
    "import joblib\n",
    "import matplotlib.pyplot as plt\n",
    "import numpy as np\n",
    "import os\n",
    "import pandas as pd\n",
    "import pickle\n",
    "import scanpy as sc\n",
    "import seaborn as sns\n",
    "from sklearn.ensemble import RandomForestClassifier\n",
    "from sklearn.metrics import accuracy_score\n",
    "from sklearn.metrics import f1_score\n",
    "from sklearn.metrics import classification_report as class_rep\n",
    "import time"
   ]
  },
  {
   "cell_type": "code",
   "execution_count": 2,
   "id": "f38cd49a-549f-4b96-9f1b-3d6edcc978ec",
   "metadata": {},
   "outputs": [],
   "source": [
    "# Prep\n",
    "dataset_name = 'SCP1361' # label for the dataset\n",
    "dictionary_dir = 'scPred_SVM_SplitDicts' # dir where we save the split dictionaries"
   ]
  },
  {
   "cell_type": "code",
   "execution_count": 3,
   "id": "6e3981b7-a4db-4088-b8df-a52aa111d74b",
   "metadata": {},
   "outputs": [
    {
     "name": "stdout",
     "output_type": "stream",
     "text": [
      "Directory already exists!\n"
     ]
    }
   ],
   "source": [
    "# Make sure necessary directories are avalible\n",
    "\n",
    "# dictionary dir\n",
    "if not os.path.exists(dictionary_dir):\n",
    "    os.makedirs(dictionary_dir)\n",
    "    print(f\"Directory {dictionary_dir} created for saving split dictionaries\")\n",
    "    \n",
    "else:\n",
    "    print('Directory already exists!')"
   ]
  },
  {
   "cell_type": "code",
   "execution_count": 4,
   "id": "a4b55036-7559-4fc0-af80-b9e5b127414f",
   "metadata": {},
   "outputs": [],
   "source": [
    "metadata = pd.read_csv('~/NACT_scPred/SCP1361/results/SCP1361_metadata_model_svmRadial.csv')"
   ]
  },
  {
   "cell_type": "code",
   "execution_count": 5,
   "id": "2753eb2b-d8f6-4e68-9f4a-68a037fdc34d",
   "metadata": {},
   "outputs": [],
   "source": [
    "splits = [f'Split_{i}' for i in range(1,6)]"
   ]
  },
  {
   "cell_type": "code",
   "execution_count": 6,
   "id": "45cb59a1-31ff-4d2e-aaee-0cdc0171c348",
   "metadata": {},
   "outputs": [],
   "source": [
    "def runSplitEval(metadata, split, cluster_col='celltypes'):\n",
    "    \"\"\"\n",
    "    Running Model Evaluation on multiple splits of the dataset\n",
    "    \"\"\"\n",
    "    \n",
    "    print(f\"Running a Model Evaluation on split: {split}\\n\")\n",
    "    \n",
    "    metadata = metadata[metadata.data_split == split]\n",
    "    \n",
    "    y_test = metadata[cluster_col].tolist()\n",
    "    y_pred = metadata['scpred_prediction'].tolist()\n",
    "    \n",
    "    \n",
    "    # model evaluation\n",
    "    acc = accuracy_score(y_test, y_pred)\n",
    "    print(f'Accuracy: {acc:4.4f}')\n",
    "    \n",
    "    # calculating the precision/recall based multi-label F1 score\n",
    "    macro_score = f1_score(y_test, y_pred, average = 'macro' )\n",
    "    w_score = f1_score(y_test, y_pred,average = 'weighted' )\n",
    "    print(f'    -> Non-Weighted F1 Score on validation set: {macro_score:4.4f} ' )\n",
    "    print(f'    -> Weighted F1 Score on validation set: {w_score:4.4f} ' )\n",
    "    print(class_rep(y_test,y_pred))\n",
    "    \n",
    "    return acc, macro_score, w_score"
   ]
  },
  {
   "cell_type": "code",
   "execution_count": 7,
   "id": "8a453891-0398-4f3d-bb23-2f4f0187795a",
   "metadata": {},
   "outputs": [],
   "source": [
    "model_eval = {}"
   ]
  },
  {
   "cell_type": "code",
   "execution_count": 8,
   "id": "2d4736c2-1a8b-4967-a8a8-255a2427e784",
   "metadata": {},
   "outputs": [
    {
     "name": "stdout",
     "output_type": "stream",
     "text": [
      "Working on Split: Split_1\n",
      "Running a Model Evaluation on split: Split_1\n",
      "\n",
      "Accuracy: 0.9508\n",
      "    -> Non-Weighted F1 Score on validation set: 0.8681 \n",
      "    -> Weighted F1 Score on validation set: 0.9611 \n",
      "                    precision    recall  f1-score   support\n",
      "\n",
      "            B cell       0.99      0.96      0.98       572\n",
      "            T cell       0.98      0.98      0.98       254\n",
      "    dendritic cell       0.96      0.93      0.95       195\n",
      "  endothelial cell       0.99      0.96      0.97       181\n",
      "        fibroblast       0.96      0.95      0.96      1486\n",
      "        macrophage       0.99      0.96      0.97       552\n",
      "  mesothelial cell       0.93      0.88      0.90       487\n",
      "       neural cell       0.96      0.92      0.94        52\n",
      "     pericyte cell       0.93      0.89      0.91       140\n",
      "smooth muscle cell       0.99      0.99      0.99       882\n",
      "        unassigned       0.00      0.00      0.00         0\n",
      "\n",
      "          accuracy                           0.95      4801\n",
      "         macro avg       0.88      0.86      0.87      4801\n",
      "      weighted avg       0.97      0.95      0.96      4801\n",
      "\n",
      "Working on Split: Split_2\n",
      "Running a Model Evaluation on split: Split_2\n",
      "\n",
      "Accuracy: 0.9519\n",
      "    -> Non-Weighted F1 Score on validation set: 0.8740 \n",
      "    -> Weighted F1 Score on validation set: 0.9639 \n",
      "                    precision    recall  f1-score   support\n",
      "\n",
      "            B cell       1.00      0.96      0.98       593\n",
      "            T cell       0.98      0.97      0.98       262\n",
      "    dendritic cell       0.98      0.92      0.94       214\n",
      "  endothelial cell       0.99      0.98      0.99       167\n",
      "        fibroblast       0.97      0.95      0.96      1505\n",
      "        macrophage       0.98      0.96      0.97       563\n",
      "  mesothelial cell       0.93      0.90      0.91       466\n",
      "       neural cell       0.98      0.93      0.95        43\n",
      "     pericyte cell       0.98      0.91      0.95       134\n",
      "smooth muscle cell       0.99      0.98      0.99       854\n",
      "        unassigned       0.00      0.00      0.00         0\n",
      "\n",
      "          accuracy                           0.95      4801\n",
      "         macro avg       0.89      0.86      0.87      4801\n",
      "      weighted avg       0.98      0.95      0.96      4801\n",
      "\n",
      "Working on Split: Split_3\n",
      "Running a Model Evaluation on split: Split_3\n",
      "\n",
      "Accuracy: 0.9490\n",
      "    -> Non-Weighted F1 Score on validation set: 0.8702 \n",
      "    -> Weighted F1 Score on validation set: 0.9611 \n"
     ]
    },
    {
     "name": "stderr",
     "output_type": "stream",
     "text": [
      "/Users/oscardavalos/miniforge3/envs/scrnaseq_pytorch/lib/python3.9/site-packages/sklearn/metrics/_classification.py:1334: UndefinedMetricWarning: Recall and F-score are ill-defined and being set to 0.0 in labels with no true samples. Use `zero_division` parameter to control this behavior.\n",
      "  _warn_prf(average, modifier, msg_start, len(result))\n",
      "/Users/oscardavalos/miniforge3/envs/scrnaseq_pytorch/lib/python3.9/site-packages/sklearn/metrics/_classification.py:1334: UndefinedMetricWarning: Recall and F-score are ill-defined and being set to 0.0 in labels with no true samples. Use `zero_division` parameter to control this behavior.\n",
      "  _warn_prf(average, modifier, msg_start, len(result))\n",
      "/Users/oscardavalos/miniforge3/envs/scrnaseq_pytorch/lib/python3.9/site-packages/sklearn/metrics/_classification.py:1334: UndefinedMetricWarning: Recall and F-score are ill-defined and being set to 0.0 in labels with no true samples. Use `zero_division` parameter to control this behavior.\n",
      "  _warn_prf(average, modifier, msg_start, len(result))\n",
      "/Users/oscardavalos/miniforge3/envs/scrnaseq_pytorch/lib/python3.9/site-packages/sklearn/metrics/_classification.py:1334: UndefinedMetricWarning: Recall and F-score are ill-defined and being set to 0.0 in labels with no true samples. Use `zero_division` parameter to control this behavior.\n",
      "  _warn_prf(average, modifier, msg_start, len(result))\n",
      "/Users/oscardavalos/miniforge3/envs/scrnaseq_pytorch/lib/python3.9/site-packages/sklearn/metrics/_classification.py:1334: UndefinedMetricWarning: Recall and F-score are ill-defined and being set to 0.0 in labels with no true samples. Use `zero_division` parameter to control this behavior.\n",
      "  _warn_prf(average, modifier, msg_start, len(result))\n",
      "/Users/oscardavalos/miniforge3/envs/scrnaseq_pytorch/lib/python3.9/site-packages/sklearn/metrics/_classification.py:1334: UndefinedMetricWarning: Recall and F-score are ill-defined and being set to 0.0 in labels with no true samples. Use `zero_division` parameter to control this behavior.\n",
      "  _warn_prf(average, modifier, msg_start, len(result))\n",
      "/Users/oscardavalos/miniforge3/envs/scrnaseq_pytorch/lib/python3.9/site-packages/sklearn/metrics/_classification.py:1334: UndefinedMetricWarning: Recall and F-score are ill-defined and being set to 0.0 in labels with no true samples. Use `zero_division` parameter to control this behavior.\n",
      "  _warn_prf(average, modifier, msg_start, len(result))\n",
      "/Users/oscardavalos/miniforge3/envs/scrnaseq_pytorch/lib/python3.9/site-packages/sklearn/metrics/_classification.py:1334: UndefinedMetricWarning: Recall and F-score are ill-defined and being set to 0.0 in labels with no true samples. Use `zero_division` parameter to control this behavior.\n",
      "  _warn_prf(average, modifier, msg_start, len(result))\n",
      "/Users/oscardavalos/miniforge3/envs/scrnaseq_pytorch/lib/python3.9/site-packages/sklearn/metrics/_classification.py:1334: UndefinedMetricWarning: Recall and F-score are ill-defined and being set to 0.0 in labels with no true samples. Use `zero_division` parameter to control this behavior.\n",
      "  _warn_prf(average, modifier, msg_start, len(result))\n"
     ]
    },
    {
     "name": "stdout",
     "output_type": "stream",
     "text": [
      "                    precision    recall  f1-score   support\n",
      "\n",
      "            B cell       0.99      0.96      0.98       597\n",
      "            T cell       1.00      0.98      0.99       258\n",
      "    dendritic cell       0.95      0.92      0.94       193\n",
      "  endothelial cell       0.99      0.99      0.99       162\n",
      "        fibroblast       0.96      0.95      0.96      1465\n",
      "        macrophage       0.99      0.94      0.97       562\n",
      "  mesothelial cell       0.92      0.87      0.89       464\n",
      "       neural cell       1.00      0.93      0.96        43\n",
      "     pericyte cell       0.93      0.90      0.91       130\n",
      "smooth muscle cell       1.00      0.98      0.99       927\n",
      "        unassigned       0.00      0.00      0.00         0\n",
      "\n",
      "          accuracy                           0.95      4801\n",
      "         macro avg       0.88      0.86      0.87      4801\n",
      "      weighted avg       0.97      0.95      0.96      4801\n",
      "\n",
      "Working on Split: Split_4\n",
      "Running a Model Evaluation on split: Split_4\n",
      "\n",
      "Accuracy: 0.9502\n",
      "    -> Non-Weighted F1 Score on validation set: 0.8690 \n",
      "    -> Weighted F1 Score on validation set: 0.9602 \n",
      "                    precision    recall  f1-score   support\n",
      "\n",
      "            B cell       0.99      0.97      0.98       584\n",
      "            T cell       0.99      0.98      0.98       262\n",
      "    dendritic cell       0.97      0.89      0.93       171\n",
      "  endothelial cell       0.97      0.96      0.97       148\n",
      "        fibroblast       0.96      0.94      0.95      1537\n",
      "        macrophage       0.99      0.95      0.97       544\n",
      "  mesothelial cell       0.92      0.89      0.90       479\n",
      "       neural cell       0.95      0.98      0.96        41\n",
      "     pericyte cell       0.95      0.89      0.92       148\n",
      "smooth muscle cell       0.99      0.99      0.99       887\n",
      "        unassigned       0.00      0.00      0.00         0\n",
      "\n",
      "          accuracy                           0.95      4801\n",
      "         macro avg       0.88      0.86      0.87      4801\n",
      "      weighted avg       0.97      0.95      0.96      4801\n",
      "\n",
      "Working on Split: Split_5\n",
      "Running a Model Evaluation on split: Split_5\n",
      "\n",
      "Accuracy: 0.9563\n",
      "    -> Non-Weighted F1 Score on validation set: 0.8761 \n",
      "    -> Weighted F1 Score on validation set: 0.9655 \n",
      "                    precision    recall  f1-score   support\n",
      "\n",
      "            B cell       1.00      0.98      0.99       611\n",
      "            T cell       0.99      0.98      0.99       273\n",
      "    dendritic cell       0.96      0.90      0.93       195\n",
      "  endothelial cell       0.97      0.98      0.98       190\n",
      "        fibroblast       0.96      0.96      0.96      1479\n",
      "        macrophage       0.99      0.97      0.98       519\n",
      "  mesothelial cell       0.93      0.87      0.90       460\n",
      "       neural cell       0.98      1.00      0.99        43\n",
      "     pericyte cell       0.99      0.90      0.94       153\n",
      "smooth muscle cell       0.99      0.98      0.99       878\n",
      "        unassigned       0.00      0.00      0.00         0\n",
      "\n",
      "          accuracy                           0.96      4801\n",
      "         macro avg       0.89      0.87      0.88      4801\n",
      "      weighted avg       0.98      0.96      0.97      4801\n",
      "\n"
     ]
    },
    {
     "name": "stderr",
     "output_type": "stream",
     "text": [
      "/Users/oscardavalos/miniforge3/envs/scrnaseq_pytorch/lib/python3.9/site-packages/sklearn/metrics/_classification.py:1334: UndefinedMetricWarning: Recall and F-score are ill-defined and being set to 0.0 in labels with no true samples. Use `zero_division` parameter to control this behavior.\n",
      "  _warn_prf(average, modifier, msg_start, len(result))\n",
      "/Users/oscardavalos/miniforge3/envs/scrnaseq_pytorch/lib/python3.9/site-packages/sklearn/metrics/_classification.py:1334: UndefinedMetricWarning: Recall and F-score are ill-defined and being set to 0.0 in labels with no true samples. Use `zero_division` parameter to control this behavior.\n",
      "  _warn_prf(average, modifier, msg_start, len(result))\n",
      "/Users/oscardavalos/miniforge3/envs/scrnaseq_pytorch/lib/python3.9/site-packages/sklearn/metrics/_classification.py:1334: UndefinedMetricWarning: Recall and F-score are ill-defined and being set to 0.0 in labels with no true samples. Use `zero_division` parameter to control this behavior.\n",
      "  _warn_prf(average, modifier, msg_start, len(result))\n",
      "/Users/oscardavalos/miniforge3/envs/scrnaseq_pytorch/lib/python3.9/site-packages/sklearn/metrics/_classification.py:1334: UndefinedMetricWarning: Recall and F-score are ill-defined and being set to 0.0 in labels with no true samples. Use `zero_division` parameter to control this behavior.\n",
      "  _warn_prf(average, modifier, msg_start, len(result))\n",
      "/Users/oscardavalos/miniforge3/envs/scrnaseq_pytorch/lib/python3.9/site-packages/sklearn/metrics/_classification.py:1334: UndefinedMetricWarning: Recall and F-score are ill-defined and being set to 0.0 in labels with no true samples. Use `zero_division` parameter to control this behavior.\n",
      "  _warn_prf(average, modifier, msg_start, len(result))\n",
      "/Users/oscardavalos/miniforge3/envs/scrnaseq_pytorch/lib/python3.9/site-packages/sklearn/metrics/_classification.py:1334: UndefinedMetricWarning: Recall and F-score are ill-defined and being set to 0.0 in labels with no true samples. Use `zero_division` parameter to control this behavior.\n",
      "  _warn_prf(average, modifier, msg_start, len(result))\n"
     ]
    }
   ],
   "source": [
    "for i in splits:\n",
    "    \n",
    "    print(f\"Working on Split: {i}\")\n",
    "    \n",
    "    # create a dict for storing current split information\n",
    "    split_dict = {'Accuracy':[], \n",
    "                  'Macro_Score':[], \n",
    "                  'Weighted_Score':[]}\n",
    "    acc, macro_score, w_score = runSplitEval(metadata, i, cluster_col='celltypes')\n",
    "    \n",
    "    # joblib.dump(clf, f\"./{model_dir}/{dataset_name}_{i}_RF.pkl\")\n",
    "    \n",
    "    # split_dict['Runtime'].append(total_runtime)\n",
    "    split_dict['Accuracy'].append(acc)\n",
    "    split_dict['Macro_Score'].append(macro_score)\n",
    "    split_dict['Weighted_Score'].append(w_score)\n",
    "    \n",
    "    model_eval[i]=split_dict"
   ]
  },
  {
   "cell_type": "code",
   "execution_count": 9,
   "id": "fc69ac0b-4a20-4225-9ecd-d4663eb0a6e8",
   "metadata": {},
   "outputs": [
    {
     "data": {
      "text/plain": [
       "{'Split_1': {'Accuracy': [0.9508435742553635],\n",
       "  'Macro_Score': [0.8680834111804632],\n",
       "  'Weighted_Score': [0.9611044869060454]},\n",
       " 'Split_2': {'Accuracy': [0.9518850239533431],\n",
       "  'Macro_Score': [0.8740480193114962],\n",
       "  'Weighted_Score': [0.963874665141841]},\n",
       " 'Split_3': {'Accuracy': [0.9489689647990002],\n",
       "  'Macro_Score': [0.8701591934726487],\n",
       "  'Weighted_Score': [0.9610597970076015]},\n",
       " 'Split_4': {'Accuracy': [0.9502187044365757],\n",
       "  'Macro_Score': [0.8690388447839944],\n",
       "  'Weighted_Score': [0.9602034964579169]},\n",
       " 'Split_5': {'Accuracy': [0.9562591126848573],\n",
       "  'Macro_Score': [0.876100447081308],\n",
       "  'Weighted_Score': [0.9654857591182624]}}"
      ]
     },
     "execution_count": 9,
     "metadata": {},
     "output_type": "execute_result"
    }
   ],
   "source": [
    "model_eval"
   ]
  },
  {
   "cell_type": "code",
   "execution_count": 10,
   "id": "e2a20b22-64cf-4925-b873-9829f9533d38",
   "metadata": {},
   "outputs": [],
   "source": [
    "# save the dictionary\n",
    "def Pickler(data, filename):\n",
    "    \n",
    "    outfile = open(filename, 'wb+')\n",
    "    \n",
    "    #source destination\n",
    "    \n",
    "    pickle.dump(data, outfile)\n",
    "    \n",
    "    outfile.close()\n",
    "\n",
    "Pickler(model_eval, filename=f\"{dictionary_dir}/{dataset_name}_svmRadial_EvalDict.pickle\")"
   ]
  },
  {
   "cell_type": "code",
   "execution_count": null,
   "id": "b762f2ae-1434-4c51-9254-aa81f4bcf93f",
   "metadata": {},
   "outputs": [],
   "source": []
  }
 ],
 "metadata": {
  "kernelspec": {
   "display_name": "scrnaseq_torch",
   "language": "python",
   "name": "scrnaseq_torch"
  },
  "language_info": {
   "codemirror_mode": {
    "name": "ipython",
    "version": 3
   },
   "file_extension": ".py",
   "mimetype": "text/x-python",
   "name": "python",
   "nbconvert_exporter": "python",
   "pygments_lexer": "ipython3",
   "version": "3.9.12"
  }
 },
 "nbformat": 4,
 "nbformat_minor": 5
}

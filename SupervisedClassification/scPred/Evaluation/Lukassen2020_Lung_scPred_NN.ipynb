{
 "cells": [
  {
   "cell_type": "markdown",
   "id": "54959847-cd76-4593-b93f-c3602bec63c3",
   "metadata": {},
   "source": [
    "# scRNAseq scPred NNet Model Evaluation - Lukassen2020_Lung"
   ]
  },
  {
   "cell_type": "code",
   "execution_count": 1,
   "id": "5998c094-37f3-4041-a30f-ee7df526771d",
   "metadata": {},
   "outputs": [],
   "source": [
    "import joblib\n",
    "import matplotlib.pyplot as plt\n",
    "import numpy as np\n",
    "import os\n",
    "import pandas as pd\n",
    "import pickle\n",
    "import scanpy as sc\n",
    "import seaborn as sns\n",
    "from sklearn.ensemble import RandomForestClassifier\n",
    "from sklearn.metrics import accuracy_score\n",
    "from sklearn.metrics import f1_score\n",
    "from sklearn.metrics import classification_report as class_rep\n",
    "import time"
   ]
  },
  {
   "cell_type": "code",
   "execution_count": 2,
   "id": "f38cd49a-549f-4b96-9f1b-3d6edcc978ec",
   "metadata": {},
   "outputs": [],
   "source": [
    "# Prep\n",
    "dataset_name = 'Lukassen2020_Lung' # label for the dataset\n",
    "dictionary_dir = 'scPred_NN_SplitDicts' # dir where we save the split dictionaries"
   ]
  },
  {
   "cell_type": "code",
   "execution_count": 3,
   "id": "6e3981b7-a4db-4088-b8df-a52aa111d74b",
   "metadata": {},
   "outputs": [
    {
     "name": "stdout",
     "output_type": "stream",
     "text": [
      "Directory already exists!\n"
     ]
    }
   ],
   "source": [
    "# Make sure necessary directories are avalible\n",
    "\n",
    "# dictionary dir\n",
    "if not os.path.exists(dictionary_dir):\n",
    "    os.makedirs(dictionary_dir)\n",
    "    print(f\"Directory {dictionary_dir} created for saving split dictionaries\")\n",
    "    \n",
    "else:\n",
    "    print('Directory already exists!')"
   ]
  },
  {
   "cell_type": "code",
   "execution_count": 4,
   "id": "a4b55036-7559-4fc0-af80-b9e5b127414f",
   "metadata": {},
   "outputs": [],
   "source": [
    "metadata = pd.read_csv('~/NACT_scPred/Lukassen2020_Lung/results/Lukassen2020_Lung_metadata_model_svmRadial.csv')"
   ]
  },
  {
   "cell_type": "code",
   "execution_count": 5,
   "id": "2753eb2b-d8f6-4e68-9f4a-68a037fdc34d",
   "metadata": {},
   "outputs": [],
   "source": [
    "splits = [f'Split_{i}' for i in range(1,6)]"
   ]
  },
  {
   "cell_type": "code",
   "execution_count": 6,
   "id": "45cb59a1-31ff-4d2e-aaee-0cdc0171c348",
   "metadata": {},
   "outputs": [],
   "source": [
    "def runSplitEval(metadata, split, cluster_col='celltypes'):\n",
    "    \"\"\"\n",
    "    Running Model Evaluation on multiple splits of the dataset\n",
    "    \"\"\"\n",
    "    \n",
    "    print(f\"Running a Model Evaluation on split: {split}\\n\")\n",
    "\n",
    "    \n",
    "    metadata = metadata[metadata.data_split == split]\n",
    "    \n",
    "    y_test = metadata[cluster_col].tolist()\n",
    "    y_pred = metadata['scpred_prediction'].tolist()\n",
    "    \n",
    "    # model evaluation\n",
    "    acc = accuracy_score(y_test, y_pred)\n",
    "    print(f'Accuracy: {acc:4.4f}')\n",
    "    \n",
    "    # calculating the precision/recall based multi-label F1 score\n",
    "    macro_score = f1_score(y_test, y_pred, average = 'macro' )\n",
    "    w_score = f1_score(y_test, y_pred,average = 'weighted' )\n",
    "    print(f'    -> Non-Weighted F1 Score on validation set: {macro_score:4.4f} ' )\n",
    "    print(f'    -> Weighted F1 Score on validation set: {w_score:4.4f} ' )\n",
    "    print(class_rep(y_test,y_pred))\n",
    "\n",
    "    return acc, macro_score, w_score"
   ]
  },
  {
   "cell_type": "code",
   "execution_count": 7,
   "id": "8a453891-0398-4f3d-bb23-2f4f0187795a",
   "metadata": {},
   "outputs": [],
   "source": [
    "model_eval = {}"
   ]
  },
  {
   "cell_type": "code",
   "execution_count": 8,
   "id": "2d4736c2-1a8b-4967-a8a8-255a2427e784",
   "metadata": {},
   "outputs": [
    {
     "name": "stdout",
     "output_type": "stream",
     "text": [
      "Working on Split: Split_1\n",
      "Running a Model Evaluation on split: Split_1\n",
      "\n",
      "Accuracy: 0.7861\n",
      "    -> Non-Weighted F1 Score on validation set: 0.7369 \n",
      "    -> Weighted F1 Score on validation set: 0.8696 \n",
      "                      precision    recall  f1-score   support\n",
      "\n",
      "                 AT1       0.99      0.86      0.92      1347\n",
      "                 AT2       0.99      0.73      0.84      3049\n",
      "            Ciliated       0.97      0.63      0.77       401\n",
      "                Club       0.93      0.80      0.86       258\n",
      "         Endothelial       0.96      0.82      0.88       823\n",
      "         Fibroblasts       0.93      0.80      0.86       315\n",
      "LymphaticEndothelium       0.94      0.51      0.66        57\n",
      "           Monocytes       0.99      0.90      0.94      1517\n",
      "              TCells       0.93      0.49      0.64       189\n",
      "          unassigned       0.00      0.00      0.00         0\n",
      "\n",
      "            accuracy                           0.79      7956\n",
      "           macro avg       0.86      0.65      0.74      7956\n",
      "        weighted avg       0.98      0.79      0.87      7956\n",
      "\n",
      "Working on Split: Split_2\n",
      "Running a Model Evaluation on split: Split_2\n",
      "\n",
      "Accuracy: 0.7951\n",
      "    -> Non-Weighted F1 Score on validation set: 0.7282 \n",
      "    -> Weighted F1 Score on validation set: 0.8754 \n"
     ]
    },
    {
     "name": "stderr",
     "output_type": "stream",
     "text": [
      "/Users/oscardavalos/miniforge3/envs/scrnaseq_pytorch/lib/python3.9/site-packages/sklearn/metrics/_classification.py:1334: UndefinedMetricWarning: Recall and F-score are ill-defined and being set to 0.0 in labels with no true samples. Use `zero_division` parameter to control this behavior.\n",
      "  _warn_prf(average, modifier, msg_start, len(result))\n",
      "/Users/oscardavalos/miniforge3/envs/scrnaseq_pytorch/lib/python3.9/site-packages/sklearn/metrics/_classification.py:1334: UndefinedMetricWarning: Recall and F-score are ill-defined and being set to 0.0 in labels with no true samples. Use `zero_division` parameter to control this behavior.\n",
      "  _warn_prf(average, modifier, msg_start, len(result))\n",
      "/Users/oscardavalos/miniforge3/envs/scrnaseq_pytorch/lib/python3.9/site-packages/sklearn/metrics/_classification.py:1334: UndefinedMetricWarning: Recall and F-score are ill-defined and being set to 0.0 in labels with no true samples. Use `zero_division` parameter to control this behavior.\n",
      "  _warn_prf(average, modifier, msg_start, len(result))\n",
      "/Users/oscardavalos/miniforge3/envs/scrnaseq_pytorch/lib/python3.9/site-packages/sklearn/metrics/_classification.py:1334: UndefinedMetricWarning: Recall and F-score are ill-defined and being set to 0.0 in labels with no true samples. Use `zero_division` parameter to control this behavior.\n",
      "  _warn_prf(average, modifier, msg_start, len(result))\n",
      "/Users/oscardavalos/miniforge3/envs/scrnaseq_pytorch/lib/python3.9/site-packages/sklearn/metrics/_classification.py:1334: UndefinedMetricWarning: Recall and F-score are ill-defined and being set to 0.0 in labels with no true samples. Use `zero_division` parameter to control this behavior.\n",
      "  _warn_prf(average, modifier, msg_start, len(result))\n",
      "/Users/oscardavalos/miniforge3/envs/scrnaseq_pytorch/lib/python3.9/site-packages/sklearn/metrics/_classification.py:1334: UndefinedMetricWarning: Recall and F-score are ill-defined and being set to 0.0 in labels with no true samples. Use `zero_division` parameter to control this behavior.\n",
      "  _warn_prf(average, modifier, msg_start, len(result))\n"
     ]
    },
    {
     "name": "stdout",
     "output_type": "stream",
     "text": [
      "                      precision    recall  f1-score   support\n",
      "\n",
      "                 AT1       0.99      0.84      0.91      1389\n",
      "                 AT2       0.99      0.75      0.86      2999\n",
      "            Ciliated       0.98      0.61      0.76       389\n",
      "                Club       0.92      0.78      0.85       271\n",
      "         Endothelial       0.97      0.82      0.89       811\n",
      "         Fibroblasts       0.93      0.80      0.86       302\n",
      "LymphaticEndothelium       0.92      0.44      0.60        54\n",
      "           Monocytes       0.99      0.92      0.95      1545\n",
      "              TCells       0.93      0.45      0.60       196\n",
      "          unassigned       0.00      0.00      0.00         0\n",
      "\n",
      "            accuracy                           0.80      7956\n",
      "           macro avg       0.86      0.64      0.73      7956\n",
      "        weighted avg       0.98      0.80      0.88      7956\n",
      "\n",
      "Working on Split: Split_3\n",
      "Running a Model Evaluation on split: Split_3\n",
      "\n",
      "Accuracy: 0.7854\n",
      "    -> Non-Weighted F1 Score on validation set: 0.7395 \n",
      "    -> Weighted F1 Score on validation set: 0.8709 \n",
      "                      precision    recall  f1-score   support\n",
      "\n",
      "                 AT1       0.99      0.85      0.92      1323\n",
      "                 AT2       1.00      0.72      0.84      3045\n",
      "            Ciliated       0.99      0.64      0.78       402\n",
      "                Club       0.94      0.82      0.88       287\n",
      "         Endothelial       0.98      0.80      0.88       791\n",
      "         Fibroblasts       0.90      0.85      0.88       323\n",
      "LymphaticEndothelium       1.00      0.43      0.60        65\n",
      "           Monocytes       0.99      0.91      0.95      1513\n",
      "              TCells       0.92      0.53      0.67       207\n",
      "          unassigned       0.00      0.00      0.00         0\n",
      "\n",
      "            accuracy                           0.79      7956\n",
      "           macro avg       0.87      0.66      0.74      7956\n",
      "        weighted avg       0.99      0.79      0.87      7956\n",
      "\n",
      "Working on Split: Split_4\n",
      "Running a Model Evaluation on split: Split_4\n",
      "\n",
      "Accuracy: 0.7940\n",
      "    -> Non-Weighted F1 Score on validation set: 0.7386 \n",
      "    -> Weighted F1 Score on validation set: 0.8744 \n"
     ]
    },
    {
     "name": "stderr",
     "output_type": "stream",
     "text": [
      "/Users/oscardavalos/miniforge3/envs/scrnaseq_pytorch/lib/python3.9/site-packages/sklearn/metrics/_classification.py:1334: UndefinedMetricWarning: Recall and F-score are ill-defined and being set to 0.0 in labels with no true samples. Use `zero_division` parameter to control this behavior.\n",
      "  _warn_prf(average, modifier, msg_start, len(result))\n",
      "/Users/oscardavalos/miniforge3/envs/scrnaseq_pytorch/lib/python3.9/site-packages/sklearn/metrics/_classification.py:1334: UndefinedMetricWarning: Recall and F-score are ill-defined and being set to 0.0 in labels with no true samples. Use `zero_division` parameter to control this behavior.\n",
      "  _warn_prf(average, modifier, msg_start, len(result))\n",
      "/Users/oscardavalos/miniforge3/envs/scrnaseq_pytorch/lib/python3.9/site-packages/sklearn/metrics/_classification.py:1334: UndefinedMetricWarning: Recall and F-score are ill-defined and being set to 0.0 in labels with no true samples. Use `zero_division` parameter to control this behavior.\n",
      "  _warn_prf(average, modifier, msg_start, len(result))\n",
      "/Users/oscardavalos/miniforge3/envs/scrnaseq_pytorch/lib/python3.9/site-packages/sklearn/metrics/_classification.py:1334: UndefinedMetricWarning: Recall and F-score are ill-defined and being set to 0.0 in labels with no true samples. Use `zero_division` parameter to control this behavior.\n",
      "  _warn_prf(average, modifier, msg_start, len(result))\n",
      "/Users/oscardavalos/miniforge3/envs/scrnaseq_pytorch/lib/python3.9/site-packages/sklearn/metrics/_classification.py:1334: UndefinedMetricWarning: Recall and F-score are ill-defined and being set to 0.0 in labels with no true samples. Use `zero_division` parameter to control this behavior.\n",
      "  _warn_prf(average, modifier, msg_start, len(result))\n",
      "/Users/oscardavalos/miniforge3/envs/scrnaseq_pytorch/lib/python3.9/site-packages/sklearn/metrics/_classification.py:1334: UndefinedMetricWarning: Recall and F-score are ill-defined and being set to 0.0 in labels with no true samples. Use `zero_division` parameter to control this behavior.\n",
      "  _warn_prf(average, modifier, msg_start, len(result))\n"
     ]
    },
    {
     "name": "stdout",
     "output_type": "stream",
     "text": [
      "                      precision    recall  f1-score   support\n",
      "\n",
      "                 AT1       0.99      0.87      0.93      1339\n",
      "                 AT2       0.99      0.74      0.85      3017\n",
      "            Ciliated       0.99      0.58      0.74       399\n",
      "                Club       0.94      0.76      0.84       281\n",
      "         Endothelial       0.96      0.82      0.89       824\n",
      "         Fibroblasts       0.89      0.80      0.84       296\n",
      "LymphaticEndothelium       0.93      0.52      0.67        54\n",
      "           Monocytes       0.99      0.93      0.96      1540\n",
      "              TCells       0.97      0.52      0.68       206\n",
      "          unassigned       0.00      0.00      0.00         0\n",
      "\n",
      "            accuracy                           0.79      7956\n",
      "           macro avg       0.87      0.65      0.74      7956\n",
      "        weighted avg       0.98      0.79      0.87      7956\n",
      "\n",
      "Working on Split: Split_5\n",
      "Running a Model Evaluation on split: Split_5\n",
      "\n",
      "Accuracy: 0.7822\n",
      "    -> Non-Weighted F1 Score on validation set: 0.7376 \n",
      "    -> Weighted F1 Score on validation set: 0.8698 \n",
      "                      precision    recall  f1-score   support\n",
      "\n",
      "                 AT1       0.99      0.83      0.91      1294\n",
      "                 AT2       1.00      0.72      0.84      3055\n",
      "            Ciliated       0.99      0.64      0.78       413\n",
      "                Club       0.96      0.82      0.89       276\n",
      "         Endothelial       0.98      0.81      0.89       849\n",
      "         Fibroblasts       0.94      0.76      0.84       304\n",
      "LymphaticEndothelium       0.92      0.44      0.59        55\n",
      "           Monocytes       0.99      0.91      0.95      1516\n",
      "              TCells       0.88      0.57      0.69       194\n",
      "          unassigned       0.00      0.00      0.00         0\n",
      "\n",
      "            accuracy                           0.78      7956\n",
      "           macro avg       0.87      0.65      0.74      7956\n",
      "        weighted avg       0.99      0.78      0.87      7956\n",
      "\n"
     ]
    },
    {
     "name": "stderr",
     "output_type": "stream",
     "text": [
      "/Users/oscardavalos/miniforge3/envs/scrnaseq_pytorch/lib/python3.9/site-packages/sklearn/metrics/_classification.py:1334: UndefinedMetricWarning: Recall and F-score are ill-defined and being set to 0.0 in labels with no true samples. Use `zero_division` parameter to control this behavior.\n",
      "  _warn_prf(average, modifier, msg_start, len(result))\n",
      "/Users/oscardavalos/miniforge3/envs/scrnaseq_pytorch/lib/python3.9/site-packages/sklearn/metrics/_classification.py:1334: UndefinedMetricWarning: Recall and F-score are ill-defined and being set to 0.0 in labels with no true samples. Use `zero_division` parameter to control this behavior.\n",
      "  _warn_prf(average, modifier, msg_start, len(result))\n",
      "/Users/oscardavalos/miniforge3/envs/scrnaseq_pytorch/lib/python3.9/site-packages/sklearn/metrics/_classification.py:1334: UndefinedMetricWarning: Recall and F-score are ill-defined and being set to 0.0 in labels with no true samples. Use `zero_division` parameter to control this behavior.\n",
      "  _warn_prf(average, modifier, msg_start, len(result))\n"
     ]
    }
   ],
   "source": [
    "for i in splits:\n",
    "    \n",
    "    print(f\"Working on Split: {i}\")\n",
    "    \n",
    "    # create a dict for storing current split information\n",
    "    split_dict = {'Accuracy':[], \n",
    "                  'Macro_Score':[], \n",
    "                  'Weighted_Score':[]}\n",
    "    acc, macro_score, w_score = runSplitEval(metadata, i, cluster_col='celltypes')\n",
    "    \n",
    "    # joblib.dump(clf, f\"./{model_dir}/{dataset_name}_{i}_RF.pkl\")\n",
    "    \n",
    "    # split_dict['Runtime'].append(total_runtime)\n",
    "    split_dict['Accuracy'].append(acc)\n",
    "    split_dict['Macro_Score'].append(macro_score)\n",
    "    split_dict['Weighted_Score'].append(w_score)\n",
    "    \n",
    "    model_eval[i]=split_dict"
   ]
  },
  {
   "cell_type": "code",
   "execution_count": 9,
   "id": "fc69ac0b-4a20-4225-9ecd-d4663eb0a6e8",
   "metadata": {},
   "outputs": [
    {
     "data": {
      "text/plain": [
       "{'Split_1': {'Accuracy': [0.7860734037204625],\n",
       "  'Macro_Score': [0.7368894256817292],\n",
       "  'Weighted_Score': [0.8695709384375658]},\n",
       " 'Split_2': {'Accuracy': [0.7951231774761186],\n",
       "  'Macro_Score': [0.7281823252570219],\n",
       "  'Weighted_Score': [0.8754341853362323]},\n",
       " 'Split_3': {'Accuracy': [0.7854449472096531],\n",
       "  'Macro_Score': [0.7395333694383858],\n",
       "  'Weighted_Score': [0.8708881708384368]},\n",
       " 'Split_4': {'Accuracy': [0.7939919557566616],\n",
       "  'Macro_Score': [0.7385500463548472],\n",
       "  'Weighted_Score': [0.8743993431036682]},\n",
       " 'Split_5': {'Accuracy': [0.7821769733534439],\n",
       "  'Macro_Score': [0.7375740946879561],\n",
       "  'Weighted_Score': [0.8697582522844395]}}"
      ]
     },
     "execution_count": 9,
     "metadata": {},
     "output_type": "execute_result"
    }
   ],
   "source": [
    "model_eval"
   ]
  },
  {
   "cell_type": "code",
   "execution_count": 10,
   "id": "e2a20b22-64cf-4925-b873-9829f9533d38",
   "metadata": {},
   "outputs": [],
   "source": [
    "# save the dictionary\n",
    "def Pickler(data, filename):\n",
    "    \n",
    "    outfile = open(filename, 'wb+')\n",
    "    \n",
    "    #source destination\n",
    "    \n",
    "    pickle.dump(data, outfile)\n",
    "    \n",
    "    outfile.close()\n",
    "\n",
    "Pickler(model_eval, filename=f\"{dictionary_dir}/{dataset_name}_NN_EvalDict.pickle\")"
   ]
  },
  {
   "cell_type": "code",
   "execution_count": null,
   "id": "79cd47f3-4cad-40d0-8a75-7ce74f2862a8",
   "metadata": {},
   "outputs": [],
   "source": []
  }
 ],
 "metadata": {
  "kernelspec": {
   "display_name": "scrnaseq_torch",
   "language": "python",
   "name": "scrnaseq_torch"
  },
  "language_info": {
   "codemirror_mode": {
    "name": "ipython",
    "version": 3
   },
   "file_extension": ".py",
   "mimetype": "text/x-python",
   "name": "python",
   "nbconvert_exporter": "python",
   "pygments_lexer": "ipython3",
   "version": "3.9.12"
  }
 },
 "nbformat": 4,
 "nbformat_minor": 5
}

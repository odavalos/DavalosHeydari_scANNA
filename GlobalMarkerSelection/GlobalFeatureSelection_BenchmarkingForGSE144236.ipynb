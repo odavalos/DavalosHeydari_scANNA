{
 "cells": [
  {
   "cell_type": "code",
   "execution_count": 1,
   "id": "02c74058-f1ba-4821-8e93-d1b977d63222",
   "metadata": {
    "tags": []
   },
   "outputs": [],
   "source": [
    "from NACT.utils import *\n",
    "from NACT import Scanpy_IO, ScanpyObj_IO, AttentionQuery\n",
    "import numpy as np\n",
    "import os\n",
    "import scanpy as sc\n",
    "from scGeneFit.functions import *\n",
    "import seaborn as sns\n",
    "from sklearn.metrics import f1_score, accuracy_score\n",
    "from sklearn.neighbors import NearestCentroid, KNeighborsClassifier\n",
    "import torch\n",
    "from xgboost import XGBClassifier \n",
    "import matplotlib.pyplot as plt\n",
    "\n",
    "%matplotlib inline\n",
    "np.random.seed(0) "
   ]
  },
  {
   "cell_type": "code",
   "execution_count": 2,
   "id": "246488d3-9d9f-460b-89df-2614cf6608ed",
   "metadata": {},
   "outputs": [],
   "source": [
    "%load_ext autoreload\n",
    "%autoreload 2"
   ]
  },
  {
   "cell_type": "code",
   "execution_count": 3,
   "id": "8438dca3-691b-4f93-8413-d448f1658fe0",
   "metadata": {},
   "outputs": [],
   "source": [
    "def get_logp1_variance(data:np.array)->float:\n",
    "    return np.var(np.log(data + 1), axis=0).sum()\n",
    "\n",
    "def explained_variance_ratio(full_dimension_data:np.array, train_data:np.array, test_data:np.array)->float:\n",
    "    all_data = np.concatenate((train_data, test_data), axis=0)\n",
    "    return (get_logp1_variance(all_data) / get_logp1_variance(full_dimension_data))\n",
    "\n",
    "def performance(X_train, y_train, X_test, y_test, clf, scoring='weighted'):\n",
    "    clf.fit(X_train, y_train)\n",
    "    y_pred = clf.predict(X_test)\n",
    "    return f1_score(y_test, y_pred, average=scoring)\n",
    "    "
   ]
  },
  {
   "cell_type": "code",
   "execution_count": 4,
   "id": "e345bd94-1d60-469c-b7f6-38283d5b092a",
   "metadata": {},
   "outputs": [],
   "source": [
    "# clf=NearestCentroid()\n",
    "clf = KNeighborsClassifier(n_neighbors=3, n_jobs=-1)\n",
    "# clf = XGBClassifier(n_estimators=50, max_depth=2, learning_rate=0.09, objective='binary:logistic', n_jobs=-1)"
   ]
  },
  {
   "cell_type": "markdown",
   "id": "fe39e95a-ce41-48ec-af80-d13e4e54bf84",
   "metadata": {},
   "source": [
    "# Accuracy on All 5000 Genes"
   ]
  },
  {
   "cell_type": "code",
   "execution_count": 5,
   "id": "8d006b44-e43a-4730-985d-eb31fe8734ab",
   "metadata": {},
   "outputs": [],
   "source": [
    "path_to_data = \"/home/aheydari/data/NACT_Data/Supervised Benchmarking/GSE144236_qc_hvg_anno_5k_raw_train_split.h5ad\"\n",
    "adata = sc.read(path_to_data)"
   ]
  },
  {
   "cell_type": "code",
   "execution_count": 6,
   "id": "15f46fbc-1a46-42a7-b553-d230cf6de3ae",
   "metadata": {},
   "outputs": [],
   "source": [
    "adata_train = adata[adata.obs.split==\"train\"]\n",
    "adata_test = adata[adata.obs.split==\"test\"]\n",
    "\n",
    "labels_train  = adata_train.obs.cluster.to_numpy()\n",
    "labels_test  = adata_test.obs.cluster.to_numpy()"
   ]
  },
  {
   "cell_type": "code",
   "execution_count": 7,
   "id": "05af3128-9eea-4bba-b6c8-874c807a8bdc",
   "metadata": {},
   "outputs": [
    {
     "name": "stdout",
     "output_type": "stream",
     "text": [
      "Weighted F1 for all genes (whole data 5000 markers): 0.9490377928971154\n",
      "KNN on All 5000 Genes took 74.02541661262512 seconds\n"
     ]
    },
    {
     "name": "stderr",
     "output_type": "stream",
     "text": [
      "/home/aheydari/anaconda3/lib/python3.9/site-packages/sklearn/neighbors/_classification.py:211: FutureWarning: Unlike other reduction functions (e.g. `skew`, `kurtosis`), the default behavior of `mode` typically preserves the axis it acts along. In SciPy 1.11.0, this behavior will change: the default value of `keepdims` will become False, the `axis` over which the statistic is taken will be eliminated, and the value None will no longer be accepted. Set `keepdims` to True or False to avoid this warning.\n",
      "  mode, _ = stats.mode(_y[neigh_ind, k], axis=1)\n"
     ]
    }
   ],
   "source": [
    "start = time.time()\n",
    "accuracy=performance(adata_train.X.todense(), labels_train.astype(int) ,adata_test.X.todense(), labels_test.astype(int), clf)\n",
    "print(f\"Weighted F1 for all genes (whole data 5000 markers): {accuracy}\")\n",
    "print(f\"KNN on All 5000 Genes took {time.time() - start} seconds\")"
   ]
  },
  {
   "cell_type": "markdown",
   "id": "e32d1d37-c3fd-4038-819d-88221cae69e6",
   "metadata": {
    "tags": []
   },
   "source": [
    "# Cell Ranger"
   ]
  },
  {
   "cell_type": "code",
   "execution_count": 8,
   "id": "7f8f0e3f-b23a-43d1-82f3-e4deb892d0fb",
   "metadata": {},
   "outputs": [
    {
     "data": {
      "text/plain": [
       "AnnData object with n_obs × n_vars = 47021 × 5000\n",
       "    obs: 'nFeature_RNA', 'nCount_RNA', 'barcodes', 'patient', 'tum.norm', 'celltypes', 'celltypes_lvl2', 'celltypes_lvl3', 'percent_mito', 'RNA_snn_res.0.2', 'RNA_snn_res.0.4', 'kmeans_14', 'encoded_celltypes', 'cluster', 'split'\n",
       "    var: 'n_cells', 'percent_mito', 'n_cells_by_counts', 'mean_counts', 'pct_dropout_by_counts', 'total_counts', 'vst.mean', 'vst.variance', 'vst.variance.expected', 'vst.variance.standardized', 'vst.variable'\n",
       "    uns: 'RNA_snn_res.0.2_colors', 'celltypes_colors', 'neighbors', 'patient_colors', 'tum.norm_colors'\n",
       "    obsm: 'X_harmony', 'X_pca', 'X_umap'\n",
       "    varm: 'HARMONY', 'PCs'\n",
       "    obsp: 'distances'"
      ]
     },
     "execution_count": 8,
     "metadata": {},
     "output_type": "execute_result"
    }
   ],
   "source": [
    "adata = sc.read(path_to_data)\n",
    "adata"
   ]
  },
  {
   "cell_type": "code",
   "execution_count": 9,
   "id": "fbc10b7f-e483-40f6-afd9-84b98f8dcfd9",
   "metadata": {},
   "outputs": [
    {
     "name": "stdout",
     "output_type": "stream",
     "text": [
      "For 5 markers\n"
     ]
    },
    {
     "name": "stderr",
     "output_type": "stream",
     "text": [
      "/home/aheydari/anaconda3/lib/python3.9/site-packages/sklearn/neighbors/_classification.py:211: FutureWarning: Unlike other reduction functions (e.g. `skew`, `kurtosis`), the default behavior of `mode` typically preserves the axis it acts along. In SciPy 1.11.0, this behavior will change: the default value of `keepdims` will become False, the `axis` over which the statistic is taken will be eliminated, and the value None will no longer be accepted. Set `keepdims` to True or False to avoid this warning.\n",
      "  mode, _ = stats.mode(_y[neigh_ind, k], axis=1)\n"
     ]
    },
    {
     "name": "stdout",
     "output_type": "stream",
     "text": [
      "Weighted F1 for selected 5 markers) 0.4999\n",
      "Variance Explained: 0.10986004490405321%\n",
      "\n",
      "For 10 markers\n"
     ]
    },
    {
     "name": "stderr",
     "output_type": "stream",
     "text": [
      "/home/aheydari/anaconda3/lib/python3.9/site-packages/sklearn/neighbors/_classification.py:211: FutureWarning: Unlike other reduction functions (e.g. `skew`, `kurtosis`), the default behavior of `mode` typically preserves the axis it acts along. In SciPy 1.11.0, this behavior will change: the default value of `keepdims` will become False, the `axis` over which the statistic is taken will be eliminated, and the value None will no longer be accepted. Set `keepdims` to True or False to avoid this warning.\n",
      "  mode, _ = stats.mode(_y[neigh_ind, k], axis=1)\n"
     ]
    },
    {
     "name": "stdout",
     "output_type": "stream",
     "text": [
      "Weighted F1 for selected 10 markers) 0.5687\n",
      "Variance Explained: 0.2208170248195529%\n",
      "\n",
      "For 20 markers\n"
     ]
    },
    {
     "name": "stderr",
     "output_type": "stream",
     "text": [
      "/home/aheydari/anaconda3/lib/python3.9/site-packages/sklearn/neighbors/_classification.py:211: FutureWarning: Unlike other reduction functions (e.g. `skew`, `kurtosis`), the default behavior of `mode` typically preserves the axis it acts along. In SciPy 1.11.0, this behavior will change: the default value of `keepdims` will become False, the `axis` over which the statistic is taken will be eliminated, and the value None will no longer be accepted. Set `keepdims` to True or False to avoid this warning.\n",
      "  mode, _ = stats.mode(_y[neigh_ind, k], axis=1)\n"
     ]
    },
    {
     "name": "stdout",
     "output_type": "stream",
     "text": [
      "Weighted F1 for selected 20 markers) 0.6226\n",
      "Variance Explained: 0.45104995369911194%\n",
      "\n",
      "For 50 markers\n"
     ]
    },
    {
     "name": "stderr",
     "output_type": "stream",
     "text": [
      "/home/aheydari/anaconda3/lib/python3.9/site-packages/sklearn/neighbors/_classification.py:211: FutureWarning: Unlike other reduction functions (e.g. `skew`, `kurtosis`), the default behavior of `mode` typically preserves the axis it acts along. In SciPy 1.11.0, this behavior will change: the default value of `keepdims` will become False, the `axis` over which the statistic is taken will be eliminated, and the value None will no longer be accepted. Set `keepdims` to True or False to avoid this warning.\n",
      "  mode, _ = stats.mode(_y[neigh_ind, k], axis=1)\n"
     ]
    },
    {
     "name": "stdout",
     "output_type": "stream",
     "text": [
      "Weighted F1 for selected 50 markers) 0.7403\n",
      "Variance Explained: 1.250407937914133%\n",
      "\n",
      "For 100 markers\n"
     ]
    },
    {
     "name": "stderr",
     "output_type": "stream",
     "text": [
      "/home/aheydari/anaconda3/lib/python3.9/site-packages/sklearn/neighbors/_classification.py:211: FutureWarning: Unlike other reduction functions (e.g. `skew`, `kurtosis`), the default behavior of `mode` typically preserves the axis it acts along. In SciPy 1.11.0, this behavior will change: the default value of `keepdims` will become False, the `axis` over which the statistic is taken will be eliminated, and the value None will no longer be accepted. Set `keepdims` to True or False to avoid this warning.\n",
      "  mode, _ = stats.mode(_y[neigh_ind, k], axis=1)\n"
     ]
    },
    {
     "name": "stdout",
     "output_type": "stream",
     "text": [
      "Weighted F1 for selected 100 markers) 0.9003\n",
      "Variance Explained: 2.453385293483734%\n",
      "\n",
      "For 200 markers\n"
     ]
    },
    {
     "name": "stderr",
     "output_type": "stream",
     "text": [
      "/home/aheydari/anaconda3/lib/python3.9/site-packages/sklearn/neighbors/_classification.py:211: FutureWarning: Unlike other reduction functions (e.g. `skew`, `kurtosis`), the default behavior of `mode` typically preserves the axis it acts along. In SciPy 1.11.0, this behavior will change: the default value of `keepdims` will become False, the `axis` over which the statistic is taken will be eliminated, and the value None will no longer be accepted. Set `keepdims` to True or False to avoid this warning.\n",
      "  mode, _ = stats.mode(_y[neigh_ind, k], axis=1)\n"
     ]
    },
    {
     "name": "stdout",
     "output_type": "stream",
     "text": [
      "Weighted F1 for selected 200 markers) 0.9429\n",
      "Variance Explained: 4.750370606780052%\n",
      "\n",
      "For 300 markers\n"
     ]
    },
    {
     "name": "stderr",
     "output_type": "stream",
     "text": [
      "/home/aheydari/anaconda3/lib/python3.9/site-packages/sklearn/neighbors/_classification.py:211: FutureWarning: Unlike other reduction functions (e.g. `skew`, `kurtosis`), the default behavior of `mode` typically preserves the axis it acts along. In SciPy 1.11.0, this behavior will change: the default value of `keepdims` will become False, the `axis` over which the statistic is taken will be eliminated, and the value None will no longer be accepted. Set `keepdims` to True or False to avoid this warning.\n",
      "  mode, _ = stats.mode(_y[neigh_ind, k], axis=1)\n"
     ]
    },
    {
     "name": "stdout",
     "output_type": "stream",
     "text": [
      "Weighted F1 for selected 300 markers) 0.9526\n",
      "Variance Explained: 7.770911604166031%\n",
      "\n",
      "Time : 56.83950424194336 seconds\n"
     ]
    }
   ],
   "source": [
    "top_n = [5, 10, 20, 50, 100, 200, 300]\n",
    "start = time.time()\n",
    "\n",
    "for n in top_n:\n",
    "    print(f\"For {n} markers\")\n",
    "    sc.pp.highly_variable_genes(adata, n_top_genes=n, flavor='cell_ranger', inplace=True)\n",
    "    hvg_adata = adata[:, adata.var.highly_variable]\n",
    "    adata_train = hvg_adata[hvg_adata.obs.split==\"train\"]\n",
    "    adata_test = hvg_adata[hvg_adata.obs.split==\"test\"]\n",
    "    \n",
    "    data_train = np.array(adata_train.X.todense())\n",
    "    labels_train  = adata_train.obs.cluster.to_numpy()\n",
    "    names_train = list(adata_train.obs.celltypes.to_numpy())\n",
    "\n",
    "    data_test = np.array(adata_test.X.todense())\n",
    "    labels_test  = adata_test.obs.cluster.to_numpy()\n",
    "    names_test = list(adata_test.obs.celltypes.to_numpy())\n",
    "\n",
    "    accuracy_markers=performance(data_train, labels_train, data_test, labels_test, clf)\n",
    "\n",
    "    print(f\"Weighted F1 for selected {n} markers) {accuracy_markers:.04f}\")\n",
    "    print(f\"Variance Explained: {explained_variance_ratio(full_dimension_data=np.array(adata.X.todense()), train_data = data_train, test_data = data_test)*100}%\")\n",
    "    print()\n",
    "\n",
    "print(f\"Time : {time.time()-start} seconds\")"
   ]
  },
  {
   "cell_type": "markdown",
   "id": "b7adac6b-b4cd-454e-8aa5-1a33cd31ca0e",
   "metadata": {},
   "source": [
    "# Seurat"
   ]
  },
  {
   "cell_type": "code",
   "execution_count": 10,
   "id": "0ab6f11c-fc81-4718-ba88-b4a1bbef70b4",
   "metadata": {},
   "outputs": [
    {
     "data": {
      "text/plain": [
       "AnnData object with n_obs × n_vars = 47021 × 5000\n",
       "    obs: 'nFeature_RNA', 'nCount_RNA', 'barcodes', 'patient', 'tum.norm', 'celltypes', 'celltypes_lvl2', 'celltypes_lvl3', 'percent_mito', 'RNA_snn_res.0.2', 'RNA_snn_res.0.4', 'kmeans_14', 'encoded_celltypes', 'cluster', 'split'\n",
       "    var: 'n_cells', 'percent_mito', 'n_cells_by_counts', 'mean_counts', 'pct_dropout_by_counts', 'total_counts', 'vst.mean', 'vst.variance', 'vst.variance.expected', 'vst.variance.standardized', 'vst.variable'\n",
       "    uns: 'RNA_snn_res.0.2_colors', 'celltypes_colors', 'neighbors', 'patient_colors', 'tum.norm_colors'\n",
       "    obsm: 'X_harmony', 'X_pca', 'X_umap'\n",
       "    varm: 'HARMONY', 'PCs'\n",
       "    obsp: 'distances'"
      ]
     },
     "execution_count": 10,
     "metadata": {},
     "output_type": "execute_result"
    }
   ],
   "source": [
    "adata = sc.read(path_to_data)\n",
    "adata"
   ]
  },
  {
   "cell_type": "code",
   "execution_count": 10,
   "id": "6c1ab94d-fd27-44cf-b82d-fe3361c38010",
   "metadata": {},
   "outputs": [
    {
     "name": "stdout",
     "output_type": "stream",
     "text": [
      "For 5 markers\n"
     ]
    },
    {
     "name": "stderr",
     "output_type": "stream",
     "text": [
      "/home/aheydari/anaconda3/lib/python3.9/site-packages/sklearn/neighbors/_classification.py:211: FutureWarning: Unlike other reduction functions (e.g. `skew`, `kurtosis`), the default behavior of `mode` typically preserves the axis it acts along. In SciPy 1.11.0, this behavior will change: the default value of `keepdims` will become False, the `axis` over which the statistic is taken will be eliminated, and the value None will no longer be accepted. Set `keepdims` to True or False to avoid this warning.\n",
      "  mode, _ = stats.mode(_y[neigh_ind, k], axis=1)\n"
     ]
    },
    {
     "name": "stdout",
     "output_type": "stream",
     "text": [
      "Weighted F1 for selected 5 markers) 0.4676\n",
      "Variance Explained: 0.0187608296982944%\n",
      "\n",
      "For 10 markers\n"
     ]
    },
    {
     "name": "stderr",
     "output_type": "stream",
     "text": [
      "/home/aheydari/anaconda3/lib/python3.9/site-packages/sklearn/neighbors/_classification.py:211: FutureWarning: Unlike other reduction functions (e.g. `skew`, `kurtosis`), the default behavior of `mode` typically preserves the axis it acts along. In SciPy 1.11.0, this behavior will change: the default value of `keepdims` will become False, the `axis` over which the statistic is taken will be eliminated, and the value None will no longer be accepted. Set `keepdims` to True or False to avoid this warning.\n",
      "  mode, _ = stats.mode(_y[neigh_ind, k], axis=1)\n"
     ]
    },
    {
     "name": "stdout",
     "output_type": "stream",
     "text": [
      "Weighted F1 for selected 10 markers) 0.4698\n",
      "Variance Explained: 0.03982556227128953%\n",
      "\n",
      "For 20 markers\n"
     ]
    },
    {
     "name": "stderr",
     "output_type": "stream",
     "text": [
      "/home/aheydari/anaconda3/lib/python3.9/site-packages/sklearn/neighbors/_classification.py:211: FutureWarning: Unlike other reduction functions (e.g. `skew`, `kurtosis`), the default behavior of `mode` typically preserves the axis it acts along. In SciPy 1.11.0, this behavior will change: the default value of `keepdims` will become False, the `axis` over which the statistic is taken will be eliminated, and the value None will no longer be accepted. Set `keepdims` to True or False to avoid this warning.\n",
      "  mode, _ = stats.mode(_y[neigh_ind, k], axis=1)\n"
     ]
    },
    {
     "name": "stdout",
     "output_type": "stream",
     "text": [
      "Weighted F1 for selected 20 markers) 0.4870\n",
      "Variance Explained: 0.07481191423721611%\n",
      "\n",
      "For 50 markers\n"
     ]
    },
    {
     "name": "stderr",
     "output_type": "stream",
     "text": [
      "/home/aheydari/anaconda3/lib/python3.9/site-packages/sklearn/neighbors/_classification.py:211: FutureWarning: Unlike other reduction functions (e.g. `skew`, `kurtosis`), the default behavior of `mode` typically preserves the axis it acts along. In SciPy 1.11.0, this behavior will change: the default value of `keepdims` will become False, the `axis` over which the statistic is taken will be eliminated, and the value None will no longer be accepted. Set `keepdims` to True or False to avoid this warning.\n",
      "  mode, _ = stats.mode(_y[neigh_ind, k], axis=1)\n"
     ]
    },
    {
     "name": "stdout",
     "output_type": "stream",
     "text": [
      "Weighted F1 for selected 50 markers) 0.5541\n",
      "Variance Explained: 0.23877196945250034%\n",
      "\n",
      "For 100 markers\n"
     ]
    },
    {
     "name": "stderr",
     "output_type": "stream",
     "text": [
      "/home/aheydari/anaconda3/lib/python3.9/site-packages/sklearn/neighbors/_classification.py:211: FutureWarning: Unlike other reduction functions (e.g. `skew`, `kurtosis`), the default behavior of `mode` typically preserves the axis it acts along. In SciPy 1.11.0, this behavior will change: the default value of `keepdims` will become False, the `axis` over which the statistic is taken will be eliminated, and the value None will no longer be accepted. Set `keepdims` to True or False to avoid this warning.\n",
      "  mode, _ = stats.mode(_y[neigh_ind, k], axis=1)\n"
     ]
    },
    {
     "name": "stdout",
     "output_type": "stream",
     "text": [
      "Weighted F1 for selected 100 markers) 0.6515\n",
      "Variance Explained: 0.662399735301733%\n",
      "\n",
      "For 200 markers\n"
     ]
    },
    {
     "name": "stderr",
     "output_type": "stream",
     "text": [
      "/home/aheydari/anaconda3/lib/python3.9/site-packages/sklearn/neighbors/_classification.py:211: FutureWarning: Unlike other reduction functions (e.g. `skew`, `kurtosis`), the default behavior of `mode` typically preserves the axis it acts along. In SciPy 1.11.0, this behavior will change: the default value of `keepdims` will become False, the `axis` over which the statistic is taken will be eliminated, and the value None will no longer be accepted. Set `keepdims` to True or False to avoid this warning.\n",
      "  mode, _ = stats.mode(_y[neigh_ind, k], axis=1)\n"
     ]
    },
    {
     "name": "stdout",
     "output_type": "stream",
     "text": [
      "Weighted F1 for selected 200 markers) 0.7776\n",
      "Variance Explained: 2.008254826068878%\n",
      "\n",
      "For 300 markers\n"
     ]
    },
    {
     "name": "stderr",
     "output_type": "stream",
     "text": [
      "/home/aheydari/anaconda3/lib/python3.9/site-packages/sklearn/neighbors/_classification.py:211: FutureWarning: Unlike other reduction functions (e.g. `skew`, `kurtosis`), the default behavior of `mode` typically preserves the axis it acts along. In SciPy 1.11.0, this behavior will change: the default value of `keepdims` will become False, the `axis` over which the statistic is taken will be eliminated, and the value None will no longer be accepted. Set `keepdims` to True or False to avoid this warning.\n",
      "  mode, _ = stats.mode(_y[neigh_ind, k], axis=1)\n"
     ]
    },
    {
     "name": "stdout",
     "output_type": "stream",
     "text": [
      "Weighted F1 for selected 300 markers) 0.8642\n",
      "Variance Explained: 3.5902731120586395%\n",
      "\n"
     ]
    }
   ],
   "source": [
    "top_n = [5, 10, 20, 50, 100, 200, 300]\n",
    "start = time.time()\n",
    "\n",
    "for n in top_n:\n",
    "    print(f\"For {n} markers\")\n",
    "    sc.pp.highly_variable_genes(adata, n_top_genes=n, flavor='seurat', inplace=True)\n",
    "    hvg_adata = adata[:, adata.var.highly_variable]\n",
    "    adata_train = hvg_adata[hvg_adata.obs.split==\"train\"]\n",
    "    adata_test = hvg_adata[hvg_adata.obs.split==\"test\"]\n",
    "    \n",
    "    data_train = np.array(adata_train.X.todense())\n",
    "    labels_train  = adata_train.obs.cluster.to_numpy()\n",
    "    names_train = list(adata_train.obs.celltypes.to_numpy())\n",
    "\n",
    "    data_test = np.array(adata_test.X.todense())\n",
    "    labels_test  = adata_test.obs.cluster.to_numpy()\n",
    "    names_test = list(adata_test.obs.celltypes.to_numpy())\n",
    "\n",
    "    accuracy_markers=performance(data_train, labels_train, data_test, labels_test, clf)\n",
    "\n",
    "    print(f\"Weighted F1 for selected {n} markers) {accuracy_markers:.04f}\")\n",
    "    print(f\"Variance Explained: {explained_variance_ratio(full_dimension_data=np.array(adata.X.todense()), train_data = data_train, test_data = data_test)*100}%\")\n",
    "    print()\n",
    "\n"
   ]
  },
  {
   "cell_type": "markdown",
   "id": "02de7b9d-564a-4a47-8d0b-f9e06f10adf3",
   "metadata": {},
   "source": [
    "# NACT"
   ]
  },
  {
   "cell_type": "code",
   "execution_count": 11,
   "id": "c64310dc-afd6-48fa-9bb1-e8096fca352e",
   "metadata": {},
   "outputs": [],
   "source": [
    "adata = sc.read(path_to_data)"
   ]
  },
  {
   "cell_type": "code",
   "execution_count": 12,
   "id": "a9cfcb15-073f-4978-98dd-3a92bb6e5d44",
   "metadata": {},
   "outputs": [
    {
     "data": {
      "text/plain": [
       "NACT_ProjectionAttention(\n",
       "  (attention): Linear(in_features=5000, out_features=5000, bias=True)\n",
       "  (proj_block): Projection(\n",
       "    (projection): Linear(in_features=5000, out_features=5000, bias=True)\n",
       "    (output_dropout): Dropout(p=0.0, inplace=False)\n",
       "    (normalization): LayerNorm((5000,), eps=1e-05, elementwise_affine=True)\n",
       "  )\n",
       "  (proj_block2): Projection(\n",
       "    (projection): Linear(in_features=5000, out_features=5000, bias=True)\n",
       "    (output_dropout): Dropout(p=0.0, inplace=False)\n",
       "    (normalization): LayerNorm((5000,), eps=1e-05, elementwise_affine=True)\n",
       "  )\n",
       "  (pwff): PointWiseFeedForward(\n",
       "    (conv1): Sequential(\n",
       "      (0): Linear(in_features=5000, out_features=128, bias=True)\n",
       "      (1): ReLU()\n",
       "    )\n",
       "    (conv2): Linear(in_features=128, out_features=5000, bias=True)\n",
       "    (normalization): LayerNorm((5000,), eps=1e-05, elementwise_affine=True)\n",
       "  )\n",
       "  (nact_out_layer): Sequential(\n",
       "    (0): Linear(in_features=5000, out_features=14, bias=True)\n",
       "    (1): LeakyReLU(negative_slope=0.01)\n",
       "  )\n",
       ")"
      ]
     },
     "execution_count": 12,
     "metadata": {},
     "output_type": "execute_result"
    }
   ],
   "source": [
    "model_dict_mixed = torch.load(\"/home/aheydari/data/NACT_Trained_Models/New/Marker Gene Selection/NACT-Pojections + Attention-GSE 144236-1Heads-Bestmodel_Best.pth\",\n",
    "                        map_location=torch.device('cpu'))\n",
    "\n",
    "nact_mixed = model_dict_mixed[\"Saved_Model\"]\n",
    "\n",
    "nact_mixed = nact_mixed.eval()\n",
    "nact_mixed"
   ]
  },
  {
   "cell_type": "code",
   "execution_count": 13,
   "id": "9db9dccf-4e21-47cf-998a-1b9ef42ba49d",
   "metadata": {},
   "outputs": [
    {
     "name": "stdout",
     "output_type": "stream",
     "text": [
      "Using GPU (CUDA)\n"
     ]
    }
   ],
   "source": [
    "device = torch.device(\"cuda\" if torch.cuda.is_available() else \"cpu\")\n",
    "if str(device) == \"cuda\":\n",
    "    print('Using GPU (CUDA)')\n",
    "else:\n",
    "    print('Using CPU')\n",
    "    \n",
    "nact_mixed.device = 'cpu'"
   ]
  },
  {
   "cell_type": "markdown",
   "id": "f2060370-3940-4b6d-bdd0-9abaadf7dcab",
   "metadata": {
    "tags": []
   },
   "source": [
    "## Attention Analysis"
   ]
  },
  {
   "cell_type": "code",
   "execution_count": 14,
   "id": "82ce32cc-d5a0-4c1d-949c-9447b4fc378d",
   "metadata": {},
   "outputs": [
    {
     "name": "stdout",
     "output_type": "stream",
     "text": [
      "*Caution*: The method is running on the entire data. If this is not what you want, provide scanpy object\n",
      "==> Calling forward:\n",
      "    -> Making predictions\n",
      "    -> Assigning attention weights globally: \n",
      "    -> Creating a [Cells x Attention Per Gene'] DataFrame\n",
      "    -> Could not locate obs['gene_ids'] attribute. Defaulting to .var instead\n",
      "    -> Returning the annData with the attention weights\n"
     ]
    }
   ],
   "source": [
    "aq_obj = AttentionQuery(adata, split_test=False)\n",
    "att_adata, att_df= aq_obj.AssignAttention(model=nact_mixed, inplace=False, correct_preditions_only=False ,verbose=True, use_raw_X=False)"
   ]
  },
  {
   "cell_type": "code",
   "execution_count": 15,
   "id": "eff00054-7a05-43ac-9d35-d182ef560266",
   "metadata": {},
   "outputs": [
    {
     "name": "stdout",
     "output_type": "stream",
     "text": [
      "==> For n = 5:\n",
      "==> Getting Top 5 genes for all cells in the original data\n",
      "    -> Be cautious as this may not be cluster specific. If you want cluster specific, call GetTopN_PerClust()\n"
     ]
    },
    {
     "name": "stderr",
     "output_type": "stream",
     "text": [
      "/home/aheydari/anaconda3/lib/python3.9/site-packages/sklearn/neighbors/_classification.py:211: FutureWarning: Unlike other reduction functions (e.g. `skew`, `kurtosis`), the default behavior of `mode` typically preserves the axis it acts along. In SciPy 1.11.0, this behavior will change: the default value of `keepdims` will become False, the `axis` over which the statistic is taken will be eliminated, and the value None will no longer be accepted. Set `keepdims` to True or False to avoid this warning.\n",
      "  mode, _ = stats.mode(_y[neigh_ind, k], axis=1)\n"
     ]
    },
    {
     "name": "stdout",
     "output_type": "stream",
     "text": [
      "Weighted F1 for selected 5 markers) 0.6813\n",
      "Variance Explained: 0.48969113267958164%\n",
      "---------------------------\n",
      "==> For n = 10:\n",
      "==> Getting Top 10 genes for all cells in the original data\n",
      "    -> Be cautious as this may not be cluster specific. If you want cluster specific, call GetTopN_PerClust()\n"
     ]
    },
    {
     "name": "stderr",
     "output_type": "stream",
     "text": [
      "/home/aheydari/anaconda3/lib/python3.9/site-packages/sklearn/neighbors/_classification.py:211: FutureWarning: Unlike other reduction functions (e.g. `skew`, `kurtosis`), the default behavior of `mode` typically preserves the axis it acts along. In SciPy 1.11.0, this behavior will change: the default value of `keepdims` will become False, the `axis` over which the statistic is taken will be eliminated, and the value None will no longer be accepted. Set `keepdims` to True or False to avoid this warning.\n",
      "  mode, _ = stats.mode(_y[neigh_ind, k], axis=1)\n"
     ]
    },
    {
     "name": "stdout",
     "output_type": "stream",
     "text": [
      "Weighted F1 for selected 10 markers) 0.7058\n",
      "Variance Explained: 0.8483948186039925%\n",
      "---------------------------\n",
      "==> For n = 20:\n",
      "==> Getting Top 20 genes for all cells in the original data\n",
      "    -> Be cautious as this may not be cluster specific. If you want cluster specific, call GetTopN_PerClust()\n"
     ]
    },
    {
     "name": "stderr",
     "output_type": "stream",
     "text": [
      "/home/aheydari/anaconda3/lib/python3.9/site-packages/sklearn/neighbors/_classification.py:211: FutureWarning: Unlike other reduction functions (e.g. `skew`, `kurtosis`), the default behavior of `mode` typically preserves the axis it acts along. In SciPy 1.11.0, this behavior will change: the default value of `keepdims` will become False, the `axis` over which the statistic is taken will be eliminated, and the value None will no longer be accepted. Set `keepdims` to True or False to avoid this warning.\n",
      "  mode, _ = stats.mode(_y[neigh_ind, k], axis=1)\n"
     ]
    },
    {
     "name": "stdout",
     "output_type": "stream",
     "text": [
      "Weighted F1 for selected 20 markers) 0.7813\n",
      "Variance Explained: 2.0769113674759865%\n",
      "---------------------------\n",
      "==> For n = 50:\n",
      "==> Getting Top 50 genes for all cells in the original data\n",
      "    -> Be cautious as this may not be cluster specific. If you want cluster specific, call GetTopN_PerClust()\n"
     ]
    },
    {
     "name": "stderr",
     "output_type": "stream",
     "text": [
      "/home/aheydari/anaconda3/lib/python3.9/site-packages/sklearn/neighbors/_classification.py:211: FutureWarning: Unlike other reduction functions (e.g. `skew`, `kurtosis`), the default behavior of `mode` typically preserves the axis it acts along. In SciPy 1.11.0, this behavior will change: the default value of `keepdims` will become False, the `axis` over which the statistic is taken will be eliminated, and the value None will no longer be accepted. Set `keepdims` to True or False to avoid this warning.\n",
      "  mode, _ = stats.mode(_y[neigh_ind, k], axis=1)\n"
     ]
    },
    {
     "name": "stdout",
     "output_type": "stream",
     "text": [
      "Weighted F1 for selected 50 markers) 0.8947\n",
      "Variance Explained: 4.530372470617294%\n",
      "---------------------------\n",
      "==> For n = 100:\n",
      "==> Getting Top 100 genes for all cells in the original data\n",
      "    -> Be cautious as this may not be cluster specific. If you want cluster specific, call GetTopN_PerClust()\n"
     ]
    },
    {
     "name": "stderr",
     "output_type": "stream",
     "text": [
      "/home/aheydari/anaconda3/lib/python3.9/site-packages/sklearn/neighbors/_classification.py:211: FutureWarning: Unlike other reduction functions (e.g. `skew`, `kurtosis`), the default behavior of `mode` typically preserves the axis it acts along. In SciPy 1.11.0, this behavior will change: the default value of `keepdims` will become False, the `axis` over which the statistic is taken will be eliminated, and the value None will no longer be accepted. Set `keepdims` to True or False to avoid this warning.\n",
      "  mode, _ = stats.mode(_y[neigh_ind, k], axis=1)\n"
     ]
    },
    {
     "name": "stdout",
     "output_type": "stream",
     "text": [
      "Weighted F1 for selected 100 markers) 0.9417\n",
      "Variance Explained: 8.706772327423096%\n",
      "---------------------------\n",
      "==> For n = 200:\n",
      "==> Getting Top 200 genes for all cells in the original data\n",
      "    -> Be cautious as this may not be cluster specific. If you want cluster specific, call GetTopN_PerClust()\n"
     ]
    },
    {
     "name": "stderr",
     "output_type": "stream",
     "text": [
      "/home/aheydari/anaconda3/lib/python3.9/site-packages/sklearn/neighbors/_classification.py:211: FutureWarning: Unlike other reduction functions (e.g. `skew`, `kurtosis`), the default behavior of `mode` typically preserves the axis it acts along. In SciPy 1.11.0, this behavior will change: the default value of `keepdims` will become False, the `axis` over which the statistic is taken will be eliminated, and the value None will no longer be accepted. Set `keepdims` to True or False to avoid this warning.\n",
      "  mode, _ = stats.mode(_y[neigh_ind, k], axis=1)\n"
     ]
    },
    {
     "name": "stdout",
     "output_type": "stream",
     "text": [
      "Weighted F1 for selected 200 markers) 0.9530\n",
      "Variance Explained: 15.965457260608673%\n",
      "---------------------------\n",
      "==> For n = 300:\n",
      "==> Getting Top 300 genes for all cells in the original data\n",
      "    -> Be cautious as this may not be cluster specific. If you want cluster specific, call GetTopN_PerClust()\n"
     ]
    },
    {
     "name": "stderr",
     "output_type": "stream",
     "text": [
      "/home/aheydari/anaconda3/lib/python3.9/site-packages/sklearn/neighbors/_classification.py:211: FutureWarning: Unlike other reduction functions (e.g. `skew`, `kurtosis`), the default behavior of `mode` typically preserves the axis it acts along. In SciPy 1.11.0, this behavior will change: the default value of `keepdims` will become False, the `axis` over which the statistic is taken will be eliminated, and the value None will no longer be accepted. Set `keepdims` to True or False to avoid this warning.\n",
      "  mode, _ = stats.mode(_y[neigh_ind, k], axis=1)\n"
     ]
    },
    {
     "name": "stdout",
     "output_type": "stream",
     "text": [
      "Weighted F1 for selected 300 markers) 0.9542\n",
      "Variance Explained: 21.578043699264526%\n",
      "---------------------------\n"
     ]
    }
   ],
   "source": [
    "top_n = [5, 10, 20, 50, 100, 200, 300]\n",
    "\n",
    "for n in top_n:\n",
    "    print(f\"==> For n = {n}:\")\n",
    "    top_n = aq_obj.GetTopN(n=n, correct_preditions_only=False).index.tolist()\n",
    "    att_adata_train = att_adata[att_adata.obs.split==\"train\"]\n",
    "    att_adata_test = att_adata[att_adata.obs.split==\"test\"]\n",
    "    att_data_train = np.array(att_adata_train.X.todense()) # att_adata_train.obsm['gene_scores']\n",
    "    att_labels_train  = att_adata_train.obs.cluster.to_numpy()\n",
    "    att_names_train = list(att_adata_train.obs.celltypes.to_numpy())\n",
    "    att_data_test = np.array(att_adata_test.X.todense()) # att_adata_test.obsm['gene_scores'] #\n",
    "    att_labels_test  = att_adata_test.obs.cluster.to_numpy()\n",
    "    att_names_test = list(att_adata_test.obs.celltypes.to_numpy())\n",
    "    # get the data for only the top n genes\n",
    "    reduced_adata = att_adata[:,top_n]\n",
    "    reduced_adata_train = reduced_adata[reduced_adata.obs.split==\"train\"]\n",
    "    reduced_adata_test = reduced_adata[reduced_adata.obs.split==\"test\"]\n",
    "    \n",
    "    \n",
    "    reduced_train = np.array(reduced_adata_train.X.todense()) #att_adata_train.obsm['gene_scores']\n",
    "    reduced_labels_train  = reduced_adata_train.obs.cluster.to_numpy()\n",
    "    reduced_names_train = list(reduced_adata_train.obs.celltypes.to_numpy())\n",
    "    \n",
    "    reduced_test = np.array(reduced_adata_test.X.todense()) #att_adata_test.obsm['gene_scores']\n",
    "    reduced_labels_test  = reduced_adata_test.obs.cluster.to_numpy()\n",
    "    reduced_names_test = list(reduced_adata_test.obs.celltypes.to_numpy())\n",
    "    \n",
    "    accuracy_markers=performance(reduced_train, reduced_labels_train.astype(int), reduced_test, reduced_labels_test.astype(int), clf)\n",
    "    print(f\"Weighted F1 for selected {n} markers) {accuracy_markers:.04f}\")\n",
    "    print(f\"Variance Explained: {explained_variance_ratio(full_dimension_data=np.array(adata.X.todense()), train_data = reduced_train, test_data = reduced_test)*100}%\")\n",
    "    print(\"---------------------------\")"
   ]
  },
  {
   "cell_type": "markdown",
   "id": "86f5436c-c0e7-445a-b524-da649b35d839",
   "metadata": {
    "tags": []
   },
   "source": [
    "# scGeneFit"
   ]
  },
  {
   "cell_type": "code",
   "execution_count": 17,
   "id": "58210ce2-da10-4933-8b01-78fa7375af26",
   "metadata": {},
   "outputs": [
    {
     "name": "stdout",
     "output_type": "stream",
     "text": [
      "    -> For 5 markers\n",
      "    -> Solving a linear program with 5000 variables and 14 constraints\n",
      "    -> Time elapsed: 0.3609902858734131 seconds\n"
     ]
    },
    {
     "name": "stderr",
     "output_type": "stream",
     "text": [
      "/home/aheydari/anaconda3/lib/python3.9/site-packages/sklearn/neighbors/_classification.py:211: FutureWarning: Unlike other reduction functions (e.g. `skew`, `kurtosis`), the default behavior of `mode` typically preserves the axis it acts along. In SciPy 1.11.0, this behavior will change: the default value of `keepdims` will become False, the `axis` over which the statistic is taken will be eliminated, and the value None will no longer be accepted. Set `keepdims` to True or False to avoid this warning.\n",
      "  mode, _ = stats.mode(_y[neigh_ind, k], axis=1)\n"
     ]
    },
    {
     "name": "stdout",
     "output_type": "stream",
     "text": [
      "    -> Weighted F1 for selected 5 markers: 0.5404\n",
      "Variance Explained: 0.1491923932917416%\n",
      "----------------------\n",
      "    -> For 10 markers\n",
      "    -> Solving a linear program with 5000 variables and 14 constraints\n",
      "    -> Time elapsed: 0.36135220527648926 seconds\n"
     ]
    },
    {
     "name": "stderr",
     "output_type": "stream",
     "text": [
      "/home/aheydari/anaconda3/lib/python3.9/site-packages/sklearn/neighbors/_classification.py:211: FutureWarning: Unlike other reduction functions (e.g. `skew`, `kurtosis`), the default behavior of `mode` typically preserves the axis it acts along. In SciPy 1.11.0, this behavior will change: the default value of `keepdims` will become False, the `axis` over which the statistic is taken will be eliminated, and the value None will no longer be accepted. Set `keepdims` to True or False to avoid this warning.\n",
      "  mode, _ = stats.mode(_y[neigh_ind, k], axis=1)\n"
     ]
    },
    {
     "name": "stdout",
     "output_type": "stream",
     "text": [
      "    -> Weighted F1 for selected 10 markers: 0.5874\n",
      "Variance Explained: 0.26610479690134525%\n",
      "----------------------\n",
      "    -> For 20 markers\n",
      "    -> Solving a linear program with 5000 variables and 14 constraints\n",
      "    -> Time elapsed: 0.3702700138092041 seconds\n"
     ]
    },
    {
     "name": "stderr",
     "output_type": "stream",
     "text": [
      "/home/aheydari/anaconda3/lib/python3.9/site-packages/sklearn/neighbors/_classification.py:211: FutureWarning: Unlike other reduction functions (e.g. `skew`, `kurtosis`), the default behavior of `mode` typically preserves the axis it acts along. In SciPy 1.11.0, this behavior will change: the default value of `keepdims` will become False, the `axis` over which the statistic is taken will be eliminated, and the value None will no longer be accepted. Set `keepdims` to True or False to avoid this warning.\n",
      "  mode, _ = stats.mode(_y[neigh_ind, k], axis=1)\n"
     ]
    },
    {
     "name": "stdout",
     "output_type": "stream",
     "text": [
      "    -> Weighted F1 for selected 20 markers: 0.6427\n",
      "Variance Explained: 0.5568822380155325%\n",
      "----------------------\n",
      "    -> For 50 markers\n",
      "    -> Solving a linear program with 5000 variables and 14 constraints\n",
      "    -> Time elapsed: 0.35894775390625 seconds\n"
     ]
    },
    {
     "name": "stderr",
     "output_type": "stream",
     "text": [
      "/home/aheydari/anaconda3/lib/python3.9/site-packages/sklearn/neighbors/_classification.py:211: FutureWarning: Unlike other reduction functions (e.g. `skew`, `kurtosis`), the default behavior of `mode` typically preserves the axis it acts along. In SciPy 1.11.0, this behavior will change: the default value of `keepdims` will become False, the `axis` over which the statistic is taken will be eliminated, and the value None will no longer be accepted. Set `keepdims` to True or False to avoid this warning.\n",
      "  mode, _ = stats.mode(_y[neigh_ind, k], axis=1)\n"
     ]
    },
    {
     "name": "stdout",
     "output_type": "stream",
     "text": [
      "    -> Weighted F1 for selected 50 markers: 0.7049\n",
      "Variance Explained: 1.185148861259222%\n",
      "----------------------\n",
      "    -> For 100 markers\n",
      "    -> Solving a linear program with 5000 variables and 14 constraints\n",
      "    -> Time elapsed: 0.36754298210144043 seconds\n"
     ]
    },
    {
     "name": "stderr",
     "output_type": "stream",
     "text": [
      "/home/aheydari/anaconda3/lib/python3.9/site-packages/sklearn/neighbors/_classification.py:211: FutureWarning: Unlike other reduction functions (e.g. `skew`, `kurtosis`), the default behavior of `mode` typically preserves the axis it acts along. In SciPy 1.11.0, this behavior will change: the default value of `keepdims` will become False, the `axis` over which the statistic is taken will be eliminated, and the value None will no longer be accepted. Set `keepdims` to True or False to avoid this warning.\n",
      "  mode, _ = stats.mode(_y[neigh_ind, k], axis=1)\n"
     ]
    },
    {
     "name": "stdout",
     "output_type": "stream",
     "text": [
      "    -> Weighted F1 for selected 100 markers: 0.8330\n",
      "Variance Explained: 2.1680697798728943%\n",
      "----------------------\n",
      "    -> For 200 markers\n",
      "    -> Solving a linear program with 5000 variables and 14 constraints\n",
      "    -> Time elapsed: 0.3602907657623291 seconds\n"
     ]
    },
    {
     "name": "stderr",
     "output_type": "stream",
     "text": [
      "/home/aheydari/anaconda3/lib/python3.9/site-packages/sklearn/neighbors/_classification.py:211: FutureWarning: Unlike other reduction functions (e.g. `skew`, `kurtosis`), the default behavior of `mode` typically preserves the axis it acts along. In SciPy 1.11.0, this behavior will change: the default value of `keepdims` will become False, the `axis` over which the statistic is taken will be eliminated, and the value None will no longer be accepted. Set `keepdims` to True or False to avoid this warning.\n",
      "  mode, _ = stats.mode(_y[neigh_ind, k], axis=1)\n"
     ]
    },
    {
     "name": "stdout",
     "output_type": "stream",
     "text": [
      "    -> Weighted F1 for selected 200 markers: 0.8970\n",
      "Variance Explained: 4.868475720286369%\n",
      "----------------------\n",
      "    -> For 300 markers\n",
      "    -> Solving a linear program with 5000 variables and 14 constraints\n",
      "    -> Time elapsed: 0.3587663173675537 seconds\n"
     ]
    },
    {
     "name": "stderr",
     "output_type": "stream",
     "text": [
      "/home/aheydari/anaconda3/lib/python3.9/site-packages/sklearn/neighbors/_classification.py:211: FutureWarning: Unlike other reduction functions (e.g. `skew`, `kurtosis`), the default behavior of `mode` typically preserves the axis it acts along. In SciPy 1.11.0, this behavior will change: the default value of `keepdims` will become False, the `axis` over which the statistic is taken will be eliminated, and the value None will no longer be accepted. Set `keepdims` to True or False to avoid this warning.\n",
      "  mode, _ = stats.mode(_y[neigh_ind, k], axis=1)\n"
     ]
    },
    {
     "name": "stdout",
     "output_type": "stream",
     "text": [
      "    -> Weighted F1 for selected 300 markers: 0.9447\n",
      "Variance Explained: 7.980937510728836%\n",
      "----------------------\n",
      ">-< Done\n"
     ]
    }
   ],
   "source": [
    "adata = sc.read(path_to_data)\n",
    "\n",
    "# separating train and test split\n",
    "adata_train = adata[adata.obs.split==\"train\"]\n",
    "adata_test = adata[adata.obs.split==\"test\"]\n",
    "\n",
    "# getting numerical data for training and testing from the split ann data\n",
    "data_train = np.array(adata_train.X.todense())\n",
    "labels_train  = adata_train.obs.cluster.to_numpy()\n",
    "names_train = list(adata_train.obs.celltypes.to_numpy())\n",
    "\n",
    "data_test = np.array(adata_test.X.todense())\n",
    "labels_test  = adata_test.obs.cluster.to_numpy()\n",
    "names_test = list(adata_test.obs.celltypes.to_numpy())\n",
    "\n",
    "# running scGeneFit for various number of desired top genes\n",
    "top_n = [5, 10, 20, 50, 100, 200, 300]\n",
    "all_markers = []\n",
    "method='centers'\n",
    "redundancy=0.001\n",
    "epsilon = 0.01\n",
    "\n",
    "for n in top_n:\n",
    "    print(f\"    -> For {n} markers\")\n",
    "    markers= get_markers(data_train[:,:], labels_train.astype(int), n, method=method, redundancy=redundancy, epsilon=epsilon)\n",
    "    accuracy_markers=performance(data_train[:,markers], labels_train.astype(int), data_test[:,markers], labels_test.astype(int), clf)\n",
    "    all_markers.append(markers)\n",
    "    \n",
    "    print(f\"    -> Weighted F1 for selected {n} markers: {accuracy_markers:.04f}\")\n",
    "    print(f\"Variance Explained: {explained_variance_ratio(full_dimension_data=np.array(adata.X.todense()), train_data = data_train[:,markers], test_data = data_test[:,markers])*100}%\")\n",
    "\n",
    "    print(\"----------------------\")\n",
    "    \n",
    "print(\">-< Done\")"
   ]
  },
  {
   "cell_type": "markdown",
   "id": "730f49dc-5cd6-465c-ba39-fcfe8575b226",
   "metadata": {
    "tags": []
   },
   "source": [
    "# Random Features Selected"
   ]
  },
  {
   "cell_type": "code",
   "execution_count": 20,
   "id": "9dd4ae20-60fb-43f6-bf7d-d1568ed895f0",
   "metadata": {},
   "outputs": [
    {
     "name": "stdout",
     "output_type": "stream",
     "text": [
      "    -> For 300 markers\n"
     ]
    },
    {
     "name": "stderr",
     "output_type": "stream",
     "text": [
      "/home/aheydari/anaconda3/lib/python3.9/site-packages/sklearn/neighbors/_classification.py:211: FutureWarning: Unlike other reduction functions (e.g. `skew`, `kurtosis`), the default behavior of `mode` typically preserves the axis it acts along. In SciPy 1.11.0, this behavior will change: the default value of `keepdims` will become False, the `axis` over which the statistic is taken will be eliminated, and the value None will no longer be accepted. Set `keepdims` to True or False to avoid this warning.\n",
      "  mode, _ = stats.mode(_y[neigh_ind, k], axis=1)\n"
     ]
    },
    {
     "name": "stdout",
     "output_type": "stream",
     "text": [
      "    -> Weighted F1 for selected 300 RANDOM markers: 0.9073\n",
      "Variance Explained: 5.9441812336444855%\n",
      "----------------------\n",
      "    -> For 200 markers\n"
     ]
    },
    {
     "name": "stderr",
     "output_type": "stream",
     "text": [
      "/home/aheydari/anaconda3/lib/python3.9/site-packages/sklearn/neighbors/_classification.py:211: FutureWarning: Unlike other reduction functions (e.g. `skew`, `kurtosis`), the default behavior of `mode` typically preserves the axis it acts along. In SciPy 1.11.0, this behavior will change: the default value of `keepdims` will become False, the `axis` over which the statistic is taken will be eliminated, and the value None will no longer be accepted. Set `keepdims` to True or False to avoid this warning.\n",
      "  mode, _ = stats.mode(_y[neigh_ind, k], axis=1)\n"
     ]
    },
    {
     "name": "stdout",
     "output_type": "stream",
     "text": [
      "    -> Weighted F1 for selected 200 RANDOM markers: 0.8805\n",
      "Variance Explained: 4.046387225389481%\n",
      "----------------------\n",
      "    -> For 100 markers\n"
     ]
    },
    {
     "name": "stderr",
     "output_type": "stream",
     "text": [
      "/home/aheydari/anaconda3/lib/python3.9/site-packages/sklearn/neighbors/_classification.py:211: FutureWarning: Unlike other reduction functions (e.g. `skew`, `kurtosis`), the default behavior of `mode` typically preserves the axis it acts along. In SciPy 1.11.0, this behavior will change: the default value of `keepdims` will become False, the `axis` over which the statistic is taken will be eliminated, and the value None will no longer be accepted. Set `keepdims` to True or False to avoid this warning.\n",
      "  mode, _ = stats.mode(_y[neigh_ind, k], axis=1)\n"
     ]
    },
    {
     "name": "stdout",
     "output_type": "stream",
     "text": [
      "    -> Weighted F1 for selected 100 RANDOM markers: 0.8061\n",
      "Variance Explained: 1.5217490494251251%\n",
      "----------------------\n",
      "    -> For 50 markers\n"
     ]
    },
    {
     "name": "stderr",
     "output_type": "stream",
     "text": [
      "/home/aheydari/anaconda3/lib/python3.9/site-packages/sklearn/neighbors/_classification.py:211: FutureWarning: Unlike other reduction functions (e.g. `skew`, `kurtosis`), the default behavior of `mode` typically preserves the axis it acts along. In SciPy 1.11.0, this behavior will change: the default value of `keepdims` will become False, the `axis` over which the statistic is taken will be eliminated, and the value None will no longer be accepted. Set `keepdims` to True or False to avoid this warning.\n",
      "  mode, _ = stats.mode(_y[neigh_ind, k], axis=1)\n"
     ]
    },
    {
     "name": "stdout",
     "output_type": "stream",
     "text": [
      "    -> Weighted F1 for selected 50 RANDOM markers: 0.7167\n",
      "Variance Explained: 0.6857659202069044%\n",
      "----------------------\n",
      "    -> For 20 markers\n"
     ]
    },
    {
     "name": "stderr",
     "output_type": "stream",
     "text": [
      "/home/aheydari/anaconda3/lib/python3.9/site-packages/sklearn/neighbors/_classification.py:211: FutureWarning: Unlike other reduction functions (e.g. `skew`, `kurtosis`), the default behavior of `mode` typically preserves the axis it acts along. In SciPy 1.11.0, this behavior will change: the default value of `keepdims` will become False, the `axis` over which the statistic is taken will be eliminated, and the value None will no longer be accepted. Set `keepdims` to True or False to avoid this warning.\n",
      "  mode, _ = stats.mode(_y[neigh_ind, k], axis=1)\n"
     ]
    },
    {
     "name": "stdout",
     "output_type": "stream",
     "text": [
      "    -> Weighted F1 for selected 20 RANDOM markers: 0.6401\n",
      "Variance Explained: 0.30898835975676775%\n",
      "----------------------\n",
      "    -> For 10 markers\n"
     ]
    },
    {
     "name": "stderr",
     "output_type": "stream",
     "text": [
      "/home/aheydari/anaconda3/lib/python3.9/site-packages/sklearn/neighbors/_classification.py:211: FutureWarning: Unlike other reduction functions (e.g. `skew`, `kurtosis`), the default behavior of `mode` typically preserves the axis it acts along. In SciPy 1.11.0, this behavior will change: the default value of `keepdims` will become False, the `axis` over which the statistic is taken will be eliminated, and the value None will no longer be accepted. Set `keepdims` to True or False to avoid this warning.\n",
      "  mode, _ = stats.mode(_y[neigh_ind, k], axis=1)\n"
     ]
    },
    {
     "name": "stdout",
     "output_type": "stream",
     "text": [
      "    -> Weighted F1 for selected 10 RANDOM markers: 0.6223\n",
      "Variance Explained: 0.15720289666205645%\n",
      "----------------------\n",
      "    -> For 5 markers\n"
     ]
    },
    {
     "name": "stderr",
     "output_type": "stream",
     "text": [
      "/home/aheydari/anaconda3/lib/python3.9/site-packages/sklearn/neighbors/_classification.py:211: FutureWarning: Unlike other reduction functions (e.g. `skew`, `kurtosis`), the default behavior of `mode` typically preserves the axis it acts along. In SciPy 1.11.0, this behavior will change: the default value of `keepdims` will become False, the `axis` over which the statistic is taken will be eliminated, and the value None will no longer be accepted. Set `keepdims` to True or False to avoid this warning.\n",
      "  mode, _ = stats.mode(_y[neigh_ind, k], axis=1)\n"
     ]
    },
    {
     "name": "stdout",
     "output_type": "stream",
     "text": [
      "    -> Weighted F1 for selected 5 RANDOM markers: 0.4940\n",
      "Variance Explained: 0.07876634481362998%\n",
      "----------------------\n",
      ">-< Done\n"
     ]
    }
   ],
   "source": [
    "adata = sc.read(path_to_data)\n",
    "np.random.seed(0)\n",
    "# separating train and test split\n",
    "adata_train = adata[adata.obs.split==\"train\"]\n",
    "adata_test = adata[adata.obs.split==\"test\"]\n",
    "\n",
    "# getting numerical data for training and testing from the split ann data\n",
    "data_train = np.array(adata_train.X.todense())\n",
    "labels_train  = adata_train.obs.cluster.to_numpy()\n",
    "names_train = list(adata_train.obs.celltypes.to_numpy())\n",
    "\n",
    "data_test = np.array(adata_test.X.todense())\n",
    "labels_test  = adata_test.obs.cluster.to_numpy()\n",
    "names_test = list(adata_test.obs.celltypes.to_numpy())\n",
    "\n",
    "# running scGeneFit for various number of desired top genes\n",
    "top_n = [5, 10, 20, 50, 100, 200, 300][::-1]\n",
    "all_markers = []\n",
    "\n",
    "for n in top_n:\n",
    "    print(f\"    -> For {n} markers\")\n",
    "    random_markers= np.random.randint(low=0, high=data_train.shape[1], size=n)\n",
    "    accuracy_markers=performance(data_train[:,random_markers], labels_train.astype(int), data_test[:,random_markers], labels_test.astype(int), clf)\n",
    "    all_markers.append(markers)\n",
    "    \n",
    "    print(f\"    -> Weighted F1 for selected {n} RANDOM markers: {accuracy_markers:.04f}\")\n",
    "    print(f\"Variance Explained: {explained_variance_ratio(full_dimension_data=np.array(adata.X.todense()), train_data = data_train[:,random_markers], test_data = data_test[:,random_markers])*100}%\")\n",
    "\n",
    "    print(\"----------------------\")\n",
    "    \n",
    "print(\">-< Done\")"
   ]
  },
  {
   "cell_type": "code",
   "execution_count": null,
   "id": "4121c333-7d64-4def-a8a8-576bf1924216",
   "metadata": {},
   "outputs": [],
   "source": []
  }
 ],
 "metadata": {
  "kernelspec": {
   "display_name": "NACTKernel",
   "language": "python",
   "name": "nactkernel"
  },
  "language_info": {
   "codemirror_mode": {
    "name": "ipython",
    "version": 3
   },
   "file_extension": ".py",
   "mimetype": "text/x-python",
   "name": "python",
   "nbconvert_exporter": "python",
   "pygments_lexer": "ipython3",
   "version": "3.9.7"
  }
 },
 "nbformat": 4,
 "nbformat_minor": 5
}

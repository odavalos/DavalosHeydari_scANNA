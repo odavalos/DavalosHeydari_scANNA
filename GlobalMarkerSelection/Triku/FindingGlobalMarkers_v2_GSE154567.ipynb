{
 "cells": [
  {
   "cell_type": "markdown",
   "id": "21f30869-2c7c-4417-bcd8-f232417927e4",
   "metadata": {},
   "source": [
    "# scANNA Tutorial: Using scANNA's Interpretability for Selecting Most Important Global Features\n",
    "## For GSE154567 Data\n",
    "\n",
    "In this notebook, we will run additional comparisons against two feature selection tools. **We will be skipping loading and running scANNA since we have already evaluated its performance.**\n",
    "\n",
    "- [Triku](https://doi.org/10.1093/gigascience/giac017) is a python tool that uses nearest-neighbors for identification of features"
   ]
  },
  {
   "cell_type": "code",
   "execution_count": 2,
   "id": "02c74058-f1ba-4821-8e93-d1b977d63222",
   "metadata": {
    "tags": []
   },
   "outputs": [],
   "source": [
    "# from nact.utilities import *\n",
    "# from nact import AttentionQuery, scanpy_to_dataloader\n",
    "import numpy as np\n",
    "import os\n",
    "import pandas as pd\n",
    "import scanpy as sc\n",
    "from sklearn.metrics import f1_score, accuracy_score\n",
    "from sklearn.neighbors import NearestCentroid, KNeighborsClassifier\n",
    "import torch\n",
    "import time\n",
    "import triku as tk\n",
    "from typing import Union\n",
    "from xgboost import XGBClassifier "
   ]
  },
  {
   "cell_type": "code",
   "execution_count": 3,
   "id": "246488d3-9d9f-460b-89df-2614cf6608ed",
   "metadata": {},
   "outputs": [],
   "source": [
    "%load_ext autoreload\n",
    "%autoreload 2"
   ]
  },
  {
   "cell_type": "markdown",
   "id": "10b556d1-4753-44ea-a037-9be2d65535a8",
   "metadata": {},
   "source": [
    "Here we define some general functions for our analyses"
   ]
  },
  {
   "cell_type": "code",
   "execution_count": 4,
   "id": "8438dca3-691b-4f93-8413-d448f1658fe0",
   "metadata": {},
   "outputs": [],
   "source": [
    "def get_logp1_variance(data:np.array)->float:\n",
    "    \"\"\" Function for calculating the variance of a Log(x+1) transformed data\"\"\"\n",
    "    return np.var(np.log(data + 1), axis=0).sum()\n",
    "\n",
    "def explained_variance_ratio(full_dimension_data:np.array, \n",
    "                             train_data:np.array, \n",
    "                             test_data:np.array)->float:\n",
    "    \"\"\" Utility function for calculating the fraction of total variance\"\"\"\n",
    "    all_data = np.concatenate((train_data, test_data), axis=0)\n",
    "    return (get_logp1_variance(all_data) / \n",
    "            get_logp1_variance(full_dimension_data))\n",
    "\n",
    "def measure_performance(X_train:np.array, \n",
    "                y_train:np.array, \n",
    "                X_test:np.array, \n",
    "                y_test:np.array, \n",
    "                classifer: Union[NearestCentroid, KNeighborsClassifier, XGBClassifier], \n",
    "                scoring : str = 'weighted', \n",
    "                classifier_name : str = None):\n",
    "    \"\"\" Function for automating classification and calculating F1 score\"\"\"\n",
    "    start_time = time.time()\n",
    "    classifer.fit(X_train, y_train)\n",
    "    y_pred = classifer.predict(X_test)\n",
    "    f1_accuracy = f1_score(y_test, y_pred, average=scoring)\n",
    "    if classifier_name is not None:\n",
    "        print(f\"For {classifier_name} classifier:\")\n",
    "        \n",
    "    print(f\"F1 ({scoring}) Score: {f1_accuracy}\")\n",
    "    print(f\"Training and classification time took: {time.time() - start_time}\")\n",
    "    print()\n",
    "    return f1_accuracy\n",
    "    "
   ]
  },
  {
   "cell_type": "markdown",
   "id": "2a887473-86cf-4334-b1fd-bae1d81a1c13",
   "metadata": {},
   "source": [
    "# Define Various Classification Models for Validation"
   ]
  },
  {
   "cell_type": "code",
   "execution_count": 5,
   "id": "e345bd94-1d60-469c-b7f6-38283d5b092a",
   "metadata": {},
   "outputs": [],
   "source": [
    "nearest_centroid_classifier=NearestCentroid()\n",
    "\n",
    "knn_classifier= KNeighborsClassifier(n_neighbors=3, \n",
    "                                     n_jobs=-1)\n",
    "\n",
    "xgboost_classifier = XGBClassifier(n_estimators=50, \n",
    "                                   max_depth=2, \n",
    "                                   learning_rate=0.09, \n",
    "                                   objective='binary:logistic', \n",
    "                                   n_jobs=-1)"
   ]
  },
  {
   "cell_type": "code",
   "execution_count": 6,
   "id": "6cf219de-0198-4edd-b15b-fcd41a1dfb44",
   "metadata": {},
   "outputs": [],
   "source": [
    "# label for the dataset folder we want to make\n",
    "dataset_name = \"GSE154567\"\n",
    "# directory for specific dataset\n",
    "dataset_dir = f\"./{dataset_name}\" \n",
    "# subdir where we store cluster attention and attention means\n",
    "results = f\"./{dataset_name}/results\" \n",
    "# subdir where we store cluster enrichment plots\n",
    "plots = f\"./{dataset_dir}/plots\" "
   ]
  },
  {
   "cell_type": "code",
   "execution_count": 7,
   "id": "8d006b44-e43a-4730-985d-eb31fe8734ab",
   "metadata": {},
   "outputs": [],
   "source": [
    "path_to_data = (\"/Users/oscardavalos/Documents/Upload2Cluster/GSE154567_qc_hvg_anno_5k_raw_train_split.h5ad\")"
   ]
  },
  {
   "cell_type": "markdown",
   "id": "e32d1d37-c3fd-4038-819d-88221cae69e6",
   "metadata": {
    "tags": []
   },
   "source": [
    "# Top Feature Selection with Triku"
   ]
  },
  {
   "cell_type": "code",
   "execution_count": 9,
   "id": "7f8f0e3f-b23a-43d1-82f3-e4deb892d0fb",
   "metadata": {},
   "outputs": [],
   "source": [
    "adata = sc.read(path_to_data)\n",
    "adata_t = adata"
   ]
  },
  {
   "cell_type": "code",
   "execution_count": 10,
   "id": "a2bf1cd5-5e56-4f63-a0f3-45ba2bcd0f31",
   "metadata": {},
   "outputs": [],
   "source": [
    "sc.pp.log1p(adata_t)\n",
    "sc.pp.pca(adata_t)\n",
    "sc.pp.neighbors(adata_t, metric='cosine', n_neighbors=int(0.5 * len(adata_t) ** 0.5))"
   ]
  },
  {
   "cell_type": "code",
   "execution_count": 11,
   "id": "37d2908f-eb03-4905-851a-a79ac15c4d4b",
   "metadata": {},
   "outputs": [],
   "source": [
    "# adata"
   ]
  },
  {
   "cell_type": "code",
   "execution_count": 12,
   "id": "fbc10b7f-e483-40f6-afd9-84b98f8dcfd9",
   "metadata": {},
   "outputs": [
    {
     "name": "stdout",
     "output_type": "stream",
     "text": [
      "----------------------------------\n",
      " Triku Results for 10 top genes:\n",
      "For Nearest Centroid classifier:\n",
      "F1 (weighted) Score: 0.07099173485091521\n",
      "Training and classification time took: 0.007838010787963867\n",
      "\n",
      "For KNN classifier:\n",
      "F1 (weighted) Score: 0.10558461004292156\n",
      "Training and classification time took: 4.507984161376953\n",
      "\n",
      "For XGBoost classifier:\n",
      "F1 (weighted) Score: 0.2998174515838615\n",
      "Training and classification time took: 0.8604822158813477\n",
      "\n",
      "Percentage of Total Variance Explained: 0.07962104282341897%\n",
      "----------------------------------\n",
      "----------------------------------\n",
      " Triku Results for 25 top genes:\n",
      "For Nearest Centroid classifier:\n",
      "F1 (weighted) Score: 0.1042451967082132\n",
      "Training and classification time took: 0.010332107543945312\n",
      "\n",
      "For KNN classifier:\n",
      "F1 (weighted) Score: 0.14231199734057107\n",
      "Training and classification time took: 37.723308086395264\n",
      "\n",
      "For XGBoost classifier:\n",
      "F1 (weighted) Score: 0.3223340303377949\n",
      "Training and classification time took: 1.181645154953003\n",
      "\n",
      "Percentage of Total Variance Explained: 0.32082151155918837%\n",
      "----------------------------------\n",
      "----------------------------------\n",
      " Triku Results for 50 top genes:\n",
      "For Nearest Centroid classifier:\n",
      "F1 (weighted) Score: 0.12704206791270994\n",
      "Training and classification time took: 0.013299942016601562\n",
      "\n",
      "For KNN classifier:\n",
      "F1 (weighted) Score: 0.18586403841637789\n",
      "Training and classification time took: 41.43800592422485\n",
      "\n",
      "For XGBoost classifier:\n",
      "F1 (weighted) Score: 0.34037943330592807\n",
      "Training and classification time took: 1.828916311264038\n",
      "\n",
      "Percentage of Total Variance Explained: 0.6312570068985224%\n",
      "----------------------------------\n",
      "----------------------------------\n",
      " Triku Results for 100 top genes:\n",
      "For Nearest Centroid classifier:\n",
      "F1 (weighted) Score: 0.2589493735248591\n",
      "Training and classification time took: 0.01747298240661621\n",
      "\n",
      "For KNN classifier:\n",
      "F1 (weighted) Score: 0.4548350303889611\n",
      "Training and classification time took: 41.43772602081299\n",
      "\n",
      "For XGBoost classifier:\n",
      "F1 (weighted) Score: 0.4205221568796417\n",
      "Training and classification time took: 3.057596206665039\n",
      "\n",
      "Percentage of Total Variance Explained: 1.4662820845842361%\n",
      "----------------------------------\n",
      "----------------------------------\n",
      " Triku Results for 200 top genes:\n",
      "For Nearest Centroid classifier:\n",
      "F1 (weighted) Score: 0.4754843636376538\n",
      "Training and classification time took: 0.02324819564819336\n",
      "\n",
      "For KNN classifier:\n",
      "F1 (weighted) Score: 0.5651947588243481\n",
      "Training and classification time took: 41.42663335800171\n",
      "\n",
      "For XGBoost classifier:\n",
      "F1 (weighted) Score: 0.5623219159138763\n",
      "Training and classification time took: 5.505332946777344\n",
      "\n",
      "Percentage of Total Variance Explained: 3.58954556286335%\n",
      "----------------------------------\n",
      "----------------------------------\n",
      " Triku Results for 300 top genes:\n",
      "For Nearest Centroid classifier:\n",
      "F1 (weighted) Score: 0.7290147730756201\n",
      "Training and classification time took: 0.03168892860412598\n",
      "\n",
      "For KNN classifier:\n",
      "F1 (weighted) Score: 0.7411606642648911\n",
      "Training and classification time took: 50.815815925598145\n",
      "\n",
      "For XGBoost classifier:\n",
      "F1 (weighted) Score: 0.7441011677181325\n",
      "Training and classification time took: 7.946602821350098\n",
      "\n",
      "Percentage of Total Variance Explained: 5.908544361591339%\n",
      "----------------------------------\n"
     ]
    }
   ],
   "source": [
    "top_n = [10, 25, 50, 100, 200, 300]\n",
    "start = time.time()\n",
    "\n",
    "triku_nc_acc_dict = {}\n",
    "triku_knn_acc_dict = {}\n",
    "triku_xgb_acc_dict = {}\n",
    "triku_variance_dict = {}\n",
    "\n",
    "\n",
    "for n_genes in top_n:\n",
    "    print(\"----------------------------------\")\n",
    "    print(f\" Triku Results for {n_genes} top genes:\")\n",
    "    \n",
    "    # sc.pp.log1p(adata)\n",
    "    # sc.pp.pca(adata)\n",
    "    # sc.pp.neighbors(adata, metric='cosine', n_neighbors=int(0.5 * len(adata) ** 0.5))\n",
    "    tk.tl.triku(adata_t,\n",
    "                n_features=n_genes, \n",
    "                use_raw=True)\n",
    "    \n",
    "    hvg_adata = adata[:, adata_t.var.highly_variable]\n",
    "    adata_train = hvg_adata[hvg_adata.obs.split==\"train\"]\n",
    "    adata_test = hvg_adata[hvg_adata.obs.split==\"test\"]\n",
    "    \n",
    "    data_train_for_triku = np.array(adata_train.X.todense())\n",
    "    labels_train_for_triku  = adata_train.obs.cluster.to_numpy()\n",
    "\n",
    "    data_test_for_triku = np.array(adata_test.X.todense())\n",
    "    labels_test_for_triku  = adata_test.obs.cluster.to_numpy()\n",
    "\n",
    "    triku_nc_acc_dict[n_genes] = measure_performance(data_train_for_triku, \n",
    "                                        labels_train_for_triku ,\n",
    "                                        data_test_for_triku, \n",
    "                                        labels_test_for_triku, \n",
    "                                        classifer=nearest_centroid_classifier,\n",
    "                                        classifier_name = \"Nearest Centroid\",\n",
    "                                        )\n",
    "\n",
    "    triku_knn_acc_dict[n_genes] = measure_performance(data_train_for_triku, \n",
    "                                                       labels_train_for_triku ,\n",
    "                                                       data_test_for_triku, \n",
    "                                                       labels_test_for_triku, \n",
    "                                                       classifer=knn_classifier,\n",
    "                                                       classifier_name = \"KNN\",\n",
    "                                                       )\n",
    "\n",
    "    triku_xgb_acc_dict[n_genes] = measure_performance(data_train_for_triku, \n",
    "                                                   labels_train_for_triku ,\n",
    "                                                   data_test_for_triku, \n",
    "                                                   labels_test_for_triku, \n",
    "                                                   classifer=xgboost_classifier,\n",
    "                                                   classifier_name = \"XGBoost\",\n",
    "                                                   )\n",
    "    var_frac_explained = explained_variance_ratio(\n",
    "            full_dimension_data=np.array(adata.X.todense()), \n",
    "            train_data = data_train_for_triku, \n",
    "            test_data = data_test_for_triku)\n",
    "    triku_variance_dict[n_genes] = var_frac_explained\n",
    "    print(f\"Percentage of Total Variance Explained: {var_frac_explained*100}%\")\n",
    "\n",
    "    print(\"----------------------------------\")"
   ]
  }
 ],
 "metadata": {
  "kernelspec": {
   "display_name": "scrnaseq_v2",
   "language": "python",
   "name": "scrnaseq_v2"
  },
  "language_info": {
   "codemirror_mode": {
    "name": "ipython",
    "version": 3
   },
   "file_extension": ".py",
   "mimetype": "text/x-python",
   "name": "python",
   "nbconvert_exporter": "python",
   "pygments_lexer": "ipython3",
   "version": "3.9.13"
  }
 },
 "nbformat": 4,
 "nbformat_minor": 5
}
